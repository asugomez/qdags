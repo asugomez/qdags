{
 "cells": [
  {
   "cell_type": "code",
   "execution_count": 17,
   "id": "bfce2080",
   "metadata": {},
   "outputs": [],
   "source": [
    "import pandas as pd\n",
    "import matplotlib.pyplot as plt\n",
    "import matplotlib.gridspec as gridspec\n",
    "import numpy as np\n",
    "import seaborn as sns"
   ]
  },
  {
   "cell_type": "code",
   "execution_count": 4,
   "id": "1513dcea",
   "metadata": {},
   "outputs": [],
   "source": [
    "# 17 graficos\n",
    "# cada query con sus 9 algoritmos (Tradicional y los mios) para k=1000 (total computo)"
   ]
  },
  {
   "cell_type": "code",
   "execution_count": null,
   "id": "1d5c87c6",
   "metadata": {},
   "outputs": [],
   "source": []
  },
  {
   "cell_type": "code",
   "execution_count": 18,
   "id": "42ff77da",
   "metadata": {},
   "outputs": [],
   "source": [
    "alg_label = [\"G. LOUDS Backtrack.\", \n",
    "             \"G. LOUDS Op. Order\",\n",
    "                \"G. DFUDS Backtrack.\"]#, \n",
    "    #\"G. DFUDS Op. Order\",\n",
    "              #  \"R. LOUDS Backtrack.\", \"R. LOUDS Op. Order\",\n",
    "               # \"R. DFUDS Backtrack.\", \"R. DFUDS Op. Order\"]\n",
    "queries_label = [\"j3\",\"j4\",\"p2\",\"p3\",\"p4\",\"s1\",\"s2\",\"s3\",\"s4\",\"t2\",\"t3\",\"t4\",\"ti2\",\"ti3\",\"ti4\",\"tr1\",\"tr2\"]\n",
    "queries_title = [\"J3\",\"J4\",\"P2\",\"P3\",\"P4\",\"S1\",\"S2\",\"S3\",\"S4\",\"T2\",\"T3\",\"T4\",\"Ti2\",\"Ti3\",\"Ti4\",\"Tr1\",\"Tr2\"]"
   ]
  },
  {
   "cell_type": "code",
   "execution_count": 27,
   "id": "6a220818",
   "metadata": {},
   "outputs": [
    {
     "name": "stdout",
     "output_type": "stream",
     "text": [
      "j3-f0-k1000.txt\n",
      "j4-f0-k1000.txt\n",
      "p2-f0-k1000.txt\n",
      "p3-f0-k1000.txt\n",
      "p4-f0-k1000.txt\n",
      "s1-f0-k1000.txt\n",
      "s2-f0-k1000.txt\n",
      "s3-f0-k1000.txt\n",
      "s4-f0-k1000.txt\n",
      "t2-f0-k1000.txt\n",
      "t3-f0-k1000.txt\n",
      "t4-f0-k1000.txt\n",
      "ti2-f0-k1000.txt\n",
      "ti3-f0-k1000.txt\n",
      "ti4-f0-k1000.txt\n",
      "tr1-f0-k1000.txt\n",
      "tr2-f0-k1000.txt\n"
     ]
    }
   ],
   "source": [
    "# box plots for each query\n",
    "# TODO: make file j3... variable\n",
    "# TDO hacer un for para cada query y función y tamaño k\n",
    "data = []\n",
    "# Replication with *\n",
    "rows, cols = 17, 3 #9 TODO: change this\n",
    "row_template = [0] * cols\n",
    "data = [row_template[:] for _ in range(rows)]\n",
    "\n",
    "for type_fun in [0]:#,1]:\n",
    "    for k in [1000]: # TODO: maybe only k=1000 ? \n",
    "        for i,query in enumerate(queries_label): #[j3,j4,p2,p3,p4,s1,s2,s3,s4,t2,t3,t4,ti2,ti3,ti4,tr1,tr2]:\n",
    "            file = f\"{query}-f{type_fun}-k{k}.txt\"\n",
    "            print(file)\n",
    "            partialLoudsBack = np.loadtxt(f'../partial/louds/backtracking/{file}', dtype=float)\n",
    "            partialLoudsNon = np.loadtxt(f'../partial/louds/backtracking/{file}', dtype=float)# np.loadtxt(f'../partial/louds/nonFixedQueue/{file}', dtype=float)\n",
    "            partialDfudsBack = np.loadtxt(f'../partial/louds/backtracking/{file}', dtype=float)#np.loadtxt(f'../partial/dfuds/backtracking/{file}', dtype=float)\n",
    "            #partialDfudsNon = np.loadtxt(f'../partial/louds/backtracking/{file}', dtype=float)#np.loadtxt(f'../partial/dfuds/nonFixedQueue/{file}', dtype=float)\n",
    "\n",
    "            #rankedLoudsBack = np.loadtxt(f'../partial/louds/backtracking/{file}', dtype=float)#np.loadtxt(f'../ranked/louds/backtracking/{file}', dtype=float)\n",
    "            #rankedLoudsNon = np.loadtxt(f'../partial/louds/backtracking/{file}', dtype=float)#np.loadtxt(f'../ranked/louds/nonFixedQueue/{file}', dtype=float)\n",
    "            #rankedDfudsBack = np.loadtxt(f'../partial/louds/backtracking/{file}', dtype=float)#np.loadtxt(f'../ranked/dfuds/backtracking/{file}', dtype=float)\n",
    "            #rankedDfudsNon = np.loadtxt(f'../partial/louds/backtracking/{file}', dtype=float)#np.loadtxt(f'../ranked/dfuds/nonFixedQueue/{file}', dtype=float)\n",
    "            \n",
    "            #traditional = np.loadtxt(f'../partial/louds/backtracking/{file}', dtype=float)#np.loadtxt(f'../all/{query}.txt',dtype=float)\n",
    "                \n",
    "            # Convertir a floats explícitamente (aunque np.loadtxt ya debería cargar como float)\n",
    "            partialLoudsBack = partialLoudsBack.astype(float)\n",
    "            partialLoudsNon = partialLoudsNon.astype(float)\n",
    "            partialDfudsBack = partialDfudsBack.astype(float)\n",
    "      \n",
    "            data[i] = [partialLoudsBack, partialLoudsNon, partialDfudsBack]#, \n",
    "            #[traditional, \n",
    "            #           partialLoudsBack, partialLoudsNon, partialDfudsBack]#, \n",
    "                #partialDfudsNon, rankedLoudsBack, rankedLoudsNon, rankedDfudsBack, rankedDfudsNon]\n",
    "                \n",
    "            #for j,alg in enumerate(data[i]):\n",
    "             #   if len(alg) < 50: # Rellenar con NaN si hay menos elementos\n",
    "              #      data[i][j] = np.pad(alg, (0, 50 - len(alg)), constant_values=np.nan)\n",
    "         \n",
    "                        \n",
    "                        \n",
    "                        \n",
    "                        \n",
    "                        \n",
    "                        "
   ]
  },
  {
   "cell_type": "code",
   "execution_count": 29,
   "id": "b4fb74f5",
   "metadata": {},
   "outputs": [],
   "source": [
    "#traditional\n",
    "# data [i] --> en cada fila es una query (17 rows)\n",
    "# data[i][j] --> un algoritmo en cada columna (8 cols)\n"
   ]
  },
  {
   "cell_type": "code",
   "execution_count": 37,
   "id": "997ab202",
   "metadata": {},
   "outputs": [
    {
     "data": {
      "text/plain": [
       "array([2.30540e-02, 2.83830e-02, 1.30699e-01, 4.59590e-02, 2.81930e-02,\n",
       "       6.79900e-02, 8.41580e-02, 4.01810e-02, 9.89200e-03, 8.29318e-01,\n",
       "       1.44010e-02, 9.38790e-02, 1.56300e-03, 6.49460e-02, 6.46980e-02,\n",
       "       7.35330e-02, 1.06697e-01, 1.90772e-01, 2.31180e-02, 3.81717e+00,\n",
       "       5.89820e-02, 1.92855e-01, 4.01580e-02, 1.12570e-02, 5.50050e-02,\n",
       "       1.97497e-01, 6.84759e-01, 1.01550e-01, 9.69650e-02, 6.92310e-02,\n",
       "       2.06990e-02, 1.34027e-01, 4.58790e-02, 4.72600e-02, 7.15610e-02,\n",
       "       1.21417e+00, 2.87050e-02, 4.67200e-03, 5.50100e-02, 1.43083e-01,\n",
       "       2.29566e-01, 3.86200e-03, 2.06596e-01, 2.21880e-02, 2.95900e-03,\n",
       "       1.00000e-02, 5.68870e-02, 7.64510e-02, 3.35750e-02, 5.35200e-02])"
      ]
     },
     "execution_count": 37,
     "metadata": {},
     "output_type": "execute_result"
    }
   ],
   "source": [
    "#data[0][2] = data[0][5]\n",
    "data[16][2]"
   ]
  },
  {
   "cell_type": "code",
   "execution_count": 43,
   "id": "5f89c6e9",
   "metadata": {},
   "outputs": [],
   "source": [
    "# colors:\n",
    "# https://matplotlib.org/stable/gallery/color/named_colors.html\n",
    "colors = ['hotpink','red','peru']#, 'lightsalmon', 'gold', 'dodgerblue', 'darkturquoise', 'mediumspringgreen', 'lime']\n",
    "colors = ['red', 'peru','lightsalmon']#, 'gold', 'dodgerblue', 'darkturquoise', 'mediumspringgreen', 'lime']\n"
   ]
  },
  {
   "cell_type": "code",
   "execution_count": 39,
   "id": "a5c9d4fb",
   "metadata": {},
   "outputs": [
    {
     "data": {
      "text/plain": [
       "45"
      ]
     },
     "execution_count": 39,
     "metadata": {},
     "output_type": "execute_result"
    }
   ],
   "source": [
    "len(data[14][2])"
   ]
  },
  {
   "cell_type": "code",
   "execution_count": 44,
   "id": "96ee8c13",
   "metadata": {},
   "outputs": [
    {
     "data": {
      "image/png": "[encoded data removed]",
      "text/plain": [
       "<Figure size 1008x720 with 18 Axes>"
      ]
     },
     "metadata": {
      "needs_background": "light"
     },
     "output_type": "display_data"
    }
   ],
   "source": [
    "# Crear la figura\n",
    "fig = plt.figure(figsize=(14,10))\n",
    "\n",
    "# Crear un GridSpec con la distribución deseada\n",
    "gs = gridspec.GridSpec(3, 6, figure=fig, hspace=0.1, wspace=0.2)\n",
    "\n",
    "# Añadir los subplots a la figura\n",
    "j3 = fig.add_subplot(gs[0, 0])\n",
    "j4 = fig.add_subplot(gs[0, 1], sharex=j3, sharey=j3)\n",
    "p2 = fig.add_subplot(gs[0, 2], sharex=j3, sharey=j3)\n",
    "p3 = fig.add_subplot(gs[0, 3], sharex=j3, sharey=j3)\n",
    "p4 = fig.add_subplot(gs[0, 4], sharex=j3, sharey=j3)\n",
    "color_legend = fig.add_subplot(gs[0, 5]) # Space for the legend\n",
    "color_legend.axis('off')  # Hide the axis\n",
    "\n",
    "s1 = fig.add_subplot(gs[1, 0], sharex=j3, sharey=j3)\n",
    "s2 = fig.add_subplot(gs[1, 1], sharex=j3, sharey=j3)\n",
    "s3 = fig.add_subplot(gs[1, 2], sharex=j3, sharey=j3)\n",
    "s4 = fig.add_subplot(gs[1, 3], sharex=j3, sharey=j3)\n",
    "t2 = fig.add_subplot(gs[1, 4], sharex=j3, sharey=j3)\n",
    "t3 = fig.add_subplot(gs[1, 5], sharex=j3, sharey=j3)\n",
    "\n",
    "t4 = fig.add_subplot(gs[2, 0], sharex=j3, sharey=j3)\n",
    "ti2 = fig.add_subplot(gs[2, 1], sharex=j3, sharey=j3)\n",
    "ti3 = fig.add_subplot(gs[2, 2], sharex=j3, sharey=j3)\n",
    "ti4 = fig.add_subplot(gs[2, 3], sharex=j3, sharey=j3)\n",
    "tr1 = fig.add_subplot(gs[2, 4], sharex=j3, sharey=j3)\n",
    "tr2 = fig.add_subplot(gs[2, 5], sharex=j3, sharey=j3)\n",
    "\n",
    "j3.set_ylabel('Time (ms)')\n",
    "s1.set_ylabel('Time (ms)')\n",
    "t4.set_ylabel('Time (ms)')\n",
    "\n",
    "\n",
    "for i,query in enumerate([j3,j4,p2,p3,p4,s1,s2,s3,s4,t2,t3,t4,ti2,ti3,ti4,tr1,tr2]):\n",
    "    for j, alg in enumerate(alg_label):\n",
    "        bp = query.boxplot(data[i][j], positions=[j],whis=1, widths=0.4, patch_artist=True, \n",
    "                      boxprops=dict(facecolor=colors[j],color=colors[j], label=alg_label[j]),\n",
    "                        medianprops=dict(color='blueviolet'))\n",
    "    query.set_yscale('log')\n",
    "    query.set_title(queries_title[i])\n",
    "    query.axes.get_xaxis().set_visible(False)\n",
    "    if(query != j3 and query != s1 and query != t4):\n",
    "        query.axes.get_yaxis().set_visible(False)\n",
    "        \n",
    "        \n",
    "handles, labels = j3.get_legend_handles_labels()\n",
    "color_legend.legend(handles, labels, loc='center', fontsize='x-small')\n",
    "    \n",
    "    \n",
    "plt.savefig('/Users/asugomez/Desktop/Magister/Tesis/tesisQdags/imagenes/all_queries_k_1000.pdf')\n",
    "\n",
    "plt.show()"
   ]
  },
  {
   "cell_type": "code",
   "execution_count": null,
   "id": "479333ec",
   "metadata": {},
   "outputs": [],
   "source": [
    "\n"
   ]
  },
  {
   "cell_type": "code",
   "execution_count": null,
   "id": "709bc4e4",
   "metadata": {},
   "outputs": [],
   "source": []
  },
  {
   "cell_type": "code",
   "execution_count": null,
   "id": "e1b24c5a",
   "metadata": {},
   "outputs": [],
   "source": []
  },
  {
   "cell_type": "code",
   "execution_count": null,
   "id": "239d6ad9",
   "metadata": {},
   "outputs": [],
   "source": []
  }
 ],
 "metadata": {
  "kernelspec": {
   "display_name": "Python 3 (ipykernel)",
   "language": "python",
   "name": "python3"
  },
  "language_info": {
   "codemirror_mode": {
    "name": "ipython",
    "version": 3
   },
   "file_extension": ".py",
   "mimetype": "text/x-python",
   "name": "python",
   "nbconvert_exporter": "python",
   "pygments_lexer": "ipython3",
   "version": "3.9.10"
  }
 },
 "nbformat": 4,
 "nbformat_minor": 5
}
