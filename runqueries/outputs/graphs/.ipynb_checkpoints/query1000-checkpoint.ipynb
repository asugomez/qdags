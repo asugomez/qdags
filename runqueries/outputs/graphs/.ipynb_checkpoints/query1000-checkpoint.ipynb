{
 "cells": [
  {
   "cell_type": "code",
   "execution_count": 1,
   "id": "bfce2080",
   "metadata": {},
   "outputs": [],
   "source": [
    "import pandas as pd\n",
    "import matplotlib.pyplot as plt\n",
    "import matplotlib.gridspec as gridspec\n",
    "import numpy as np\n",
    "import seaborn as sns"
   ]
  },
  {
   "cell_type": "code",
   "execution_count": 4,
   "id": "1513dcea",
   "metadata": {},
   "outputs": [],
   "source": [
    "# 17 graficos\n",
    "# cada query con sus 9 algoritmos (Tradicional y los mios) para k=1000 (total computo)"
   ]
  },
  {
   "cell_type": "code",
   "execution_count": null,
   "id": "1d5c87c6",
   "metadata": {},
   "outputs": [],
   "source": []
  },
  {
   "cell_type": "code",
   "execution_count": 2,
   "id": "42ff77da",
   "metadata": {},
   "outputs": [],
   "source": [
    "alg_label = [\"G. LOUDS Backtrack.\", \n",
    "             \"G. LOUDS Op. Order\",\n",
    "             \"G. DFUDS Backtrack.\", \n",
    "             \"G. DFUDS Op. Order\"]\n",
    "              #  \"R. LOUDS Backtrack.\", \"R. LOUDS Op. Order\",\n",
    "               # \"R. DFUDS Backtrack.\", \"R. DFUDS Op. Order\"]\n",
    "queries_label = [\"j3\",\"j4\",\"p2\",\"p3\",\"p4\",\"s1\",\"s2\",\"s3\",\"s4\",\"t2\",\"t3\",\"t4\",\"ti2\",\"ti3\",\"ti4\",\"tr1\",\"tr2\"]\n",
    "queries_title = [\"J3\",\"J4\",\"P2\",\"P3\",\"P4\",\"S1\",\"S2\",\"S3\",\"S4\",\"T2\",\"T3\",\"T4\",\"Ti2\",\"Ti3\",\"Ti4\",\"Tr1\",\"Tr2\"]"
   ]
  },
  {
   "cell_type": "code",
   "execution_count": 4,
   "id": "6a220818",
   "metadata": {},
   "outputs": [
    {
     "name": "stdout",
     "output_type": "stream",
     "text": [
      "j3-f0-k1000.txt\n",
      "j4-f0-k1000.txt\n",
      "p2-f0-k1000.txt\n",
      "p3-f0-k1000.txt\n",
      "p4-f0-k1000.txt\n",
      "s1-f0-k1000.txt\n",
      "s2-f0-k1000.txt\n",
      "s3-f0-k1000.txt\n",
      "s4-f0-k1000.txt\n",
      "t2-f0-k1000.txt\n",
      "t3-f0-k1000.txt\n",
      "t4-f0-k1000.txt\n",
      "ti2-f0-k1000.txt\n",
      "ti3-f0-k1000.txt\n",
      "ti4-f0-k1000.txt\n",
      "tr1-f0-k1000.txt\n",
      "tr2-f0-k1000.txt\n"
     ]
    }
   ],
   "source": [
    "# box plots for each query\n",
    "# TODO: make file j3... variable\n",
    "# TDO hacer un for para cada query y función y tamaño k\n",
    "data = []\n",
    "# Replication with *\n",
    "rows, cols = 17, 4 #9 TODO: change this\n",
    "row_template = [0] * cols\n",
    "data = [row_template[:] for _ in range(rows)]\n",
    "\n",
    "for type_fun in [0]:#,1]:\n",
    "    for k in [1000]: # TODO: maybe only k=1000 ? \n",
    "        for i,query in enumerate(queries_label): #[j3,j4,p2,p3,p4,s1,s2,s3,s4,t2,t3,t4,ti2,ti3,ti4,tr1,tr2]:\n",
    "            file = f\"{query}-f{type_fun}-k{k}.txt\"\n",
    "            print(file)\n",
    "            partialLoudsBack = np.loadtxt(f'../partial/louds/backtracking/{file}', dtype=float)\n",
    "            partialLoudsNon = np.loadtxt(f'../partial/louds/backtracking/{file}', dtype=float)# np.loadtxt(f'../partial/louds/nonFixedQueue/{file}', dtype=float)\n",
    "            partialDfudsBack = np.loadtxt(f'../partial/louds/backtracking/{file}', dtype=float)#np.loadtxt(f'../partial/dfuds/backtracking/{file}', dtype=float)\n",
    "            partialDfudsNon = np.loadtxt(f'../partial/louds/backtracking/{file}', dtype=float)#np.loadtxt(f'../partial/dfuds/nonFixedQueue/{file}', dtype=float)\n",
    "\n",
    "            #rankedLoudsBack = np.loadtxt(f'../partial/louds/backtracking/{file}', dtype=float)#np.loadtxt(f'../ranked/louds/backtracking/{file}', dtype=float)\n",
    "            #rankedLoudsNon = np.loadtxt(f'../partial/louds/backtracking/{file}', dtype=float)#np.loadtxt(f'../ranked/louds/nonFixedQueue/{file}', dtype=float)\n",
    "            #rankedDfudsBack = np.loadtxt(f'../partial/louds/backtracking/{file}', dtype=float)#np.loadtxt(f'../ranked/dfuds/backtracking/{file}', dtype=float)\n",
    "            #rankedDfudsNon = np.loadtxt(f'../partial/louds/backtracking/{file}', dtype=float)#np.loadtxt(f'../ranked/dfuds/nonFixedQueue/{file}', dtype=float)\n",
    "            \n",
    "            #traditional = np.loadtxt(f'../partial/louds/backtracking/{file}', dtype=float)#np.loadtxt(f'../all/{query}.txt',dtype=float)\n",
    "                \n",
    "      \n",
    "            data[i] = [partialLoudsBack, partialLoudsNon, partialDfudsBack, partialDfudsNon]#, \n",
    "            #[traditional, \n",
    "                #, rankedLoudsBack, rankedLoudsNon, rankedDfudsBack, rankedDfudsNon]\n",
    "                \n",
    "            #for j,alg in enumerate(data[i]):\n",
    "             #   if len(alg) < 50: # Rellenar con NaN si hay menos elementos\n",
    "              #      data[i][j] = np.pad(alg, (0, 50 - len(alg)), constant_values=np.nan)\n",
    "         \n",
    "                        \n",
    "                        \n",
    "                        \n",
    "                        \n",
    "                        \n",
    "                        "
   ]
  },
  {
   "cell_type": "code",
   "execution_count": 29,
   "id": "b4fb74f5",
   "metadata": {},
   "outputs": [],
   "source": [
    "#traditional\n",
    "# data [i] --> en cada fila es una query (17 rows)\n",
    "# data[i][j] --> un algoritmo en cada columna (8 cols)\n"
   ]
  },
  {
   "cell_type": "code",
   "execution_count": 10,
   "id": "997ab202",
   "metadata": {},
   "outputs": [
    {
     "data": {
      "text/plain": [
       "array([2.30540e-02, 2.83830e-02, 1.30699e-01, 4.59590e-02, 2.81930e-02,\n",
       "       6.79900e-02, 8.41580e-02, 4.01810e-02, 9.89200e-03, 8.29318e-01,\n",
       "       1.44010e-02, 9.38790e-02, 1.56300e-03, 6.49460e-02, 6.46980e-02,\n",
       "       7.35330e-02, 1.06697e-01, 1.90772e-01, 2.31180e-02, 3.81717e+00,\n",
       "       5.89820e-02, 1.92855e-01, 4.01580e-02, 1.12570e-02, 5.50050e-02,\n",
       "       1.97497e-01, 6.84759e-01, 1.01550e-01, 9.69650e-02, 6.92310e-02,\n",
       "       2.06990e-02, 1.34027e-01, 4.58790e-02, 4.72600e-02, 7.15610e-02,\n",
       "       1.21417e+00, 2.87050e-02, 4.67200e-03, 5.50100e-02, 1.43083e-01,\n",
       "       2.29566e-01, 3.86200e-03, 2.06596e-01, 2.21880e-02, 2.95900e-03,\n",
       "       1.00000e-02, 5.68870e-02, 7.64510e-02, 3.35750e-02, 5.35200e-02])"
      ]
     },
     "execution_count": 10,
     "metadata": {},
     "output_type": "execute_result"
    }
   ],
   "source": [
    "#data[0][2] = data[0][5]\n",
    "data[16][0]"
   ]
  },
  {
   "cell_type": "code",
   "execution_count": 12,
   "id": "5f89c6e9",
   "metadata": {},
   "outputs": [],
   "source": [
    "# colors:\n",
    "# https://matplotlib.org/stable/gallery/color/named_colors.html\n",
    "#colors = ['hotpink','red','peru']#, 'lightsalmon', 'gold', 'dodgerblue', 'darkturquoise', 'mediumspringgreen', 'lime']\n",
    "colors = ['red', 'peru','lightsalmon', 'gold']#, 'dodgerblue', 'darkturquoise', 'mediumspringgreen', 'lime']\n"
   ]
  },
  {
   "cell_type": "code",
   "execution_count": 16,
   "id": "a5c9d4fb",
   "metadata": {},
   "outputs": [
    {
     "data": {
      "text/plain": [
       "45"
      ]
     },
     "execution_count": 16,
     "metadata": {},
     "output_type": "execute_result"
    }
   ],
   "source": [
    "len(data[14][0])"
   ]
  },
  {
   "cell_type": "code",
   "execution_count": 17,
   "id": "96ee8c13",
   "metadata": {},
   "outputs": [
    {
     "ename": "ValueError",
     "evalue": "List of boxplot statistics and `positions` values must have same the length",
     "output_type": "error",
     "traceback": [
      "\u001b[0;31m---------------------------------------------------------------------------\u001b[0m",
      "\u001b[0;31mValueError\u001b[0m                                Traceback (most recent call last)",
      "Input \u001b[0;32mIn [17]\u001b[0m, in \u001b[0;36m<cell line: 35>\u001b[0;34m()\u001b[0m\n\u001b[1;32m     35\u001b[0m \u001b[38;5;28;01mfor\u001b[39;00m i,query \u001b[38;5;129;01min\u001b[39;00m \u001b[38;5;28menumerate\u001b[39m([j3,j4,p2,p3,p4,s1,s2,s3,s4,t2,t3,t4,ti2,ti3,ti4,tr1,tr2]):\n\u001b[1;32m     36\u001b[0m     \u001b[38;5;28;01mfor\u001b[39;00m j, alg \u001b[38;5;129;01min\u001b[39;00m \u001b[38;5;28menumerate\u001b[39m(alg_label):\n\u001b[0;32m---> 37\u001b[0m         bp \u001b[38;5;241m=\u001b[39m \u001b[43mquery\u001b[49m\u001b[38;5;241;43m.\u001b[39;49m\u001b[43mboxplot\u001b[49m\u001b[43m(\u001b[49m\u001b[43mdata\u001b[49m\u001b[43m[\u001b[49m\u001b[43mi\u001b[49m\u001b[43m]\u001b[49m\u001b[43m[\u001b[49m\u001b[43mj\u001b[49m\u001b[43m]\u001b[49m\u001b[43m,\u001b[49m\u001b[43m \u001b[49m\u001b[43mpositions\u001b[49m\u001b[38;5;241;43m=\u001b[39;49m\u001b[43m[\u001b[49m\u001b[43mj\u001b[49m\u001b[43m]\u001b[49m\u001b[43m,\u001b[49m\u001b[43mwhis\u001b[49m\u001b[38;5;241;43m=\u001b[39;49m\u001b[38;5;241;43m1\u001b[39;49m\u001b[43m,\u001b[49m\u001b[43m \u001b[49m\u001b[43mwidths\u001b[49m\u001b[38;5;241;43m=\u001b[39;49m\u001b[38;5;241;43m0.4\u001b[39;49m\u001b[43m,\u001b[49m\u001b[43m \u001b[49m\u001b[43mpatch_artist\u001b[49m\u001b[38;5;241;43m=\u001b[39;49m\u001b[38;5;28;43;01mTrue\u001b[39;49;00m\u001b[43m,\u001b[49m\u001b[43m \u001b[49m\n\u001b[1;32m     38\u001b[0m \u001b[43m                      \u001b[49m\u001b[43mboxprops\u001b[49m\u001b[38;5;241;43m=\u001b[39;49m\u001b[38;5;28;43mdict\u001b[39;49m\u001b[43m(\u001b[49m\u001b[43mfacecolor\u001b[49m\u001b[38;5;241;43m=\u001b[39;49m\u001b[43mcolors\u001b[49m\u001b[43m[\u001b[49m\u001b[43mj\u001b[49m\u001b[43m]\u001b[49m\u001b[43m,\u001b[49m\u001b[43mcolor\u001b[49m\u001b[38;5;241;43m=\u001b[39;49m\u001b[43mcolors\u001b[49m\u001b[43m[\u001b[49m\u001b[43mj\u001b[49m\u001b[43m]\u001b[49m\u001b[43m,\u001b[49m\u001b[43m \u001b[49m\u001b[43mlabel\u001b[49m\u001b[38;5;241;43m=\u001b[39;49m\u001b[43malg_label\u001b[49m\u001b[43m[\u001b[49m\u001b[43mj\u001b[49m\u001b[43m]\u001b[49m\u001b[43m)\u001b[49m\u001b[43m,\u001b[49m\n\u001b[1;32m     39\u001b[0m \u001b[43m                        \u001b[49m\u001b[43mmedianprops\u001b[49m\u001b[38;5;241;43m=\u001b[39;49m\u001b[38;5;28;43mdict\u001b[39;49m\u001b[43m(\u001b[49m\u001b[43mcolor\u001b[49m\u001b[38;5;241;43m=\u001b[39;49m\u001b[38;5;124;43m'\u001b[39;49m\u001b[38;5;124;43mblueviolet\u001b[39;49m\u001b[38;5;124;43m'\u001b[39;49m\u001b[43m)\u001b[49m\u001b[43m)\u001b[49m\n\u001b[1;32m     40\u001b[0m     query\u001b[38;5;241m.\u001b[39mset_yscale(\u001b[38;5;124m'\u001b[39m\u001b[38;5;124mlog\u001b[39m\u001b[38;5;124m'\u001b[39m)\n\u001b[1;32m     41\u001b[0m     query\u001b[38;5;241m.\u001b[39mset_title(queries_title[i])\n",
      "File \u001b[0;32m/Library/Frameworks/Python.framework/Versions/3.9/lib/python3.9/site-packages/matplotlib/__init__.py:1412\u001b[0m, in \u001b[0;36m_preprocess_data.<locals>.inner\u001b[0;34m(ax, data, *args, **kwargs)\u001b[0m\n\u001b[1;32m   1409\u001b[0m \u001b[38;5;129m@functools\u001b[39m\u001b[38;5;241m.\u001b[39mwraps(func)\n\u001b[1;32m   1410\u001b[0m \u001b[38;5;28;01mdef\u001b[39;00m \u001b[38;5;21minner\u001b[39m(ax, \u001b[38;5;241m*\u001b[39margs, data\u001b[38;5;241m=\u001b[39m\u001b[38;5;28;01mNone\u001b[39;00m, \u001b[38;5;241m*\u001b[39m\u001b[38;5;241m*\u001b[39mkwargs):\n\u001b[1;32m   1411\u001b[0m     \u001b[38;5;28;01mif\u001b[39;00m data \u001b[38;5;129;01mis\u001b[39;00m \u001b[38;5;28;01mNone\u001b[39;00m:\n\u001b[0;32m-> 1412\u001b[0m         \u001b[38;5;28;01mreturn\u001b[39;00m \u001b[43mfunc\u001b[49m\u001b[43m(\u001b[49m\u001b[43max\u001b[49m\u001b[43m,\u001b[49m\u001b[43m \u001b[49m\u001b[38;5;241;43m*\u001b[39;49m\u001b[38;5;28;43mmap\u001b[39;49m\u001b[43m(\u001b[49m\u001b[43msanitize_sequence\u001b[49m\u001b[43m,\u001b[49m\u001b[43m \u001b[49m\u001b[43margs\u001b[49m\u001b[43m)\u001b[49m\u001b[43m,\u001b[49m\u001b[43m \u001b[49m\u001b[38;5;241;43m*\u001b[39;49m\u001b[38;5;241;43m*\u001b[39;49m\u001b[43mkwargs\u001b[49m\u001b[43m)\u001b[49m\n\u001b[1;32m   1414\u001b[0m     bound \u001b[38;5;241m=\u001b[39m new_sig\u001b[38;5;241m.\u001b[39mbind(ax, \u001b[38;5;241m*\u001b[39margs, \u001b[38;5;241m*\u001b[39m\u001b[38;5;241m*\u001b[39mkwargs)\n\u001b[1;32m   1415\u001b[0m     auto_label \u001b[38;5;241m=\u001b[39m (bound\u001b[38;5;241m.\u001b[39marguments\u001b[38;5;241m.\u001b[39mget(label_namer)\n\u001b[1;32m   1416\u001b[0m                   \u001b[38;5;129;01mor\u001b[39;00m bound\u001b[38;5;241m.\u001b[39mkwargs\u001b[38;5;241m.\u001b[39mget(label_namer))\n",
      "File \u001b[0;32m/Library/Frameworks/Python.framework/Versions/3.9/lib/python3.9/site-packages/matplotlib/axes/_axes.py:3807\u001b[0m, in \u001b[0;36mAxes.boxplot\u001b[0;34m(self, x, notch, sym, vert, whis, positions, widths, patch_artist, bootstrap, usermedians, conf_intervals, meanline, showmeans, showcaps, showbox, showfliers, boxprops, labels, flierprops, medianprops, meanprops, capprops, whiskerprops, manage_ticks, autorange, zorder)\u001b[0m\n\u001b[1;32m   3804\u001b[0m                     \u001b[38;5;28;01mif\u001b[39;00m ci[\u001b[38;5;241m1\u001b[39m] \u001b[38;5;129;01mis\u001b[39;00m \u001b[38;5;129;01mnot\u001b[39;00m \u001b[38;5;28;01mNone\u001b[39;00m:\n\u001b[1;32m   3805\u001b[0m                         stats[\u001b[38;5;124m'\u001b[39m\u001b[38;5;124mcihi\u001b[39m\u001b[38;5;124m'\u001b[39m] \u001b[38;5;241m=\u001b[39m ci[\u001b[38;5;241m1\u001b[39m]\n\u001b[0;32m-> 3807\u001b[0m artists \u001b[38;5;241m=\u001b[39m \u001b[38;5;28;43mself\u001b[39;49m\u001b[38;5;241;43m.\u001b[39;49m\u001b[43mbxp\u001b[49m\u001b[43m(\u001b[49m\u001b[43mbxpstats\u001b[49m\u001b[43m,\u001b[49m\u001b[43m \u001b[49m\u001b[43mpositions\u001b[49m\u001b[38;5;241;43m=\u001b[39;49m\u001b[43mpositions\u001b[49m\u001b[43m,\u001b[49m\u001b[43m \u001b[49m\u001b[43mwidths\u001b[49m\u001b[38;5;241;43m=\u001b[39;49m\u001b[43mwidths\u001b[49m\u001b[43m,\u001b[49m\n\u001b[1;32m   3808\u001b[0m \u001b[43m                   \u001b[49m\u001b[43mvert\u001b[49m\u001b[38;5;241;43m=\u001b[39;49m\u001b[43mvert\u001b[49m\u001b[43m,\u001b[49m\u001b[43m \u001b[49m\u001b[43mpatch_artist\u001b[49m\u001b[38;5;241;43m=\u001b[39;49m\u001b[43mpatch_artist\u001b[49m\u001b[43m,\u001b[49m\n\u001b[1;32m   3809\u001b[0m \u001b[43m                   \u001b[49m\u001b[43mshownotches\u001b[49m\u001b[38;5;241;43m=\u001b[39;49m\u001b[43mnotch\u001b[49m\u001b[43m,\u001b[49m\u001b[43m \u001b[49m\u001b[43mshowmeans\u001b[49m\u001b[38;5;241;43m=\u001b[39;49m\u001b[43mshowmeans\u001b[49m\u001b[43m,\u001b[49m\n\u001b[1;32m   3810\u001b[0m \u001b[43m                   \u001b[49m\u001b[43mshowcaps\u001b[49m\u001b[38;5;241;43m=\u001b[39;49m\u001b[43mshowcaps\u001b[49m\u001b[43m,\u001b[49m\u001b[43m \u001b[49m\u001b[43mshowbox\u001b[49m\u001b[38;5;241;43m=\u001b[39;49m\u001b[43mshowbox\u001b[49m\u001b[43m,\u001b[49m\n\u001b[1;32m   3811\u001b[0m \u001b[43m                   \u001b[49m\u001b[43mboxprops\u001b[49m\u001b[38;5;241;43m=\u001b[39;49m\u001b[43mboxprops\u001b[49m\u001b[43m,\u001b[49m\u001b[43m \u001b[49m\u001b[43mflierprops\u001b[49m\u001b[38;5;241;43m=\u001b[39;49m\u001b[43mflierprops\u001b[49m\u001b[43m,\u001b[49m\n\u001b[1;32m   3812\u001b[0m \u001b[43m                   \u001b[49m\u001b[43mmedianprops\u001b[49m\u001b[38;5;241;43m=\u001b[39;49m\u001b[43mmedianprops\u001b[49m\u001b[43m,\u001b[49m\u001b[43m \u001b[49m\u001b[43mmeanprops\u001b[49m\u001b[38;5;241;43m=\u001b[39;49m\u001b[43mmeanprops\u001b[49m\u001b[43m,\u001b[49m\n\u001b[1;32m   3813\u001b[0m \u001b[43m                   \u001b[49m\u001b[43mmeanline\u001b[49m\u001b[38;5;241;43m=\u001b[39;49m\u001b[43mmeanline\u001b[49m\u001b[43m,\u001b[49m\u001b[43m \u001b[49m\u001b[43mshowfliers\u001b[49m\u001b[38;5;241;43m=\u001b[39;49m\u001b[43mshowfliers\u001b[49m\u001b[43m,\u001b[49m\n\u001b[1;32m   3814\u001b[0m \u001b[43m                   \u001b[49m\u001b[43mcapprops\u001b[49m\u001b[38;5;241;43m=\u001b[39;49m\u001b[43mcapprops\u001b[49m\u001b[43m,\u001b[49m\u001b[43m \u001b[49m\u001b[43mwhiskerprops\u001b[49m\u001b[38;5;241;43m=\u001b[39;49m\u001b[43mwhiskerprops\u001b[49m\u001b[43m,\u001b[49m\n\u001b[1;32m   3815\u001b[0m \u001b[43m                   \u001b[49m\u001b[43mmanage_ticks\u001b[49m\u001b[38;5;241;43m=\u001b[39;49m\u001b[43mmanage_ticks\u001b[49m\u001b[43m,\u001b[49m\u001b[43m \u001b[49m\u001b[43mzorder\u001b[49m\u001b[38;5;241;43m=\u001b[39;49m\u001b[43mzorder\u001b[49m\u001b[43m)\u001b[49m\n\u001b[1;32m   3816\u001b[0m \u001b[38;5;28;01mreturn\u001b[39;00m artists\n",
      "File \u001b[0;32m/Library/Frameworks/Python.framework/Versions/3.9/lib/python3.9/site-packages/matplotlib/axes/_axes.py:3979\u001b[0m, in \u001b[0;36mAxes.bxp\u001b[0;34m(self, bxpstats, positions, widths, vert, patch_artist, shownotches, showmeans, showcaps, showbox, showfliers, boxprops, whiskerprops, flierprops, medianprops, capprops, meanprops, meanline, manage_ticks, zorder)\u001b[0m\n\u001b[1;32m   3977\u001b[0m     positions \u001b[38;5;241m=\u001b[39m \u001b[38;5;28mlist\u001b[39m(\u001b[38;5;28mrange\u001b[39m(\u001b[38;5;241m1\u001b[39m, N \u001b[38;5;241m+\u001b[39m \u001b[38;5;241m1\u001b[39m))\n\u001b[1;32m   3978\u001b[0m \u001b[38;5;28;01melif\u001b[39;00m \u001b[38;5;28mlen\u001b[39m(positions) \u001b[38;5;241m!=\u001b[39m N:\n\u001b[0;32m-> 3979\u001b[0m     \u001b[38;5;28;01mraise\u001b[39;00m \u001b[38;5;167;01mValueError\u001b[39;00m(datashape_message\u001b[38;5;241m.\u001b[39mformat(\u001b[38;5;124m\"\u001b[39m\u001b[38;5;124mpositions\u001b[39m\u001b[38;5;124m\"\u001b[39m))\n\u001b[1;32m   3981\u001b[0m positions \u001b[38;5;241m=\u001b[39m np\u001b[38;5;241m.\u001b[39marray(positions)\n\u001b[1;32m   3982\u001b[0m \u001b[38;5;28;01mif\u001b[39;00m \u001b[38;5;28mlen\u001b[39m(positions) \u001b[38;5;241m>\u001b[39m \u001b[38;5;241m0\u001b[39m \u001b[38;5;129;01mand\u001b[39;00m \u001b[38;5;129;01mnot\u001b[39;00m \u001b[38;5;28misinstance\u001b[39m(positions[\u001b[38;5;241m0\u001b[39m], Number):\n",
      "\u001b[0;31mValueError\u001b[0m: List of boxplot statistics and `positions` values must have same the length"
     ]
    },
    {
     "data": {
      "image/png": "[encoded data removed]",
      "text/plain": [
       "<Figure size 1008x720 with 18 Axes>"
      ]
     },
     "metadata": {
      "needs_background": "light"
     },
     "output_type": "display_data"
    }
   ],
   "source": [
    "# Crear la figura\n",
    "fig = plt.figure(figsize=(14,10))\n",
    "\n",
    "# Crear un GridSpec con la distribución deseada\n",
    "gs = gridspec.GridSpec(3, 6, figure=fig, hspace=0.1, wspace=0.2)\n",
    "\n",
    "# Añadir los subplots a la figura\n",
    "j3 = fig.add_subplot(gs[0, 0])\n",
    "j4 = fig.add_subplot(gs[0, 1], sharex=j3, sharey=j3)\n",
    "p2 = fig.add_subplot(gs[0, 2], sharex=j3, sharey=j3)\n",
    "p3 = fig.add_subplot(gs[0, 3], sharex=j3, sharey=j3)\n",
    "p4 = fig.add_subplot(gs[0, 4], sharex=j3, sharey=j3)\n",
    "color_legend = fig.add_subplot(gs[0, 5]) # Space for the legend\n",
    "color_legend.axis('off')  # Hide the axis\n",
    "\n",
    "s1 = fig.add_subplot(gs[1, 0], sharex=j3, sharey=j3)\n",
    "s2 = fig.add_subplot(gs[1, 1], sharex=j3, sharey=j3)\n",
    "s3 = fig.add_subplot(gs[1, 2], sharex=j3, sharey=j3)\n",
    "s4 = fig.add_subplot(gs[1, 3], sharex=j3, sharey=j3)\n",
    "t2 = fig.add_subplot(gs[1, 4], sharex=j3, sharey=j3)\n",
    "t3 = fig.add_subplot(gs[1, 5], sharex=j3, sharey=j3)\n",
    "\n",
    "t4 = fig.add_subplot(gs[2, 0], sharex=j3, sharey=j3)\n",
    "ti2 = fig.add_subplot(gs[2, 1], sharex=j3, sharey=j3)\n",
    "ti3 = fig.add_subplot(gs[2, 2], sharex=j3, sharey=j3)\n",
    "ti4 = fig.add_subplot(gs[2, 3], sharex=j3, sharey=j3)\n",
    "tr1 = fig.add_subplot(gs[2, 4], sharex=j3, sharey=j3)\n",
    "tr2 = fig.add_subplot(gs[2, 5], sharex=j3, sharey=j3)\n",
    "\n",
    "j3.set_ylabel('Time (ms)')\n",
    "s1.set_ylabel('Time (ms)')\n",
    "t4.set_ylabel('Time (ms)')\n",
    "\n",
    "\n",
    "for i,query in enumerate([j3,j4,p2,p3,p4,s1,s2,s3,s4,t2,t3,t4,ti2,ti3,ti4,tr1,tr2]):\n",
    "    for j, alg in enumerate(alg_label):\n",
    "        bp = query.boxplot(data[i][j], positions=[j],whis=1, widths=0.4, patch_artist=True, \n",
    "                      boxprops=dict(facecolor=colors[j],color=colors[j], label=alg_label[j]),\n",
    "                        medianprops=dict(color='blueviolet'))\n",
    "    query.set_yscale('log')\n",
    "    query.set_title(queries_title[i])\n",
    "    query.axes.get_xaxis().set_visible(False)\n",
    "    if(query != j3 and query != s1 and query != t4):\n",
    "        query.axes.get_yaxis().set_visible(False)\n",
    "        \n",
    "        \n",
    "handles, labels = j3.get_legend_handles_labels()\n",
    "color_legend.legend(handles, labels, loc='center', fontsize='x-small')\n",
    "    \n",
    "    \n",
    "plt.savefig('/Users/asugomez/Desktop/Magister/Tesis/tesisQdags/imagenes/all_queries_k_1000.pdf')\n",
    "\n",
    "plt.show()"
   ]
  },
  {
   "cell_type": "code",
   "execution_count": null,
   "id": "479333ec",
   "metadata": {},
   "outputs": [],
   "source": [
    "\n"
   ]
  },
  {
   "cell_type": "code",
   "execution_count": null,
   "id": "709bc4e4",
   "metadata": {},
   "outputs": [],
   "source": []
  },
  {
   "cell_type": "code",
   "execution_count": null,
   "id": "e1b24c5a",
   "metadata": {},
   "outputs": [],
   "source": []
  },
  {
   "cell_type": "code",
   "execution_count": null,
   "id": "239d6ad9",
   "metadata": {},
   "outputs": [],
   "source": []
  }
 ],
 "metadata": {
  "kernelspec": {
   "display_name": "Python 3 (ipykernel)",
   "language": "python",
   "name": "python3"
  },
  "language_info": {
   "codemirror_mode": {
    "name": "ipython",
    "version": 3
   },
   "file_extension": ".py",
   "mimetype": "text/x-python",
   "name": "python",
   "nbconvert_exporter": "python",
   "pygments_lexer": "ipython3",
   "version": "3.9.10"
  }
 },
 "nbformat": 4,
 "nbformat_minor": 5
}
