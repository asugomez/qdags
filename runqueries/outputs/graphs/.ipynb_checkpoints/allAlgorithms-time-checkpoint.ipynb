{
 "cells": [
  {
   "cell_type": "code",
   "execution_count": 2,
   "id": "db6080f2",
   "metadata": {},
   "outputs": [],
   "source": [
    "# Script to graph the execution TIME of all algorithms for k=1000 (gradual retrieval and ranked enumeration)\n",
    "## first scenario"
   ]
  },
  {
   "cell_type": "code",
   "execution_count": 3,
   "id": "40b33079",
   "metadata": {},
   "outputs": [],
   "source": [
    "import pandas as pd\n",
    "import matplotlib.pyplot as plt\n",
    "import matplotlib.gridspec as gridspec\n",
    "import numpy as np\n",
    "import seaborn as sns"
   ]
  },
  {
   "cell_type": "code",
   "execution_count": 5,
   "id": "fc93daae",
   "metadata": {},
   "outputs": [],
   "source": [
    "alg_label = [\"Original\",\n",
    "            \"Grad. LOUDS Backtrack.\", \n",
    "             \"Grad. LOUDS Op. Order\",\n",
    "             \"Grad. DFUDS Backtrack.\", \n",
    "             \"Grad. DFUDS Op. Order\",\n",
    "             \"R. LOUDS Backtrack.\", \n",
    "             \"R. LOUDS Op. Order\",\n",
    "             \"R. DFUDS Backtrack.\", \n",
    "             \"R. DFUDS Op. Order\"]\n",
    "        \n",
    "queries_label = [\"j3\",\"j4\",\"p2\",\"p3\",\"p4\",\"s1\",\"s2\",\"s3\",\"s4\",\"t2\",\"t3\",\"t4\",\"ti2\",\"ti3\",\"ti4\",\"tr1\",\"tr2\"]\n",
    "queries_label_v1000=[\"j3\",\"j4\",\"p2\",\"p3\",\"p4\",\"s3\",\"t2\",\"t3\",\"t4\",\"ti2\",\"ti3\",\"ti4\"]\n",
    "\n",
    "\n",
    "queries_title = [\"J3\",\"J4\",\"P2\",\"P3\",\"P4\",\"S1\",\"S2\",\"S3\",\"S4\",\"T2\",\"T3\",\"T4\",\"Ti2\",\"Ti3\",\"Ti4 (log scale)\",\"Tr1\",\"Tr2\"]\n",
    "queries_title_v1000 = [\"J3\",\"J4\",\"P2\",\"P3\",\"P4\",\"S3\",\"T2\",\"T3\",\"T4\",\"Ti2\",\"Ti3\",\"Ti4 (log scale)\"]"
   ]
  },
  {
   "cell_type": "code",
   "execution_count": 10,
   "id": "7551034f",
   "metadata": {},
   "outputs": [
    {
     "name": "stdout",
     "output_type": "stream",
     "text": [
      "j3-f0-k1000-time.txt\n"
     ]
    },
    {
     "ename": "FileNotFoundError",
     "evalue": "../partial/louds/backtracking/j3-f0-k1000-time.txt not found.",
     "output_type": "error",
     "traceback": [
      "\u001b[0;31m---------------------------------------------------------------------------\u001b[0m",
      "\u001b[0;31mFileNotFoundError\u001b[0m                         Traceback (most recent call last)",
      "Input \u001b[0;32mIn [10]\u001b[0m, in \u001b[0;36m<cell line: 8>\u001b[0;34m()\u001b[0m\n\u001b[1;32m     13\u001b[0m \u001b[38;5;28mprint\u001b[39m(file)\n\u001b[1;32m     14\u001b[0m \u001b[38;5;66;03m#print(file_original)\u001b[39;00m\n\u001b[1;32m     15\u001b[0m \u001b[38;5;66;03m#original = np.loadtxt(f'../original/{file_original}', dtype=float)\u001b[39;00m\n\u001b[0;32m---> 16\u001b[0m partialLoudsBack \u001b[38;5;241m=\u001b[39m \u001b[43mnp\u001b[49m\u001b[38;5;241;43m.\u001b[39;49m\u001b[43mloadtxt\u001b[49m\u001b[43m(\u001b[49m\u001b[38;5;124;43mf\u001b[39;49m\u001b[38;5;124;43m'\u001b[39;49m\u001b[38;5;124;43m../partial/louds/backtracking/\u001b[39;49m\u001b[38;5;132;43;01m{\u001b[39;49;00m\u001b[43mfile\u001b[49m\u001b[38;5;132;43;01m}\u001b[39;49;00m\u001b[38;5;124;43m'\u001b[39;49m\u001b[43m,\u001b[49m\u001b[43m \u001b[49m\u001b[43mdtype\u001b[49m\u001b[38;5;241;43m=\u001b[39;49m\u001b[38;5;28;43mfloat\u001b[39;49m\u001b[43m)\u001b[49m\n\u001b[1;32m     17\u001b[0m partialLoudsNon \u001b[38;5;241m=\u001b[39m np\u001b[38;5;241m.\u001b[39mloadtxt(\u001b[38;5;124mf\u001b[39m\u001b[38;5;124m'\u001b[39m\u001b[38;5;124m../partial/louds/optimalOrder/\u001b[39m\u001b[38;5;132;01m{\u001b[39;00mfile\u001b[38;5;132;01m}\u001b[39;00m\u001b[38;5;124m'\u001b[39m, dtype\u001b[38;5;241m=\u001b[39m\u001b[38;5;28mfloat\u001b[39m)\u001b[38;5;66;03m# np.loadtxt(f'../partial/louds/nonFixedQueue/{file}', dtype=float)\u001b[39;00m\n\u001b[1;32m     18\u001b[0m partialDfudsBack \u001b[38;5;241m=\u001b[39m np\u001b[38;5;241m.\u001b[39mloadtxt(\u001b[38;5;124mf\u001b[39m\u001b[38;5;124m'\u001b[39m\u001b[38;5;124m../partial/dfuds/backtracking/\u001b[39m\u001b[38;5;132;01m{\u001b[39;00mfile\u001b[38;5;132;01m}\u001b[39;00m\u001b[38;5;124m'\u001b[39m, dtype\u001b[38;5;241m=\u001b[39m\u001b[38;5;28mfloat\u001b[39m)\u001b[38;5;66;03m#np.loadtxt(f'../partial/dfuds/backtracking/{file}', dtype=float)\u001b[39;00m\n",
      "File \u001b[0;32m/Library/Frameworks/Python.framework/Versions/3.9/lib/python3.9/site-packages/numpy/lib/npyio.py:1042\u001b[0m, in \u001b[0;36mloadtxt\u001b[0;34m(fname, dtype, comments, delimiter, converters, skiprows, usecols, unpack, ndmin, encoding, max_rows, like)\u001b[0m\n\u001b[1;32m   1040\u001b[0m     fname \u001b[38;5;241m=\u001b[39m os_fspath(fname)\n\u001b[1;32m   1041\u001b[0m \u001b[38;5;28;01mif\u001b[39;00m _is_string_like(fname):\n\u001b[0;32m-> 1042\u001b[0m     fh \u001b[38;5;241m=\u001b[39m \u001b[43mnp\u001b[49m\u001b[38;5;241;43m.\u001b[39;49m\u001b[43mlib\u001b[49m\u001b[38;5;241;43m.\u001b[39;49m\u001b[43m_datasource\u001b[49m\u001b[38;5;241;43m.\u001b[39;49m\u001b[43mopen\u001b[49m\u001b[43m(\u001b[49m\u001b[43mfname\u001b[49m\u001b[43m,\u001b[49m\u001b[43m \u001b[49m\u001b[38;5;124;43m'\u001b[39;49m\u001b[38;5;124;43mrt\u001b[39;49m\u001b[38;5;124;43m'\u001b[39;49m\u001b[43m,\u001b[49m\u001b[43m \u001b[49m\u001b[43mencoding\u001b[49m\u001b[38;5;241;43m=\u001b[39;49m\u001b[43mencoding\u001b[49m\u001b[43m)\u001b[49m\n\u001b[1;32m   1043\u001b[0m     fencoding \u001b[38;5;241m=\u001b[39m \u001b[38;5;28mgetattr\u001b[39m(fh, \u001b[38;5;124m'\u001b[39m\u001b[38;5;124mencoding\u001b[39m\u001b[38;5;124m'\u001b[39m, \u001b[38;5;124m'\u001b[39m\u001b[38;5;124mlatin1\u001b[39m\u001b[38;5;124m'\u001b[39m)\n\u001b[1;32m   1044\u001b[0m     line_iter \u001b[38;5;241m=\u001b[39m \u001b[38;5;28miter\u001b[39m(fh)\n",
      "File \u001b[0;32m/Library/Frameworks/Python.framework/Versions/3.9/lib/python3.9/site-packages/numpy/lib/_datasource.py:193\u001b[0m, in \u001b[0;36mopen\u001b[0;34m(path, mode, destpath, encoding, newline)\u001b[0m\n\u001b[1;32m    156\u001b[0m \u001b[38;5;124;03m\"\"\"\u001b[39;00m\n\u001b[1;32m    157\u001b[0m \u001b[38;5;124;03mOpen `path` with `mode` and return the file object.\u001b[39;00m\n\u001b[1;32m    158\u001b[0m \n\u001b[0;32m   (...)\u001b[0m\n\u001b[1;32m    189\u001b[0m \n\u001b[1;32m    190\u001b[0m \u001b[38;5;124;03m\"\"\"\u001b[39;00m\n\u001b[1;32m    192\u001b[0m ds \u001b[38;5;241m=\u001b[39m DataSource(destpath)\n\u001b[0;32m--> 193\u001b[0m \u001b[38;5;28;01mreturn\u001b[39;00m \u001b[43mds\u001b[49m\u001b[38;5;241;43m.\u001b[39;49m\u001b[43mopen\u001b[49m\u001b[43m(\u001b[49m\u001b[43mpath\u001b[49m\u001b[43m,\u001b[49m\u001b[43m \u001b[49m\u001b[43mmode\u001b[49m\u001b[43m,\u001b[49m\u001b[43m \u001b[49m\u001b[43mencoding\u001b[49m\u001b[38;5;241;43m=\u001b[39;49m\u001b[43mencoding\u001b[49m\u001b[43m,\u001b[49m\u001b[43m \u001b[49m\u001b[43mnewline\u001b[49m\u001b[38;5;241;43m=\u001b[39;49m\u001b[43mnewline\u001b[49m\u001b[43m)\u001b[49m\n",
      "File \u001b[0;32m/Library/Frameworks/Python.framework/Versions/3.9/lib/python3.9/site-packages/numpy/lib/_datasource.py:532\u001b[0m, in \u001b[0;36mDataSource.open\u001b[0;34m(self, path, mode, encoding, newline)\u001b[0m\n\u001b[1;32m    529\u001b[0m     \u001b[38;5;28;01mreturn\u001b[39;00m _file_openers[ext](found, mode\u001b[38;5;241m=\u001b[39mmode,\n\u001b[1;32m    530\u001b[0m                               encoding\u001b[38;5;241m=\u001b[39mencoding, newline\u001b[38;5;241m=\u001b[39mnewline)\n\u001b[1;32m    531\u001b[0m \u001b[38;5;28;01melse\u001b[39;00m:\n\u001b[0;32m--> 532\u001b[0m     \u001b[38;5;28;01mraise\u001b[39;00m \u001b[38;5;167;01mFileNotFoundError\u001b[39;00m(\u001b[38;5;124mf\u001b[39m\u001b[38;5;124m\"\u001b[39m\u001b[38;5;132;01m{\u001b[39;00mpath\u001b[38;5;132;01m}\u001b[39;00m\u001b[38;5;124m not found.\u001b[39m\u001b[38;5;124m\"\u001b[39m)\n",
      "\u001b[0;31mFileNotFoundError\u001b[0m: ../partial/louds/backtracking/j3-f0-k1000-time.txt not found."
     ]
    }
   ],
   "source": [
    "data = []\n",
    "rows, cols = 17, 9 #TODO: change this\n",
    "row_template = [0] * cols\n",
    "data = [row_template[:] for _ in range(rows)]\n",
    "\n",
    "#ti4.set_yscale('log')  # Use logarithmic scale if the difference is large\n",
    "\n",
    "for type_fun in [0]:#,1]:\n",
    "    for k in [1000]: \n",
    "        for i,query in enumerate(queries_label_v1000): \n",
    "            file = f\"{query}-f{type_fun}-k{k}-time.txt\"\n",
    "            file_original = f\"{query}-k{k}-time.txt\"\n",
    "            original = np.loadtxt(f'../original/{file_original}', dtype=float)\n",
    "            partialLoudsBack = np.loadtxt(f'../partial/louds/backtracking/{file}', dtype=float)\n",
    "            partialLoudsNon = np.loadtxt(f'../partial/louds/optimalOrder/{file}', dtype=float)# np.loadtxt(f'../partial/louds/nonFixedQueue/{file}', dtype=float)\n",
    "            partialDfudsBack = np.loadtxt(f'../partial/dfuds/backtracking/{file}', dtype=float)#np.loadtxt(f'../partial/dfuds/backtracking/{file}', dtype=float)\n",
    "            partialDfudsNon = np.loadtxt(f'../partial/dfuds/optimalOrder/{file}', dtype=float)#np.loadtxt(f'../partial/dfuds/nonFixedQueue/{file}', dtype=float)\n",
    "            rankedLoudsBack = np.loadtxt(f'../ranked/louds/backtracking/{file}', dtype=float)#np.loadtxt(f'../ranked/louds/backtracking/{file}', dtype=float)\n",
    "            rankedLoudsNon = np.loadtxt(f'../ranked/louds/optimalOrder/{file}', dtype=float)#np.loadtxt(f'../ranked/louds/nonFixedQueue/{file}', dtype=float)\n",
    "            rankedDfudsBack = np.loadtxt(f'../ranked/dfuds/backtracking/{file}', dtype=float)#np.loadtxt(f'../ranked/dfuds/backtracking/{file}', dtype=float)\n",
    "            rankedDfudsNon = np.loadtxt(f'../ranked/dfuds/optimalOrder/{file}', dtype=float)#np.loadtxt(f'../ranked/dfuds/nonFixedQueue/{file}', dtype=float)\n",
    "            \n",
    "            \n",
    "                \n",
    "      \n",
    "            data[i] = [original, \n",
    "                       partialLoudsBack, \n",
    "                       partialLoudsNon, \n",
    "                       partialDfudsBack, \n",
    "                       partialDfudsNon,\n",
    "                       rankedLoudsBack, \n",
    "                       rankedLoudsNon, \n",
    "                       rankedDfudsBack, \n",
    "                       rankedDfudsNon]\n",
    "         \n",
    "                        \n",
    "                        \n",
    "                        \n",
    "                        \n",
    "                        \n",
    "                        "
   ]
  },
  {
   "cell_type": "code",
   "execution_count": null,
   "id": "f375afb3",
   "metadata": {},
   "outputs": [],
   "source": [
    "## second scenario: only plot queries with results > 1000"
   ]
  }
 ],
 "metadata": {
  "kernelspec": {
   "display_name": "Python 3 (ipykernel)",
   "language": "python",
   "name": "python3"
  },
  "language_info": {
   "codemirror_mode": {
    "name": "ipython",
    "version": 3
   },
   "file_extension": ".py",
   "mimetype": "text/x-python",
   "name": "python",
   "nbconvert_exporter": "python",
   "pygments_lexer": "ipython3",
   "version": "3.9.10"
  }
 },
 "nbformat": 4,
 "nbformat_minor": 5
}
