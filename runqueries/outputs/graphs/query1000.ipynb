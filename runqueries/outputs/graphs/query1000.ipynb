{
 "cells": [
  {
   "cell_type": "code",
   "execution_count": 144,
   "id": "bfce2080",
   "metadata": {},
   "outputs": [],
   "source": [
    "import pandas as pd\n",
    "import matplotlib.pyplot as plt\n",
    "import numpy as np"
   ]
  },
  {
   "cell_type": "code",
   "execution_count": null,
   "id": "1513dcea",
   "metadata": {},
   "outputs": [],
   "source": [
    "# 17 graficos\n",
    "# cada query con sus 9 algoritmos (Tradicional y los mios)"
   ]
  },
  {
   "cell_type": "code",
   "execution_count": 197,
   "id": "42ff77da",
   "metadata": {},
   "outputs": [],
   "source": [
    "alg_label = [\"Traditional join\", \"Gradual LOUDS Backtracking\", \"Gradual LOUDS Optimal Order\", \n",
    "                \"Gradual DFUDS Backtracking\", \"Gradual DFUDS Optimal Order\",\n",
    "                \"Ranked LOUDS Backtracking\", \"Ranked LOUDS Optimal Order\",\n",
    "                \"Ranked DFUDS Backtracking\", \"Ranked DFUDS Optimal Order\"]\n",
    "queries_label = [\"j3\"]#,\"j4\",\"p2\",\"p3\",\"p4\",\"s1\",\"s2\",\"s3\",\"s4\",\"t2\",\"t3\",\"t4\",\"ti2\",\"ti3\",\"ti4\",\"tr1\",\"tr2\"]"
   ]
  },
  {
   "cell_type": "code",
   "execution_count": 169,
   "id": "6a220818",
   "metadata": {},
   "outputs": [
    {
     "name": "stdout",
     "output_type": "stream",
     "text": [
      "j3-f0-k1.txt\n",
      "0\n"
     ]
    }
   ],
   "source": [
    "# box plots for each query\n",
    "# TODO: make file j3... variable\n",
    "# TDO hacer un for para cada query y función y tamaño k\n",
    "data = [[],[],[],[],[],[],[],[],[]]\n",
    "for type_fun in [0]:#,1]:\n",
    "    for k in [1]:#,10,100,1000]: # TODO: maybe only k=1000 ? \n",
    "        for i,query in enumerate(queries_label): #[j3,j4,p2,p3,p4,s1,s2,s3,s4,t2,t3,t4,ti2,ti3,ti4,tr1,tr2]:\n",
    "            file = f\"{query}-f{type_fun}-k{k}.txt\"\n",
    "            print(file)\n",
    "            partialLoudsBack = np.loadtxt(f'../partial/louds/backtracking/{file}', dtype=float)\n",
    "            partialLoudsNon = np.loadtxt(f'../partial/louds/nonFixedQueue/{file}', dtype=float)\n",
    "            partialDfudsBack = np.loadtxt(f'../partial/dfuds/backtracking/{file}', dtype=float)\n",
    "            partialDfudsNon = np.loadtxt(f'../partial/dfuds/nonFixedQueue/{file}', dtype=float)\n",
    "\n",
    "            rankedLoudsBack = np.loadtxt(f'../partial/louds/backtracking/{file}', dtype=float)\n",
    "            rankedLoudsNon = np.loadtxt(f'../partial/louds/nonFixedQueue/{file}', dtype=float)\n",
    "            rankedDfudsBack = np.loadtxt(f'../partial/dfuds/backtracking/{file}', dtype=float)\n",
    "            rankedDfudsNon = np.loadtxt(f'../partial/dfuds/nonFixedQueue/{file}', dtype=float)\n",
    "            \n",
    "            traditional = np.loadtxt(f'../all/{query}.txt',dtype=float)\n",
    "                \n",
    "            print(i)\n",
    "            data[i] = [traditional, partialLoudsBack, partialLoudsNon, partialDfudsBack, partialDfudsNon, rankedLoudsBack, rankedLoudsNon, rankedDfudsBack, rankedDfudsNon]"
   ]
  },
  {
   "cell_type": "code",
   "execution_count": 170,
   "id": "b4fb74f5",
   "metadata": {},
   "outputs": [
    {
     "data": {
      "text/plain": [
       "[array([3.53259e+00, 1.19374e+02, 6.30211e-01, 6.63229e-01, 7.85799e-01,\n",
       "        9.09108e-01, 7.49159e+00, 1.09325e+00, 1.17381e+01, 1.85248e+01,\n",
       "        2.12390e-02, 3.49564e+01, 7.20294e+00, 4.05295e-01, 3.27068e+00,\n",
       "        1.91928e+00, 3.39546e+00, 2.04124e+02, 1.88116e+00, 6.15642e-01,\n",
       "        1.02669e-01, 5.52305e+00, 9.26971e+00, 1.01528e+01, 5.43670e-01,\n",
       "        1.01093e+00, 2.12627e+00, 5.39982e-01, 6.67862e+01, 4.05504e+00,\n",
       "        1.88824e-01, 7.47943e+00, 8.15361e+01, 9.46010e-02, 1.00641e+00,\n",
       "        2.86429e-01, 6.65497e-01, 7.19648e+00, 2.91659e+01, 2.31390e-02,\n",
       "        3.45897e+00, 4.61424e-01, 6.84206e+00, 2.62010e+00, 2.68018e+00,\n",
       "        1.28137e+02, 6.25170e-02, 5.56452e-01, 8.64247e+00, 1.96944e+00]),\n",
       " array([1.1e-05, 1.4e-05, 1.4e-05, 7.0e-06, 9.0e-06, 1.1e-05, 1.1e-05,\n",
       "        8.0e-06, 1.2e-05, 1.2e-05, 8.0e-06, 1.1e-05, 1.1e-05, 1.6e-05,\n",
       "        1.2e-05]),\n",
       " array(1.04804),\n",
       " array([1.5e-05, 1.9e-05, 1.6e-05, 1.1e-05, 1.2e-05, 1.2e-05, 1.4e-05,\n",
       "        8.0e-06, 1.3e-05, 1.7e-05, 8.0e-06, 1.3e-05, 1.3e-05, 1.2e-05,\n",
       "        1.3e-05, 1.2e-05, 1.2e-05, 2.4e-05, 1.5e-05, 8.0e-06, 1.1e-05,\n",
       "        1.2e-05, 1.2e-05, 1.4e-05, 1.3e-05, 4.8e-05, 1.2e-05, 1.1e-05,\n",
       "        1.4e-05, 1.2e-05, 8.0e-06, 9.0e-06, 2.3e-05, 8.0e-06, 1.0e-05,\n",
       "        1.1e-05, 1.4e-05, 1.2e-05, 1.5e-05, 8.0e-06, 1.4e-05, 1.1e-05,\n",
       "        1.2e-05, 1.1e-05, 1.1e-05, 1.3e-05, 1.6e-05, 8.0e-06, 1.2e-05,\n",
       "        1.2e-05]),\n",
       " array([4.66643e-01, 2.01025e+01, 2.88438e-01, 8.32052e-01, 2.58540e-01,\n",
       "        4.36149e-01, 1.90777e+00, 5.90289e-01, 2.76021e+00, 2.23591e+00,\n",
       "        4.52700e-03, 5.99734e+00, 1.90157e+00, 1.88322e-01, 6.70264e-01,\n",
       "        6.13170e-01, 5.58854e-01, 6.62888e+01, 5.59075e-01, 2.07748e-01,\n",
       "        3.38520e-02, 1.79516e+00, 3.87693e+00, 3.33736e+00, 1.71097e-01,\n",
       "        3.57384e-01, 4.04069e-01, 9.72580e-02, 2.13950e+01, 9.33996e-01,\n",
       "        4.96200e-02, 3.50623e+01, 3.08270e+01, 2.20440e-02, 3.17144e-01,\n",
       "        8.45330e-02, 1.06182e-01, 7.10723e-01, 2.27501e+01, 1.89490e-02,\n",
       "        1.21560e+00, 5.67880e-02, 1.43932e+00, 6.51366e-01, 4.99442e+00]),\n",
       " array([1.1e-05, 1.4e-05, 1.4e-05, 7.0e-06, 9.0e-06, 1.1e-05, 1.1e-05,\n",
       "        8.0e-06, 1.2e-05, 1.2e-05, 8.0e-06, 1.1e-05, 1.1e-05, 1.6e-05,\n",
       "        1.2e-05]),\n",
       " array(1.04804),\n",
       " array([1.5e-05, 1.9e-05, 1.6e-05, 1.1e-05, 1.2e-05, 1.2e-05, 1.4e-05,\n",
       "        8.0e-06, 1.3e-05, 1.7e-05, 8.0e-06, 1.3e-05, 1.3e-05, 1.2e-05,\n",
       "        1.3e-05, 1.2e-05, 1.2e-05, 2.4e-05, 1.5e-05, 8.0e-06, 1.1e-05,\n",
       "        1.2e-05, 1.2e-05, 1.4e-05, 1.3e-05, 4.8e-05, 1.2e-05, 1.1e-05,\n",
       "        1.4e-05, 1.2e-05, 8.0e-06, 9.0e-06, 2.3e-05, 8.0e-06, 1.0e-05,\n",
       "        1.1e-05, 1.4e-05, 1.2e-05, 1.5e-05, 8.0e-06, 1.4e-05, 1.1e-05,\n",
       "        1.2e-05, 1.1e-05, 1.1e-05, 1.3e-05, 1.6e-05, 8.0e-06, 1.2e-05,\n",
       "        1.2e-05]),\n",
       " array([4.66643e-01, 2.01025e+01, 2.88438e-01, 8.32052e-01, 2.58540e-01,\n",
       "        4.36149e-01, 1.90777e+00, 5.90289e-01, 2.76021e+00, 2.23591e+00,\n",
       "        4.52700e-03, 5.99734e+00, 1.90157e+00, 1.88322e-01, 6.70264e-01,\n",
       "        6.13170e-01, 5.58854e-01, 6.62888e+01, 5.59075e-01, 2.07748e-01,\n",
       "        3.38520e-02, 1.79516e+00, 3.87693e+00, 3.33736e+00, 1.71097e-01,\n",
       "        3.57384e-01, 4.04069e-01, 9.72580e-02, 2.13950e+01, 9.33996e-01,\n",
       "        4.96200e-02, 3.50623e+01, 3.08270e+01, 2.20440e-02, 3.17144e-01,\n",
       "        8.45330e-02, 1.06182e-01, 7.10723e-01, 2.27501e+01, 1.89490e-02,\n",
       "        1.21560e+00, 5.67880e-02, 1.43932e+00, 6.51366e-01, 4.99442e+00])]"
      ]
     },
     "execution_count": 170,
     "metadata": {},
     "output_type": "execute_result"
    }
   ],
   "source": [
    "data[0]"
   ]
  },
  {
   "cell_type": "code",
   "execution_count": 166,
   "id": "5f89c6e9",
   "metadata": {},
   "outputs": [],
   "source": [
    "# colors:\n",
    "# https://matplotlib.org/stable/gallery/color/named_colors.html\n",
    "colors = ['limegreen', 'mediumturquoise', 'yellow', 'coral', 'hotpink','royalblue','darkorange', 'greenyellow', 'darkviolet']"
   ]
  },
  {
   "cell_type": "code",
   "execution_count": 200,
   "id": "96ee8c13",
   "metadata": {},
   "outputs": [
    {
     "data": {
      "image/png": "[encoded data removed]",
      "text/plain": [
       "<Figure size 432x288 with 1 Axes>"
      ]
     },
     "metadata": {
      "needs_background": "light"
     },
     "output_type": "display_data"
    }
   ],
   "source": [
    "# TODO: esto hacerlo dentro del for\n",
    "fig, j3 = plt.subplots(1,1)\n",
    "#fig, (j3,j4,p2,p3,p4) = plt.subplots(1,5, sharey=True)\n",
    "#fig, ((s1,s2,s3,s4,t2,t3),(t4,ti2,ti3,ti4,tr1,tr2)) = plt.subplots(2, 6, layout='constrained', sharey=True)\n",
    "#j3.set_ylabel('Time (ms)')\n",
    "#s1.set_ylabel('Time (ms)')\n",
    "#t4.set_ylabel('Time (ms)')\n",
    "plt.yscale('log')\n",
    "\n",
    "pos_y = 0.8\n",
    "for i,query in enumerate([j3]):#,j4,p2,p3,p4,s1,s2,s3,s4,t2,t3,t4,ti2,ti3,ti4,tr1,tr2]):\n",
    "    fig.text(1,pos_y, alg_label[i], backgroundcolor=colors[0], color='black', weight='roman', size='large')\n",
    "    pos_y -=0.05\n",
    "    bplot = query.boxplot(data[i],whis=8,patch_artist=True);\n",
    "    for patch, color in zip(bplot['boxes'], colors):\n",
    "        patch.set_facecolor(color)\n",
    "    plt.title(queries_label[i])\n",
    "    \n",
    "plt.show()\n",
    "#bplotj3 = j3.boxplot(data_j3,whis=8,patch_artist=True, showmeans=True)  # will be used to label x-ticks\n",
    "#bplotj3 = j4.boxplot(data_j4,whis=8,patch_artist=True)  # will be used to label x-ticks\n",
    "#bplotp2 = p2.boxplot(data_p2,whis=8,patch_artist=True)  # will be used to label x-ticks\n",
    "#bplotp3 = p3.boxplot(data_p3,whis=8,patch_artist=True)  # will be used to label x-ticks\n",
    "\n",
    "# fill with colors\n",
    "#for patch, color in zip(bplot1['boxes'], colors):\n",
    "#    patch.set_facecolor(color)\n",
    "#for patch, color in zip(bplot2['boxes'], colors):\n",
    "#    patch.set_facecolor(color)\n",
    "#for patch, color in zip(bplot3['boxes'], colors):\n",
    "#    patch.set_facecolor(color)\n",
    "#for patch, color in zip(bplot4['boxes'], colors):\n",
    "#    patch.set_facecolor(color)\n",
    "\n",
    "#plt.show()"
   ]
  },
  {
   "cell_type": "code",
   "execution_count": null,
   "id": "e1b24c5a",
   "metadata": {},
   "outputs": [],
   "source": []
  }
 ],
 "metadata": {
  "kernelspec": {
   "display_name": "Python 3 (ipykernel)",
   "language": "python",
   "name": "python3"
  },
  "language_info": {
   "codemirror_mode": {
    "name": "ipython",
    "version": 3
   },
   "file_extension": ".py",
   "mimetype": "text/x-python",
   "name": "python",
   "nbconvert_exporter": "python",
   "pygments_lexer": "ipython3",
   "version": "3.9.10"
  }
 },
 "nbformat": 4,
 "nbformat_minor": 5
}
