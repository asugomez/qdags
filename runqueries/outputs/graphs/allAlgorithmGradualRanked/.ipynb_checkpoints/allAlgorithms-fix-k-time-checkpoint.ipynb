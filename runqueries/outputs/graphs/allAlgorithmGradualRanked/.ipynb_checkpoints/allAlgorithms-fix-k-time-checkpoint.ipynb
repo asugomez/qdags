{
 "cells": [
  {
   "cell_type": "code",
   "execution_count": 1,
   "id": "4089d2c3",
   "metadata": {},
   "outputs": [],
   "source": [
    "# Script to graph the number of TIME all algorithms for k=1000 (gradual retrieval and ranked enumeration)\n",
    "## first scenario"
   ]
  },
  {
   "cell_type": "code",
   "execution_count": 5,
   "id": "6782d13b",
   "metadata": {},
   "outputs": [],
   "source": [
    "import pandas as pd\n",
    "import matplotlib.pyplot as plt\n",
    "import matplotlib.gridspec as gridspec\n",
    "import numpy as np\n",
    "import seaborn as sns"
   ]
  },
  {
   "cell_type": "code",
   "execution_count": 6,
   "id": "397205e6",
   "metadata": {},
   "outputs": [],
   "source": [
    "alg_label = [\"Original\",\n",
    "            \"Grad. LOUDS Backtrack.\", \n",
    "             \"Grad. LOUDS Op. Order\",\n",
    "             \"Grad. DFUDS Backtrack.\", \n",
    "             \"Grad. DFUDS Op. Order\",\n",
    "             \"R. LOUDS Backtrack.\", \n",
    "             \"R. LOUDS Op. Order\",\n",
    "             \"R. DFUDS Backtrack.\", \n",
    "             \"R. DFUDS Op. Order\"]\n",
    "        \n",
    "queries_label = [\"j3\",\"j4\",\"p2\",\"p3\",\"p4\",\"s1\",\"s2\",\"s3\",\"s4\",\"t2\",\"t3\",\"t4\",\"ti2\",\"ti3\",\"ti4\",\"tr1\",\"tr2\"]\n",
    "\n",
    "queries_title = [\"J3\",\"J4\",\"P2\",\"P3\",\"P4\",\"S1\",\"S2\",\"S3\",\"S4\",\"T2\",\"T3\",\"T4\",\"Ti2\",\"Ti3\",\"Ti4\",\"Tr1\",\"Tr2\"]"
   ]
  },
  {
   "cell_type": "code",
   "execution_count": 8,
   "id": "813aedb5",
   "metadata": {},
   "outputs": [
    {
     "ename": "FileNotFoundError",
     "evalue": "../../partial/louds/backtracking/j3-f0-k1000-time.txt not found.",
     "output_type": "error",
     "traceback": [
      "\u001b[0;31m---------------------------------------------------------------------------\u001b[0m",
      "\u001b[0;31mFileNotFoundError\u001b[0m                         Traceback (most recent call last)",
      "Input \u001b[0;32mIn [8]\u001b[0m, in \u001b[0;36m<cell line: 8>\u001b[0;34m()\u001b[0m\n\u001b[1;32m     12\u001b[0m file_original \u001b[38;5;241m=\u001b[39m \u001b[38;5;124mf\u001b[39m\u001b[38;5;124m\"\u001b[39m\u001b[38;5;132;01m{\u001b[39;00mquery\u001b[38;5;132;01m}\u001b[39;00m\u001b[38;5;124m-k\u001b[39m\u001b[38;5;132;01m{\u001b[39;00mk\u001b[38;5;132;01m}\u001b[39;00m\u001b[38;5;124m-time.txt\u001b[39m\u001b[38;5;124m\"\u001b[39m\n\u001b[1;32m     14\u001b[0m original \u001b[38;5;241m=\u001b[39m np\u001b[38;5;241m.\u001b[39mloadtxt(\u001b[38;5;124mf\u001b[39m\u001b[38;5;124m'\u001b[39m\u001b[38;5;124m../../original/\u001b[39m\u001b[38;5;132;01m{\u001b[39;00mfile_original\u001b[38;5;132;01m}\u001b[39;00m\u001b[38;5;124m'\u001b[39m, dtype\u001b[38;5;241m=\u001b[39m\u001b[38;5;28mfloat\u001b[39m)\n\u001b[0;32m---> 15\u001b[0m partialLoudsBack \u001b[38;5;241m=\u001b[39m \u001b[43mnp\u001b[49m\u001b[38;5;241;43m.\u001b[39;49m\u001b[43mloadtxt\u001b[49m\u001b[43m(\u001b[49m\u001b[38;5;124;43mf\u001b[39;49m\u001b[38;5;124;43m'\u001b[39;49m\u001b[38;5;124;43m../../partial/louds/backtracking/\u001b[39;49m\u001b[38;5;132;43;01m{\u001b[39;49;00m\u001b[43mfile\u001b[49m\u001b[38;5;132;43;01m}\u001b[39;49;00m\u001b[38;5;124;43m'\u001b[39;49m\u001b[43m,\u001b[49m\u001b[43m \u001b[49m\u001b[43mdtype\u001b[49m\u001b[38;5;241;43m=\u001b[39;49m\u001b[38;5;28;43mfloat\u001b[39;49m\u001b[43m)\u001b[49m\n\u001b[1;32m     16\u001b[0m partialLoudsNon \u001b[38;5;241m=\u001b[39m np\u001b[38;5;241m.\u001b[39mloadtxt(\u001b[38;5;124mf\u001b[39m\u001b[38;5;124m'\u001b[39m\u001b[38;5;124m../../partial/louds/optimalOrder/\u001b[39m\u001b[38;5;132;01m{\u001b[39;00mfile\u001b[38;5;132;01m}\u001b[39;00m\u001b[38;5;124m'\u001b[39m, dtype\u001b[38;5;241m=\u001b[39m\u001b[38;5;28mfloat\u001b[39m)\n\u001b[1;32m     17\u001b[0m partialDfudsBack \u001b[38;5;241m=\u001b[39m np\u001b[38;5;241m.\u001b[39mloadtxt(\u001b[38;5;124mf\u001b[39m\u001b[38;5;124m'\u001b[39m\u001b[38;5;124m../../partial/dfuds/backtracking/\u001b[39m\u001b[38;5;132;01m{\u001b[39;00mfile\u001b[38;5;132;01m}\u001b[39;00m\u001b[38;5;124m'\u001b[39m, dtype\u001b[38;5;241m=\u001b[39m\u001b[38;5;28mfloat\u001b[39m)\n",
      "File \u001b[0;32m/Library/Frameworks/Python.framework/Versions/3.9/lib/python3.9/site-packages/numpy/lib/npyio.py:1042\u001b[0m, in \u001b[0;36mloadtxt\u001b[0;34m(fname, dtype, comments, delimiter, converters, skiprows, usecols, unpack, ndmin, encoding, max_rows, like)\u001b[0m\n\u001b[1;32m   1040\u001b[0m     fname \u001b[38;5;241m=\u001b[39m os_fspath(fname)\n\u001b[1;32m   1041\u001b[0m \u001b[38;5;28;01mif\u001b[39;00m _is_string_like(fname):\n\u001b[0;32m-> 1042\u001b[0m     fh \u001b[38;5;241m=\u001b[39m \u001b[43mnp\u001b[49m\u001b[38;5;241;43m.\u001b[39;49m\u001b[43mlib\u001b[49m\u001b[38;5;241;43m.\u001b[39;49m\u001b[43m_datasource\u001b[49m\u001b[38;5;241;43m.\u001b[39;49m\u001b[43mopen\u001b[49m\u001b[43m(\u001b[49m\u001b[43mfname\u001b[49m\u001b[43m,\u001b[49m\u001b[43m \u001b[49m\u001b[38;5;124;43m'\u001b[39;49m\u001b[38;5;124;43mrt\u001b[39;49m\u001b[38;5;124;43m'\u001b[39;49m\u001b[43m,\u001b[49m\u001b[43m \u001b[49m\u001b[43mencoding\u001b[49m\u001b[38;5;241;43m=\u001b[39;49m\u001b[43mencoding\u001b[49m\u001b[43m)\u001b[49m\n\u001b[1;32m   1043\u001b[0m     fencoding \u001b[38;5;241m=\u001b[39m \u001b[38;5;28mgetattr\u001b[39m(fh, \u001b[38;5;124m'\u001b[39m\u001b[38;5;124mencoding\u001b[39m\u001b[38;5;124m'\u001b[39m, \u001b[38;5;124m'\u001b[39m\u001b[38;5;124mlatin1\u001b[39m\u001b[38;5;124m'\u001b[39m)\n\u001b[1;32m   1044\u001b[0m     line_iter \u001b[38;5;241m=\u001b[39m \u001b[38;5;28miter\u001b[39m(fh)\n",
      "File \u001b[0;32m/Library/Frameworks/Python.framework/Versions/3.9/lib/python3.9/site-packages/numpy/lib/_datasource.py:193\u001b[0m, in \u001b[0;36mopen\u001b[0;34m(path, mode, destpath, encoding, newline)\u001b[0m\n\u001b[1;32m    156\u001b[0m \u001b[38;5;124;03m\"\"\"\u001b[39;00m\n\u001b[1;32m    157\u001b[0m \u001b[38;5;124;03mOpen `path` with `mode` and return the file object.\u001b[39;00m\n\u001b[1;32m    158\u001b[0m \n\u001b[0;32m   (...)\u001b[0m\n\u001b[1;32m    189\u001b[0m \n\u001b[1;32m    190\u001b[0m \u001b[38;5;124;03m\"\"\"\u001b[39;00m\n\u001b[1;32m    192\u001b[0m ds \u001b[38;5;241m=\u001b[39m DataSource(destpath)\n\u001b[0;32m--> 193\u001b[0m \u001b[38;5;28;01mreturn\u001b[39;00m \u001b[43mds\u001b[49m\u001b[38;5;241;43m.\u001b[39;49m\u001b[43mopen\u001b[49m\u001b[43m(\u001b[49m\u001b[43mpath\u001b[49m\u001b[43m,\u001b[49m\u001b[43m \u001b[49m\u001b[43mmode\u001b[49m\u001b[43m,\u001b[49m\u001b[43m \u001b[49m\u001b[43mencoding\u001b[49m\u001b[38;5;241;43m=\u001b[39;49m\u001b[43mencoding\u001b[49m\u001b[43m,\u001b[49m\u001b[43m \u001b[49m\u001b[43mnewline\u001b[49m\u001b[38;5;241;43m=\u001b[39;49m\u001b[43mnewline\u001b[49m\u001b[43m)\u001b[49m\n",
      "File \u001b[0;32m/Library/Frameworks/Python.framework/Versions/3.9/lib/python3.9/site-packages/numpy/lib/_datasource.py:532\u001b[0m, in \u001b[0;36mDataSource.open\u001b[0;34m(self, path, mode, encoding, newline)\u001b[0m\n\u001b[1;32m    529\u001b[0m     \u001b[38;5;28;01mreturn\u001b[39;00m _file_openers[ext](found, mode\u001b[38;5;241m=\u001b[39mmode,\n\u001b[1;32m    530\u001b[0m                               encoding\u001b[38;5;241m=\u001b[39mencoding, newline\u001b[38;5;241m=\u001b[39mnewline)\n\u001b[1;32m    531\u001b[0m \u001b[38;5;28;01melse\u001b[39;00m:\n\u001b[0;32m--> 532\u001b[0m     \u001b[38;5;28;01mraise\u001b[39;00m \u001b[38;5;167;01mFileNotFoundError\u001b[39;00m(\u001b[38;5;124mf\u001b[39m\u001b[38;5;124m\"\u001b[39m\u001b[38;5;132;01m{\u001b[39;00mpath\u001b[38;5;132;01m}\u001b[39;00m\u001b[38;5;124m not found.\u001b[39m\u001b[38;5;124m\"\u001b[39m)\n",
      "\u001b[0;31mFileNotFoundError\u001b[0m: ../../partial/louds/backtracking/j3-f0-k1000-time.txt not found."
     ]
    }
   ],
   "source": [
    "data = []\n",
    "rows, cols = 17, 9 \n",
    "row_template = [0] * cols\n",
    "data = [row_template[:] for _ in range(rows)]\n",
    "\n",
    "#ti4.set_yscale('log')  # Use logarithmic scale if the difference is large\n",
    "\n",
    "for type_fun in [0]:#,1]:\n",
    "    for k in [1000]: \n",
    "        for i,query in enumerate(queries_label): \n",
    "            file = f\"{query}-f{type_fun}-k{k}-time.txt\"\n",
    "            file_original = f\"{query}-k{k}-time.txt\"\n",
    "            \n",
    "            original = np.loadtxt(f'../../original/{file_original}', dtype=float)\n",
    "            partialLoudsBack = np.loadtxt(f'../../partial/louds/backtracking/{file}', dtype=float)\n",
    "            partialLoudsNon = np.loadtxt(f'../../partial/louds/optimalOrder/{file}', dtype=float)\n",
    "            partialDfudsBack = np.loadtxt(f'../../partial/dfuds/backtracking/{file}', dtype=float)\n",
    "            partialDfudsNon = np.loadtxt(f'../../partial/dfuds/optimalOrder/{file}', dtype=float)\n",
    "\n",
    "            rankedLoudsBack = np.loadtxt(f'../../ranked/louds/backtracking/{file}', dtype=float)\n",
    "            rankedLoudsNon = np.loadtxt(f'../../ranked/louds/optimalOrder/{file}', dtype=float)\n",
    "            rankedDfudsBack = np.loadtxt(f'../../ranked/dfuds/backtracking/{file}', dtype=float)\n",
    "            rankedDfudsNon = np.loadtxt(f'../../ranked/dfuds/optimalOrder/{file}', dtype=float)\n",
    "            data[i] = [original, \n",
    "                       partialLoudsBack, \n",
    "                       partialLoudsNon, \n",
    "                       partialDfudsBack, \n",
    "                       partialDfudsNon,\n",
    "                       rankedLoudsBack, \n",
    "                       rankedLoudsNon, \n",
    "                       rankedDfudsBack, \n",
    "                       rankedDfudsNon]"
   ]
  },
  {
   "cell_type": "code",
   "execution_count": 9,
   "id": "8406d8bb",
   "metadata": {},
   "outputs": [],
   "source": [
    "# colors:\n",
    "# https://matplotlib.org/stable/gallery/color/named_colors.html\n",
    "#colors = ['hotpink','red','peru']#, 'lightsalmon', 'gold', 'dodgerblue', 'darkturquoise', 'mediumspringgreen', 'lime']\n",
    "colors = ['red','hotpink', 'peru','lightsalmon', 'gold', 'dodgerblue', 'darkturquoise', 'mediumspringgreen', 'lime']\n"
   ]
  },
  {
   "cell_type": "code",
   "execution_count": null,
   "id": "e94e5bf8",
   "metadata": {},
   "outputs": [],
   "source": [
    "# GRAPH\n",
    "# Crear la figura\n",
    "fig = plt.figure(figsize=(14,10))\n",
    "\n",
    "# Crear un GridSpec con la distribución deseada\n",
    "gs = gridspec.GridSpec(3, 6, figure=fig, hspace=0.1, wspace=0.2)\n",
    "\n",
    "# Añadir los subplots a la figura\n",
    "j3 = fig.add_subplot(gs[0, 0])\n",
    "j4 = fig.add_subplot(gs[0, 1],sharey=j3)\n",
    "p2 = fig.add_subplot(gs[0, 2],sharey=j3)\n",
    "p3 = fig.add_subplot(gs[0, 3],sharey=j3)\n",
    "p4 = fig.add_subplot(gs[0, 4], sharey=j3)\n",
    "color_legend = fig.add_subplot(gs[0, 5]) # Space for the legend\n",
    "color_legend.axis('off')  # Hide the axis\n",
    "\n",
    "s1 = fig.add_subplot(gs[1, 0])\n",
    "s2 = fig.add_subplot(gs[1, 1],sharey=s1)\n",
    "s3 = fig.add_subplot(gs[1, 2],sharey=s1)\n",
    "s4 = fig.add_subplot(gs[1, 3],sharey=s1)\n",
    "t2 = fig.add_subplot(gs[1, 4],sharey=s1)\n",
    "t3 = fig.add_subplot(gs[1, 5], sharey=s1)\n",
    "\n",
    "t4 = fig.add_subplot(gs[2, 0])\n",
    "ti2 = fig.add_subplot(gs[2, 1],sharey=t4)\n",
    "ti3 = fig.add_subplot(gs[2, 2],sharey=t4)\n",
    "ti4 = fig.add_subplot(gs[2, 3], sharey=t4)\n",
    "tr1 = fig.add_subplot(gs[2, 4],sharey=t4)\n",
    "tr2 = fig.add_subplot(gs[2, 5],sharey=t4)\n",
    "\n",
    "j3.set_ylabel('Time (ms)')\n",
    "s1.set_ylabel('Time (ms)')\n",
    "t4.set_ylabel('Time (ms)')\n",
    "\n",
    "\n",
    "# Plot as usual\n",
    "for i, query in enumerate([j3, j4, p2, p3, p4, s1, s2, s3, s4, t2, t3, t4, ti2, ti3, ti4, tr1, tr2]):\n",
    "    for j, alg in enumerate(alg_label):\n",
    "        bp = query.boxplot(data[i][j], positions=[j], whis=1, widths=0.4, patch_artist=True, \n",
    "                           boxprops=dict(facecolor=colors[j], color=colors[j], label=alg_label[j]),\n",
    "                           medianprops=dict(color='blueviolet'))\n",
    "#    query.set_yscale('log')\n",
    "    query.set_title(queries_title[i])\n",
    "    query.axes.get_xaxis().set_visible(False)\n",
    "    if query != j3 and query != s1 and query != t4:\n",
    "        query.axes.get_yaxis().set_visible(False)\n",
    "        \n",
    "        \n",
    "        \n",
    "handles, labels = j3.get_legend_handles_labels()\n",
    "color_legend.legend(\n",
    "    handles,\n",
    "    labels,\n",
    "    loc='center',\n",
    "    fontsize=12,  # Increase font size for the legend\n",
    "    title='Algorithms',  # Add title\n",
    "    title_fontsize=13  # Set font size for the title\n",
    ")\n",
    "\n",
    "    \n",
    "fig.suptitle('Time to retrieve k=1000 results', fontsize=18, fontweight='bold')\n",
    "\n",
    "    \n",
    "plt.savefig('/Users/asugomez/Desktop/Magister/Tesis/tesisQdags/imagenes/allAlgorithms_fix_k-time.pdf')\n",
    "\n",
    "plt.show()\n"
   ]
  },
  {
   "cell_type": "code",
   "execution_count": 13,
   "id": "d690b45b",
   "metadata": {},
   "outputs": [],
   "source": [
    "## second scenario: only plot queries with results > 1000\n",
    "alg_label = [\"Original\",\n",
    "            \"Grad. LOUDS Backtrack.\", \n",
    "             \"Grad. LOUDS Op. Order\",\n",
    "             \"Grad. DFUDS Backtrack.\", \n",
    "             \"Grad. DFUDS Op. Order\",\n",
    "             \"R. LOUDS Backtrack.\", \n",
    "             \"R. LOUDS Op. Order\",\n",
    "             \"R. DFUDS Backtrack.\", \n",
    "             \"R. DFUDS Op. Order\"]\n",
    "queries_title_v1000 = [\"J3\",\"J4\",\"P2\",\"P3\",\"P4\",\"S3\",\"T2\",\"T3\",\"T4\",\"Ti2\",\"Ti3\"] #\"S3\",\"T3\",\"Ti4 (log scale)\"\n",
    "queries_label_v1000=[\"j3\",\"j4\",\"p2\",\"p3\",\"p4\",\"s3\",\"t2\",\"t3\",\"t4\",\"ti2\",\"ti3\"] # \"s3\", \"t3\",\"ti4\""
   ]
  },
  {
   "cell_type": "code",
   "execution_count": 15,
   "id": "226ffcf9",
   "metadata": {},
   "outputs": [],
   "source": [
    "data_v1000 = []\n",
    "rows, cols = 12, 9 #TODO: change this\n",
    "row_template = [0] * cols\n",
    "data_v1000 = [row_template[:] for _ in range(rows)]\n",
    "\n",
    "#ti4.set_yscale('log')  # Use logarithmic scale if the difference is large\n",
    "\n",
    "for type_fun in [0]:#,1]:\n",
    "    for k in [1000]: \n",
    "        for i,query in enumerate(queries_label_v1000): \n",
    "            file = f\"{query}-f{type_fun}-k{k}-v1000-time.txt\"\n",
    "            file_original = f\"{query}-k{k}-v1000-time.txt\"\n",
    "            # Load files and convert from hexadecimal\n",
    "            original = load_hex_file(f'../../query1000results/original/{file_original}')\n",
    "            partialLoudsBack = load_hex_file(f'../../query1000results/partial/louds/backtracking/{file}')\n",
    "            partialLoudsNon = load_hex_file(f'../../query1000results/partial/louds/optimalOrder/{file}')\n",
    "            partialDfudsBack = load_hex_file(f'../../query1000results/partial/dfuds/backtracking/{file}')\n",
    "            partialDfudsNon = load_hex_file(f'../../query1000results/partial/dfuds/optimalOrder/{file}')\n",
    "\n",
    "            rankedLoudsBack = load_hex_file(f'../../query1000results/ranked/louds/backtracking/{file}')\n",
    "            rankedLoudsNon = load_hex_file(f'../../query1000results/ranked/louds/optimalOrder/{file}')\n",
    "            rankedDfudsBack = load_hex_file(f'../../query1000results/ranked/dfuds/backtracking/{file}')\n",
    "            rankedDfudsNon = load_hex_file(f'../../query1000results/ranked/dfuds/optimalOrder/{file}')\n",
    "\n",
    "      \n",
    "            data_v1000[i] = [original, \n",
    "                       partialLoudsBack, \n",
    "                       partialLoudsNon, \n",
    "                       partialDfudsBack, \n",
    "                       partialDfudsNon,\n",
    "                       rankedLoudsBack, \n",
    "                       rankedLoudsNon, \n",
    "                       rankedDfudsBack, \n",
    "                       rankedDfudsNon]\n",
    "                "
   ]
  },
  {
   "cell_type": "code",
   "execution_count": 29,
   "id": "ebe26ea2",
   "metadata": {},
   "outputs": [
    {
     "data": {
      "text/plain": [
       "array([], dtype=float64)"
      ]
     },
     "execution_count": 29,
     "metadata": {},
     "output_type": "execute_result"
    }
   ],
   "source": [
    "data_v1000[8][0]"
   ]
  },
  {
   "cell_type": "code",
   "execution_count": 16,
   "id": "5cc0d145",
   "metadata": {},
   "outputs": [],
   "source": [
    "# colors:\n",
    "# https://matplotlib.org/stable/gallery/color/named_colors.html\n",
    "#colors = ['hotpink','red','peru']#, 'lightsalmon', 'gold', 'dodgerblue', 'darkturquoise', 'mediumspringgreen', 'lime']\n",
    "colors = ['red','hotpink', 'peru','lightsalmon', 'gold', 'dodgerblue', 'darkturquoise', 'mediumspringgreen', 'lime']\n"
   ]
  },
  {
   "cell_type": "code",
   "execution_count": 10,
   "id": "75fa15b5",
   "metadata": {},
   "outputs": [
    {
     "ename": "NameError",
     "evalue": "name 'data_v1000' is not defined",
     "output_type": "error",
     "traceback": [
      "\u001b[0;31m---------------------------------------------------------------------------\u001b[0m",
      "\u001b[0;31mNameError\u001b[0m                                 Traceback (most recent call last)",
      "Input \u001b[0;32mIn [10]\u001b[0m, in \u001b[0;36m<cell line: 34>\u001b[0;34m()\u001b[0m\n\u001b[1;32m     34\u001b[0m \u001b[38;5;28;01mfor\u001b[39;00m i, query \u001b[38;5;129;01min\u001b[39;00m \u001b[38;5;28menumerate\u001b[39m([j3,j4,p2,p3,p4,s3,t2,t3,t4,ti2,ti3]):\n\u001b[1;32m     35\u001b[0m     \u001b[38;5;28;01mfor\u001b[39;00m j, alg \u001b[38;5;129;01min\u001b[39;00m \u001b[38;5;28menumerate\u001b[39m(alg_label):\n\u001b[0;32m---> 36\u001b[0m         bp \u001b[38;5;241m=\u001b[39m query\u001b[38;5;241m.\u001b[39mboxplot(\u001b[43mdata_v1000\u001b[49m[i][j], positions\u001b[38;5;241m=\u001b[39m[j], whis\u001b[38;5;241m=\u001b[39m\u001b[38;5;241m1\u001b[39m, widths\u001b[38;5;241m=\u001b[39m\u001b[38;5;241m0.4\u001b[39m, patch_artist\u001b[38;5;241m=\u001b[39m\u001b[38;5;28;01mTrue\u001b[39;00m, \n\u001b[1;32m     37\u001b[0m                            boxprops\u001b[38;5;241m=\u001b[39m\u001b[38;5;28mdict\u001b[39m(facecolor\u001b[38;5;241m=\u001b[39mcolors[j], color\u001b[38;5;241m=\u001b[39mcolors[j], label\u001b[38;5;241m=\u001b[39malg_label[j]),\n\u001b[1;32m     38\u001b[0m                            medianprops\u001b[38;5;241m=\u001b[39m\u001b[38;5;28mdict\u001b[39m(color\u001b[38;5;241m=\u001b[39m\u001b[38;5;124m'\u001b[39m\u001b[38;5;124mblueviolet\u001b[39m\u001b[38;5;124m'\u001b[39m))\n\u001b[1;32m     39\u001b[0m     \u001b[38;5;66;03m#query.set_yscale('log')\u001b[39;00m\n\u001b[1;32m     40\u001b[0m     query\u001b[38;5;241m.\u001b[39mset_title(queries_title_v1000[i])\n",
      "\u001b[0;31mNameError\u001b[0m: name 'data_v1000' is not defined"
     ]
    },
    {
     "data": {
      "image/png": "[encoded data removed]",
      "text/plain": [
       "<Figure size 864x1080 with 12 Axes>"
      ]
     },
     "metadata": {
      "needs_background": "light"
     },
     "output_type": "display_data"
    }
   ],
   "source": [
    "# Crear la figura\n",
    "fig = plt.figure(figsize=(12,15))\n",
    "\n",
    "# Crear un GridSpec con la distribución deseada\n",
    "gs = gridspec.GridSpec(5,3, figure=fig, hspace=0.2, wspace=0.2)\n",
    "\n",
    "# Añadir los subplots a la figura\n",
    "t2 = fig.add_subplot(gs[0, 0])\n",
    "p3 = fig.add_subplot(gs[0, 1],sharey=t2)\n",
    "j4 = fig.add_subplot(gs[0, 2],sharey=t2)\n",
    "ti2 = fig.add_subplot(gs[1, 0])\n",
    "p2 = fig.add_subplot(gs[1,1],sharey=ti2)\n",
    "# Use the space of [1,2], [2,2], and [3,2] for the legend\n",
    "color_legend = fig.add_subplot(gs[1:4, 2])  # Span rows 1 to 3 in the third column\n",
    "color_legend.axis('off')  # Hide the axes for the legend subplot\n",
    "\n",
    "j3 = fig.add_subplot(gs[2, 0])\n",
    "p4 = fig.add_subplot(gs[2, 1],sharey=j3)\n",
    "\n",
    "t4 = fig.add_subplot(gs[3, 0])\n",
    "ti3 = fig.add_subplot(gs[3, 1],sharey=t4)\n",
    "\n",
    "t3 = fig.add_subplot(gs[4,0])\n",
    "s3 = fig.add_subplot(gs[4, 1],sharey=t3)\n",
    "\n",
    "t2.set_ylabel('Time (ms)')\n",
    "ti2.set_ylabel('Time (ms)')\n",
    "j3.set_ylabel('Time (ms)')\n",
    "t3.set_ylabel('Time (ms)')\n",
    "t4.set_ylabel('Time (ms)')\n",
    "\n",
    "\n",
    "# Plot as usual\n",
    "for i, query in enumerate([j3,j4,p2,p3,p4,s3,t2,t3,t4,ti2,ti3]):\n",
    "    for j, alg in enumerate(alg_label):\n",
    "        bp = query.boxplot(data_v1000[i][j], positions=[j], whis=1, widths=0.4, patch_artist=True, \n",
    "                           boxprops=dict(facecolor=colors[j], color=colors[j], label=alg_label[j]),\n",
    "                           medianprops=dict(color='blueviolet'))\n",
    "    #query.set_yscale('log')\n",
    "    query.set_title(queries_title_v1000[i])\n",
    "    query.axes.get_xaxis().set_visible(False)\n",
    "    if query != t2 and query != ti2 and query != j3 and query != t3 and query != t4:\n",
    "        query.axes.get_yaxis().set_visible(False)\n",
    "        \n",
    "        \n",
    "        \n",
    "handles, labels = j3.get_legend_handles_labels()\n",
    "color_legend.legend(handles, labels, loc='center', fontsize='x-small')\n",
    "    \n",
    "color_legend.legend(\n",
    "    handles,\n",
    "    labels,\n",
    "    loc='center',\n",
    "    fontsize=14,  # Increase font size for the legend\n",
    "    title='Algorithms',  # Add title\n",
    "    title_fontsize=16  # Set font size for the title\n",
    ")\n",
    "\n",
    "# Global ylabel\n",
    "#fig.text(0.07, 0.6, 'Number of nodes visited', va='center', rotation='vertical', fontsize=20)\n",
    "\n",
    "# Add a title to the entire figure\n",
    "fig.suptitle('Time to retrieve k=1000 results', fontsize=18, fontweight='bold')\n",
    "\n",
    "plt.savefig('/Users/asugomez/Desktop/Magister/Tesis/tesisQdags/imagenes/allAlgorithms_fix_k-v1000-time.pdf')\n",
    "\n",
    "plt.show()"
   ]
  },
  {
   "cell_type": "code",
   "execution_count": null,
   "id": "21e068ef",
   "metadata": {},
   "outputs": [],
   "source": []
  }
 ],
 "metadata": {
  "kernelspec": {
   "display_name": "Python 3 (ipykernel)",
   "language": "python",
   "name": "python3"
  },
  "language_info": {
   "codemirror_mode": {
    "name": "ipython",
    "version": 3
   },
   "file_extension": ".py",
   "mimetype": "text/x-python",
   "name": "python",
   "nbconvert_exporter": "python",
   "pygments_lexer": "ipython3",
   "version": "3.9.10"
  }
 },
 "nbformat": 4,
 "nbformat_minor": 5
}
