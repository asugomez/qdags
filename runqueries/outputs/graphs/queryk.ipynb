{
 "cells": [
  {
   "cell_type": "code",
   "execution_count": 12,
   "id": "82d23d9d",
   "metadata": {},
   "outputs": [],
   "source": [
    "import pandas as pd\n",
    "import matplotlib.pyplot as plt\n",
    "import matplotlib.gridspec as gridspec\n",
    "import numpy as np"
   ]
  },
  {
   "cell_type": "code",
   "execution_count": 20,
   "id": "e3a1aac7",
   "metadata": {},
   "outputs": [],
   "source": [
    "#alg_label = [\"G. LOUDS Backtracking\", \"G. LOUDS Optimal Order\", \n",
    "#                \"G. DFUDS Backtracking\", \"G. DFUDS Optimal Order\",\n",
    " #               \"R. LOUDS Backtracking\", \"R. LOUDS Optimal Order\",\n",
    "  #              \"R. DFUDS Backtracking\", \"R. DFUDS Optimal Order\"]\n",
    "alg_label = [\"G. LOUDS Backtrack.\", \"G. LOUDS Op. Order\", \n",
    "                \"G. DFUDS Backtrack.\", \"G. DFUDS Op. Order\",\n",
    "                \"R. LOUDS Backtrack.\", \"R. LOUDS Op. Order\",\n",
    "                \"R. DFUDS Backtrack.\", \"R. DFUDS Op. Order\"]\n",
    "queries_label = [\"j3\",\"j4\",\"p2\",\"p3\",\"p4\",\"s1\",\"s2\",\"s3\",\"s4\",\"t2\",\"t3\",\"t4\",\"ti2\",\"ti3\",\"ti4\",\"tr1\",\"tr2\"]\n",
    "queries_title = [\"J3\",\"J4\",\"P2\",\"P3\",\"P4\",\"S1\",\"S2\",\"S3\",\"S4\",\"T2\",\"T3\",\"T4\",\"Ti2\",\"Ti3\",\"Ti4\",\"Tr1\",\"Tr2\"]"
   ]
  },
  {
   "cell_type": "code",
   "execution_count": 21,
   "id": "d63d1703",
   "metadata": {},
   "outputs": [
    {
     "name": "stdout",
     "output_type": "stream",
     "text": [
      "results-f0.csv\n",
      "0\n"
     ]
    }
   ],
   "source": [
    "# box plots for each query\n",
    "# TODO: make file j3... variable\n",
    "# TDO hacer un for para cada query y función y tamaño k\n",
    "j3,j4,p2,p3,p4,s1,s2,s3,s4,t2,t3,t4,ti2,ti3,ti4,tr1,tr2 = [],[],[],[],[],[],[],[],[],[],[],[],[],[],[],[],[]\n",
    "data = [j3,j4,p2,p3,p4,s1,s2,s3,s4,t2,t3,t4,ti2,ti3,ti4,tr1,tr2]\n",
    "datasets =[[],[],[],[],[],[],[],[]]\n",
    "for i,type_fun in enumerate([0]):#,1]):\n",
    "    file = f\"results-f{type_fun}.csv\"\n",
    "    print(file)\n",
    "    partialLoudsBack = pd.read_csv(f'../partial/louds/backtracking/{file}', delimiter=';')\n",
    "    partialLoudsNon = pd.read_csv(f'../partial/louds/nonFixedQueue/{file}', delimiter=';')\n",
    "    partialDfudsBack = pd.read_csv(f'../partial/dfuds/backtracking/{file}', delimiter=';')\n",
    "    partialDfudsNon = pd.read_csv(f'../partial/dfuds/nonFixedQueue/{file}', delimiter=';')\n",
    "\n",
    "    rankedLoudsBack = pd.read_csv(f'../ranked/louds/backtracking/{file}', delimiter=';')\n",
    "    rankedLoudsNon = pd.read_csv(f'../ranked/louds/nonFixedQueue/{file}', delimiter=';')\n",
    "    rankedDfudsBack = pd.read_csv(f'../ranked/dfuds/backtracking/{file}', delimiter=';')\n",
    "    rankedDfudsNon = pd.read_csv(f'../ranked/dfuds/nonFixedQueue/{file}', delimiter=';')\n",
    "    \n",
    "    datasets[i] = [partialLoudsBack, partialLoudsNon, partialDfudsBack, partialDfudsNon,\n",
    "                     rankedLoudsBack,rankedLoudsNon, rankedDfudsBack, rankedDfudsNon]\n",
    "    #traditional = pd.read_csv(f'../all/results.csv',delimiter=';')\n",
    "    print(i)\n",
    "    for j,query in enumerate(queries_label):\n",
    "        data[j] = [partialLoudsBack[query], partialLoudsNon[query], partialDfudsBack[query], partialDfudsNon[query], rankedLoudsBack[query], rankedLoudsNon[query], rankedDfudsBack[query], rankedDfudsNon[query]]\n",
    "        "
   ]
  },
  {
   "cell_type": "code",
   "execution_count": 22,
   "id": "9e8cc09d",
   "metadata": {},
   "outputs": [
    {
     "data": {
      "text/html": [
       "<div>\n",
       "<style scoped>\n",
       "    .dataframe tbody tr th:only-of-type {\n",
       "        vertical-align: middle;\n",
       "    }\n",
       "\n",
       "    .dataframe tbody tr th {\n",
       "        vertical-align: top;\n",
       "    }\n",
       "\n",
       "    .dataframe thead th {\n",
       "        text-align: right;\n",
       "    }\n",
       "</style>\n",
       "<table border=\"1\" class=\"dataframe\">\n",
       "  <thead>\n",
       "    <tr style=\"text-align: right;\">\n",
       "      <th></th>\n",
       "      <th>k</th>\n",
       "      <th>j3</th>\n",
       "      <th>j4</th>\n",
       "      <th>p2</th>\n",
       "      <th>p3</th>\n",
       "      <th>p4</th>\n",
       "      <th>s1</th>\n",
       "      <th>s2</th>\n",
       "      <th>s3</th>\n",
       "      <th>s4</th>\n",
       "      <th>t2</th>\n",
       "      <th>t3</th>\n",
       "      <th>t4</th>\n",
       "      <th>ti2</th>\n",
       "      <th>ti3</th>\n",
       "      <th>ti4</th>\n",
       "      <th>tr1</th>\n",
       "      <th>tr2</th>\n",
       "    </tr>\n",
       "  </thead>\n",
       "  <tbody>\n",
       "    <tr>\n",
       "      <th>0</th>\n",
       "      <td>1</td>\n",
       "      <td>19.5552</td>\n",
       "      <td>NaN</td>\n",
       "      <td>0.628135</td>\n",
       "      <td>1.81298</td>\n",
       "      <td>NaN</td>\n",
       "      <td>24.5363</td>\n",
       "      <td>0.007741</td>\n",
       "      <td>0.084542</td>\n",
       "      <td>NaN</td>\n",
       "      <td>NaN</td>\n",
       "      <td>NaN</td>\n",
       "      <td>NaN</td>\n",
       "      <td>NaN</td>\n",
       "      <td>NaN</td>\n",
       "      <td>NaN</td>\n",
       "      <td>NaN</td>\n",
       "      <td>NaN</td>\n",
       "    </tr>\n",
       "    <tr>\n",
       "      <th>1</th>\n",
       "      <td>10</td>\n",
       "      <td>19.5552</td>\n",
       "      <td>NaN</td>\n",
       "      <td>0.628135</td>\n",
       "      <td>1.81298</td>\n",
       "      <td>NaN</td>\n",
       "      <td>24.5363</td>\n",
       "      <td>0.007741</td>\n",
       "      <td>0.084542</td>\n",
       "      <td>NaN</td>\n",
       "      <td>NaN</td>\n",
       "      <td>NaN</td>\n",
       "      <td>NaN</td>\n",
       "      <td>NaN</td>\n",
       "      <td>NaN</td>\n",
       "      <td>NaN</td>\n",
       "      <td>NaN</td>\n",
       "      <td>NaN</td>\n",
       "    </tr>\n",
       "    <tr>\n",
       "      <th>2</th>\n",
       "      <td>100</td>\n",
       "      <td>19.5552</td>\n",
       "      <td>NaN</td>\n",
       "      <td>0.628135</td>\n",
       "      <td>1.81298</td>\n",
       "      <td>NaN</td>\n",
       "      <td>24.5363</td>\n",
       "      <td>0.007741</td>\n",
       "      <td>0.084542</td>\n",
       "      <td>NaN</td>\n",
       "      <td>NaN</td>\n",
       "      <td>NaN</td>\n",
       "      <td>NaN</td>\n",
       "      <td>NaN</td>\n",
       "      <td>NaN</td>\n",
       "      <td>NaN</td>\n",
       "      <td>NaN</td>\n",
       "      <td>NaN</td>\n",
       "    </tr>\n",
       "  </tbody>\n",
       "</table>\n",
       "</div>"
      ],
      "text/plain": [
       "     k       j3  j4        p2       p3  p4       s1        s2        s3  s4  \\\n",
       "0    1  19.5552 NaN  0.628135  1.81298 NaN  24.5363  0.007741  0.084542 NaN   \n",
       "1   10  19.5552 NaN  0.628135  1.81298 NaN  24.5363  0.007741  0.084542 NaN   \n",
       "2  100  19.5552 NaN  0.628135  1.81298 NaN  24.5363  0.007741  0.084542 NaN   \n",
       "\n",
       "   t2  t3  t4  ti2  ti3  ti4  tr1  tr2  \n",
       "0 NaN NaN NaN  NaN  NaN  NaN  NaN  NaN  \n",
       "1 NaN NaN NaN  NaN  NaN  NaN  NaN  NaN  \n",
       "2 NaN NaN NaN  NaN  NaN  NaN  NaN  NaN  "
      ]
     },
     "execution_count": 22,
     "metadata": {},
     "output_type": "execute_result"
    }
   ],
   "source": [
    "rankedLoudsBack\n"
   ]
  },
  {
   "cell_type": "code",
   "execution_count": 23,
   "id": "0d01be8f",
   "metadata": {},
   "outputs": [
    {
     "data": {
      "text/plain": [
       "[0    0.000018\n",
       " 1    0.000018\n",
       " 2    0.000018\n",
       " Name: j3, dtype: float64,\n",
       " 0    76.9819\n",
       " 1    76.9819\n",
       " 2    76.9819\n",
       " Name: j3, dtype: float64,\n",
       " 0    0.000013\n",
       " 1    0.000013\n",
       " 2    0.000013\n",
       " Name: j3, dtype: float64,\n",
       " 0    5.86112\n",
       " 1    5.86112\n",
       " 2    5.86112\n",
       " Name: j3, dtype: float64,\n",
       " 0    19.5552\n",
       " 1    19.5552\n",
       " 2    19.5552\n",
       " Name: j3, dtype: float64,\n",
       " 0    22.9859\n",
       " 1    22.9859\n",
       " 2    22.9859\n",
       " Name: j3, dtype: float64,\n",
       " 1     NaN\n",
       " 10    NaN\n",
       " 100   NaN\n",
       " Name: j3, dtype: float64,\n",
       " 0    27.4224\n",
       " 1    27.4224\n",
       " 2    27.4224\n",
       " Name: j3, dtype: float64]"
      ]
     },
     "execution_count": 23,
     "metadata": {},
     "output_type": "execute_result"
    }
   ],
   "source": [
    "data[0]"
   ]
  },
  {
   "cell_type": "code",
   "execution_count": 24,
   "id": "d2f9c255",
   "metadata": {},
   "outputs": [
    {
     "data": {
      "text/plain": [
       "Index(['j3', 'j4', 'p2', 'p3', 'p4', 's1', 's2', 's3', 's4', 't2', 't3', 't4',\n",
       "       'ti2', 'ti3', 'ti4', 'tr1', 'tr2'],\n",
       "      dtype='object')"
      ]
     },
     "execution_count": 24,
     "metadata": {},
     "output_type": "execute_result"
    }
   ],
   "source": [
    "variables = datasets[0][0].columns[1:]  # Excluir la columna 'k'\n",
    "variables"
   ]
  },
  {
   "cell_type": "code",
   "execution_count": 25,
   "id": "0179513d",
   "metadata": {},
   "outputs": [],
   "source": [
    "colors = ['red', 'peru','lightsalmon', 'gold', 'dodgerblue', 'darkturquoise', 'mediumspringgreen', 'lime']"
   ]
  },
  {
   "cell_type": "code",
   "execution_count": 29,
   "id": "75c05c94",
   "metadata": {
    "scrolled": true
   },
   "outputs": [
    {
     "data": {
      "image/png": "[encoded data removed]",
      "text/plain": [
       "<Figure size 720x504 with 18 Axes>"
      ]
     },
     "metadata": {
      "needs_background": "light"
     },
     "output_type": "display_data"
    }
   ],
   "source": [
    "# Crear la figura\n",
    "fig = plt.figure(figsize=(10, 7))\n",
    "\n",
    "# Crear un GridSpec con la distribución deseada\n",
    "gs = gridspec.GridSpec(3, 6, figure=fig, hspace=0.2, wspace=0.1)\n",
    "\n",
    "# Añadir los subplots a la figura\n",
    "j3 = fig.add_subplot(gs[0, 0])\n",
    "j4 = fig.add_subplot(gs[0, 1], sharex=j3, sharey=j3)\n",
    "p2 = fig.add_subplot(gs[0, 2], sharex=j3, sharey=j3)\n",
    "p3 = fig.add_subplot(gs[0, 3], sharex=j3, sharey=j3)\n",
    "p4 = fig.add_subplot(gs[0, 4], sharex=j3, sharey=j3)\n",
    "color_legend = fig.add_subplot(gs[0, 5]) # Space for the legend\n",
    "color_legend.axis('off')  # Hide the axis\n",
    "\n",
    "s1 = fig.add_subplot(gs[1, 0], sharex=j3, sharey=j3)\n",
    "s2 = fig.add_subplot(gs[1, 1], sharex=j3, sharey=j3)\n",
    "s3 = fig.add_subplot(gs[1, 2], sharex=j3, sharey=j3)\n",
    "s4 = fig.add_subplot(gs[1, 3], sharex=j3, sharey=j3)\n",
    "t2 = fig.add_subplot(gs[1, 4], sharex=j3, sharey=j3)\n",
    "t3 = fig.add_subplot(gs[1, 5], sharex=j3, sharey=j3)\n",
    "\n",
    "t4 = fig.add_subplot(gs[2, 0], sharex=j3, sharey=j3)\n",
    "ti2 = fig.add_subplot(gs[2, 1], sharex=j3, sharey=j3)\n",
    "ti3 = fig.add_subplot(gs[2, 2], sharex=j3, sharey=j3)\n",
    "ti4 = fig.add_subplot(gs[2, 3], sharex=j3, sharey=j3)\n",
    "tr1 = fig.add_subplot(gs[2, 4], sharex=j3, sharey=j3)\n",
    "tr2 = fig.add_subplot(gs[2, 5], sharex=j3, sharey=j3)\n",
    "\n",
    "j3.set_ylabel('Time (ms)')\n",
    "s1.set_ylabel('Time (ms)')\n",
    "#s3.set_ylabel('Time (ms)')\n",
    "t4.set_ylabel('Time (ms)')\n",
    "\n",
    "t4.set_xlabel('k results')\n",
    "ti2.set_xlabel('k results')\n",
    "ti3.set_xlabel('k results')\n",
    "ti4.set_xlabel('k results')\n",
    "tr1.set_xlabel('k results')\n",
    "tr2.set_xlabel('k results')\n",
    "#tr1.set_ylabel('Time (ms)')\n",
    "# plot type_fun = 0\n",
    "type_fun=0\n",
    "\n",
    "for i,query in enumerate([j3,j4,p2,p3,p4,s1,s2,s3,s4,t2,t3,t4,ti2,ti3,ti4,tr1,tr2]):\n",
    "    for j, alg in enumerate(alg_label):\n",
    "        query.plot(datasets[0][0]['k'], data[i][j], marker='', color=colors[j], label=alg_label[j])\n",
    "    query.set_xscale('log')\n",
    "    query.set_yscale('log')\n",
    "    query.set_title(queries_title[i])\n",
    "    if(query != j3 and query != s1 and query != t4):\n",
    "        query.axes.get_yaxis().set_visible(False)\n",
    "    if(query != t4 and query != ti2 and query != ti3 and query != ti4 and query != tr1 and query != tr2):\n",
    "        query.axes.get_xaxis().set_visible(False)\n",
    "\n",
    "handles, labels = j3.get_legend_handles_labels()\n",
    "color_legend.legend(handles, labels, loc='center', fontsize='x-small')\n",
    "\n",
    "\n",
    "plt.savefig('/Users/asugomez/Desktop/Magister/Tesis/tesisQdags/imagenes/all_queries_k_1_10_100_1000.pdf')\n",
    "\n",
    "plt.show()\n",
    " "
   ]
  },
  {
   "cell_type": "code",
   "execution_count": null,
   "id": "b774b458",
   "metadata": {},
   "outputs": [],
   "source": []
  },
  {
   "cell_type": "code",
   "execution_count": null,
   "id": "2ca7c1eb",
   "metadata": {},
   "outputs": [],
   "source": []
  }
 ],
 "metadata": {
  "kernelspec": {
   "display_name": "Python 3 (ipykernel)",
   "language": "python",
   "name": "python3"
  },
  "language_info": {
   "codemirror_mode": {
    "name": "ipython",
    "version": 3
   },
   "file_extension": ".py",
   "mimetype": "text/x-python",
   "name": "python",
   "nbconvert_exporter": "python",
   "pygments_lexer": "ipython3",
   "version": "3.9.10"
  }
 },
 "nbformat": 4,
 "nbformat_minor": 5
}
