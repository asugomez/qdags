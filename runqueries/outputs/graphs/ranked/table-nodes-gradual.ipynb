{
 "cells": [
  {
   "cell_type": "code",
   "execution_count": 2,
   "id": "ab6589f6",
   "metadata": {},
   "outputs": [],
   "source": [
    "# table to visualize % nodes visited in original and ranked enum. algorithms\n"
   ]
  },
  {
   "cell_type": "code",
   "execution_count": 14,
   "id": "0fc0fa13",
   "metadata": {},
   "outputs": [],
   "source": [
    "import pandas as pd\n",
    "import matplotlib.pyplot as plt\n",
    "import matplotlib.gridspec as gridspec\n",
    "import numpy as np\n",
    "import seaborn as sns"
   ]
  },
  {
   "cell_type": "code",
   "execution_count": 25,
   "id": "2f3462a6",
   "metadata": {},
   "outputs": [],
   "source": [
    "alg_label = [\"Original\",\n",
    "             \"G. LOUDS Backtrack.\", \n",
    "             \"G. LOUDS Op. Order\",\n",
    "             \"G. DFUDS Backtrack.\", \n",
    "             \"G. DFUDS Op. Order\"]\n",
    "        \n",
    "queries_label = [\"j3\",\"j4\",\"p2\",\"p3\",\"p4\",\"s1\",\"s2\",\"s3\",\"s4\",\"t2\",\"t3\",\"t4\",\"ti2\",\"ti3\",\"ti4\",\"tr1\",\"tr2\"]\n",
    "\n",
    "queries_title = [\"J3\",\"J4\",\"P2\",\"P3\",\"P4\",\"S1\",\"S2\",\"S3\",\"S4\",\"T2\",\"T3\",\"T4\",\"Ti2\",\"Ti3\",\"Ti4\",\"Tr1\",\"Tr2\"]"
   ]
  },
  {
   "cell_type": "code",
   "execution_count": 28,
   "id": "a32554c4",
   "metadata": {},
   "outputs": [
    {
     "name": "stderr",
     "output_type": "stream",
     "text": [
      "/var/folders/qg/ggml06zs7tz58wmpl0g0hjhw0000gn/T/ipykernel_37233/897574763.py:41: FutureWarning: DataFrame.applymap has been deprecated. Use DataFrame.map instead.\n",
      "  result_table.iloc[:, 1:] = result_table.iloc[:, 1:].applymap(lambda x: round(x, 1))\n"
     ]
    },
    {
     "data": {
      "text/html": [
       "<div>\n",
       "<style scoped>\n",
       "    .dataframe tbody tr th:only-of-type {\n",
       "        vertical-align: middle;\n",
       "    }\n",
       "\n",
       "    .dataframe tbody tr th {\n",
       "        vertical-align: top;\n",
       "    }\n",
       "\n",
       "    .dataframe thead th {\n",
       "        text-align: right;\n",
       "    }\n",
       "</style>\n",
       "<table border=\"1\" class=\"dataframe\">\n",
       "  <thead>\n",
       "    <tr style=\"text-align: right;\">\n",
       "      <th></th>\n",
       "      <th>k</th>\n",
       "      <th>Original</th>\n",
       "      <th>G. Louds Back</th>\n",
       "      <th>G. Louds Opt</th>\n",
       "      <th>G. Dfuds Back</th>\n",
       "      <th>G. Dfuds Opt</th>\n",
       "    </tr>\n",
       "  </thead>\n",
       "  <tbody>\n",
       "    <tr>\n",
       "      <th>0</th>\n",
       "      <td>1</td>\n",
       "      <td>20016094.9</td>\n",
       "      <td>73312449.0</td>\n",
       "      <td>5571219.4</td>\n",
       "      <td>21260604.7</td>\n",
       "      <td>5571219.4</td>\n",
       "    </tr>\n",
       "    <tr>\n",
       "      <th>1</th>\n",
       "      <td>10</td>\n",
       "      <td>51392240.5</td>\n",
       "      <td>73312449.5</td>\n",
       "      <td>12923836.4</td>\n",
       "      <td>52366444.4</td>\n",
       "      <td>12923836.4</td>\n",
       "    </tr>\n",
       "    <tr>\n",
       "      <th>2</th>\n",
       "      <td>100</td>\n",
       "      <td>99506444.4</td>\n",
       "      <td>73312454.5</td>\n",
       "      <td>15831083.7</td>\n",
       "      <td>55542695.6</td>\n",
       "      <td>16682634.9</td>\n",
       "    </tr>\n",
       "    <tr>\n",
       "      <th>3</th>\n",
       "      <td>1000</td>\n",
       "      <td>109339969.3</td>\n",
       "      <td>73312504.5</td>\n",
       "      <td>18136426.9</td>\n",
       "      <td>66400459.6</td>\n",
       "      <td>18136426.9</td>\n",
       "    </tr>\n",
       "  </tbody>\n",
       "</table>\n",
       "</div>"
      ],
      "text/plain": [
       "      k     Original  G. Louds Back  G. Louds Opt  G. Dfuds Back  G. Dfuds Opt\n",
       "0     1   20016094.9     73312449.0     5571219.4     21260604.7     5571219.4\n",
       "1    10   51392240.5     73312449.5    12923836.4     52366444.4    12923836.4\n",
       "2   100   99506444.4     73312454.5    15831083.7     55542695.6    16682634.9\n",
       "3  1000  109339969.3     73312504.5    18136426.9     66400459.6    18136426.9"
      ]
     },
     "execution_count": 28,
     "metadata": {},
     "output_type": "execute_result"
    }
   ],
   "source": [
    "\n",
    "for i,type_fun in enumerate([0]):#,1]):\n",
    "    file = f\"results-f{type_fun}-nodes.csv\"\n",
    "    #print(file)\n",
    "    \n",
    "    k_values = [1, 10, 100, 1000]\n",
    "    \n",
    "    original = pd.read_csv('../../original/results-nodes-gradual.csv',delimiter=';')\n",
    "    meanOriginal = original.mean(axis=1)\n",
    "\n",
    "    \n",
    "    gradualLoudsBack = pd.read_csv(f'../../partial/louds/backtracking/{file}', delimiter=';')\n",
    "    gradualLoudsBack = gradualLoudsBack.loc[:, (gradualLoudsBack != 0).any(axis=0)]\n",
    "    meanGradualLoudsBack = gradualLoudsBack.mean(axis=1)\n",
    "    \n",
    "    gradualLoudsNon = pd.read_csv(f'../../partial/louds/optimalOrder/{file}', delimiter=';')\n",
    "    gradualLoudsNon = gradualLoudsNon.loc[:, (gradualLoudsNon != 0).any(axis=0)]\n",
    "    meanGradualLoudsNon = gradualLoudsNon.mean(axis=1)\n",
    "    \n",
    "    gradualDfudsBack = pd.read_csv(f'../../partial/dfuds/backtracking/{file}', delimiter=';')\n",
    "    gradualDfudsBack = gradualDfudsBack.loc[:, (gradualDfudsBack != 0).any(axis=0)]\n",
    "    meanGradualDfudsBack = gradualDfudsBack.mean(axis=1)\n",
    "    \n",
    "    gradualDfudsNon = pd.read_csv(f'../../partial/dfuds/optimalOrder/{file}', delimiter=';')\n",
    "    gradualDfudsNon = gradualDfudsNon.loc[:, (gradualDfudsNon != 0).any(axis=0)]\n",
    "    meanGradualDfudsNon = gradualDfudsNon.mean(axis=1)\n",
    "    \n",
    "    # Combine into a DataFrame\n",
    "    result_table = pd.DataFrame({\n",
    "        \"k\": k_values,\n",
    "        \"Original\": meanOriginal,\n",
    "        \"G. Louds Back\": meanGradualLoudsBack,\n",
    "        \"G. Louds Opt\": meanGradualLoudsNon,\n",
    "        \"G. Dfuds Back\": meanGradualDfudsBack,\n",
    "        \"G. Dfuds Opt\": meanGradualDfudsNon\n",
    "    })\n",
    "    \n",
    "    #result_table.set_index(\"k\")\n",
    "    result_table\n",
    "    \n",
    "\n",
    "result_table.iloc[:, 1:] = result_table.iloc[:, 1:].applymap(lambda x: round(x, 1))\n",
    "result_table['k'] = result_table['k'].astype(int)\n",
    "result_table\n",
    "#result_table.style.set_caption(\"ras\")\n",
    "#result_table.style.background_gradient(axis=None, vmin=1, vmax=5, cmap=\"YlGnBu\")\n",
    "\n",
    "\n",
    "        "
   ]
  },
  {
   "cell_type": "code",
   "execution_count": 29,
   "id": "4fe872f2",
   "metadata": {},
   "outputs": [
    {
     "name": "stdout",
     "output_type": "stream",
     "text": [
      "\\begin{tabular}{rrrrrr}\n",
      "\\toprule\n",
      "k & Original & G. Louds Back & G. Louds Opt & G. Dfuds Back & G. Dfuds Opt \\\\\n",
      "\\midrule\n",
      "1 & 20,016,094.90 & 73,312,449.00 & 5,571,219.40 & 21,260,604.70 & 5,571,219.40 \\\\\n",
      "10 & 51,392,240.50 & 73,312,449.50 & 12,923,836.40 & 52,366,444.40 & 12,923,836.40 \\\\\n",
      "100 & 99,506,444.40 & 73,312,454.50 & 15,831,083.70 & 55,542,695.60 & 16,682,634.90 \\\\\n",
      "1000 & 109,339,969.30 & 73,312,504.50 & 18,136,426.90 & 66,400,459.60 & 18,136,426.90 \\\\\n",
      "\\bottomrule\n",
      "\\end{tabular}\n",
      "\n"
     ]
    }
   ],
   "source": [
    "# latex table\n",
    "print(result_table.to_latex(index=False,float_format=\"{:,.2f}\".format,))"
   ]
  },
  {
   "cell_type": "code",
   "execution_count": 30,
   "id": "0196e31f",
   "metadata": {},
   "outputs": [],
   "source": [
    "res_rlb =result_table['G. Louds Back']/result_table['Original'] * 100\n",
    "res_rlo=result_table['G. Louds Opt']/result_table['Original'] * 100\n",
    "res_rdb=result_table['G. Dfuds Back']/result_table['Original'] * 100\n",
    "res_rdo=result_table['G. Dfuds Opt']/result_table['Original'] * 100"
   ]
  },
  {
   "cell_type": "code",
   "execution_count": 33,
   "id": "8d14fbe9",
   "metadata": {},
   "outputs": [
    {
     "data": {
      "text/html": [
       "<div>\n",
       "<style scoped>\n",
       "    .dataframe tbody tr th:only-of-type {\n",
       "        vertical-align: middle;\n",
       "    }\n",
       "\n",
       "    .dataframe tbody tr th {\n",
       "        vertical-align: top;\n",
       "    }\n",
       "\n",
       "    .dataframe thead th {\n",
       "        text-align: right;\n",
       "    }\n",
       "</style>\n",
       "<table border=\"1\" class=\"dataframe\">\n",
       "  <thead>\n",
       "    <tr style=\"text-align: right;\">\n",
       "      <th></th>\n",
       "      <th>k</th>\n",
       "      <th>G. Louds Back</th>\n",
       "      <th>G. Louds Opt</th>\n",
       "      <th>G. Dfuds Back</th>\n",
       "      <th>G. Dfuds Opt</th>\n",
       "    </tr>\n",
       "  </thead>\n",
       "  <tbody>\n",
       "    <tr>\n",
       "      <th>0</th>\n",
       "      <td>1</td>\n",
       "      <td>366.267493</td>\n",
       "      <td>27.833698</td>\n",
       "      <td>106.217545</td>\n",
       "      <td>27.833698</td>\n",
       "    </tr>\n",
       "    <tr>\n",
       "      <th>1</th>\n",
       "      <td>10</td>\n",
       "      <td>142.652760</td>\n",
       "      <td>25.147447</td>\n",
       "      <td>101.895624</td>\n",
       "      <td>25.147447</td>\n",
       "    </tr>\n",
       "    <tr>\n",
       "      <th>2</th>\n",
       "      <td>100</td>\n",
       "      <td>73.676087</td>\n",
       "      <td>15.909606</td>\n",
       "      <td>55.818189</td>\n",
       "      <td>16.765381</td>\n",
       "    </tr>\n",
       "    <tr>\n",
       "      <th>3</th>\n",
       "      <td>1000</td>\n",
       "      <td>67.050050</td>\n",
       "      <td>16.587189</td>\n",
       "      <td>60.728442</td>\n",
       "      <td>16.587189</td>\n",
       "    </tr>\n",
       "  </tbody>\n",
       "</table>\n",
       "</div>"
      ],
      "text/plain": [
       "      k  G. Louds Back  G. Louds Opt  G. Dfuds Back  G. Dfuds Opt\n",
       "0     1     366.267493     27.833698     106.217545     27.833698\n",
       "1    10     142.652760     25.147447     101.895624     25.147447\n",
       "2   100      73.676087     15.909606      55.818189     16.765381\n",
       "3  1000      67.050050     16.587189      60.728442     16.587189"
      ]
     },
     "execution_count": 33,
     "metadata": {},
     "output_type": "execute_result"
    }
   ],
   "source": [
    "res_percentaje = pd.DataFrame({\n",
    "        \"k\": k_values,\n",
    "        \"G. Louds Back\": res_rlb,\n",
    "        \"G. Louds Opt\": res_rlo,\n",
    "        \"G. Dfuds Back\": res_rdb,\n",
    "        \"G. Dfuds Opt\": res_rdo\n",
    "    })\n",
    "\n",
    "res_percentaje"
   ]
  },
  {
   "cell_type": "code",
   "execution_count": 34,
   "id": "d2fae9ef",
   "metadata": {},
   "outputs": [
    {
     "name": "stdout",
     "output_type": "stream",
     "text": [
      "\\begin{tabular}{rrrrr}\n",
      "\\toprule\n",
      "k & G. Louds Back & G. Louds Opt & G. Dfuds Back & G. Dfuds Opt \\\\\n",
      "\\midrule\n",
      "1 & 366.27 & 27.83 & 106.22 & 27.83 \\\\\n",
      "10 & 142.65 & 25.15 & 101.90 & 25.15 \\\\\n",
      "100 & 73.68 & 15.91 & 55.82 & 16.77 \\\\\n",
      "1000 & 67.05 & 16.59 & 60.73 & 16.59 \\\\\n",
      "\\bottomrule\n",
      "\\end{tabular}\n",
      "\n"
     ]
    }
   ],
   "source": [
    "# latex table\n",
    "print(res_percentaje.to_latex(index=False,float_format=\"{:,.2f}\".format,))"
   ]
  },
  {
   "cell_type": "code",
   "execution_count": 36,
   "id": "2c88b575",
   "metadata": {},
   "outputs": [],
   "source": [
    "\n",
    "alg_label = [\"Original\",\n",
    "             \"G. LOUDS Backtrack.\", \n",
    "             \"G. LOUDS Op. Order\",\n",
    "             \"G. DFUDS Backtrack.\", \n",
    "             \"G. DFUDS Op. Order\"]\n",
    "queries_title_v1000 = [\"J3\",\"J4\",\"P2\",\"P3\",\"P4\",\"S3\",\"T2\",\"T3\",\"T4\",\"Ti2\",\"Ti3\"] #\"S3\",\"T3\",\"Ti4 (log scale)\"\n",
    "queries_label_v1000=[\"j3\",\"j4\",\"p2\",\"p3\",\"p4\",\"s3\",\"t2\",\"t3\",\"t4\",\"ti2\",\"ti3\"] # \"s3\", \"t3\",\"ti4\""
   ]
  },
  {
   "cell_type": "code",
   "execution_count": 37,
   "id": "a0dd1e48",
   "metadata": {},
   "outputs": [
    {
     "name": "stderr",
     "output_type": "stream",
     "text": [
      "/var/folders/qg/ggml06zs7tz58wmpl0g0hjhw0000gn/T/ipykernel_37233/1829203854.py:41: FutureWarning: DataFrame.applymap has been deprecated. Use DataFrame.map instead.\n",
      "  result_table.iloc[:, 1:] = result_table.iloc[:, 1:].applymap(lambda x: round(x, 1))\n"
     ]
    },
    {
     "data": {
      "text/html": [
       "<div>\n",
       "<style scoped>\n",
       "    .dataframe tbody tr th:only-of-type {\n",
       "        vertical-align: middle;\n",
       "    }\n",
       "\n",
       "    .dataframe tbody tr th {\n",
       "        vertical-align: top;\n",
       "    }\n",
       "\n",
       "    .dataframe thead th {\n",
       "        text-align: right;\n",
       "    }\n",
       "</style>\n",
       "<table border=\"1\" class=\"dataframe\">\n",
       "  <thead>\n",
       "    <tr style=\"text-align: right;\">\n",
       "      <th></th>\n",
       "      <th>k</th>\n",
       "      <th>Original</th>\n",
       "      <th>G. Louds Back</th>\n",
       "      <th>G. Louds Opt</th>\n",
       "      <th>G. Dfuds Back</th>\n",
       "      <th>G. Dfuds Opt</th>\n",
       "    </tr>\n",
       "  </thead>\n",
       "  <tbody>\n",
       "    <tr>\n",
       "      <th>0</th>\n",
       "      <td>1</td>\n",
       "      <td>8667373.3</td>\n",
       "      <td>19822956.0</td>\n",
       "      <td>2190284.8</td>\n",
       "      <td>346794.7</td>\n",
       "      <td>2190284.8</td>\n",
       "    </tr>\n",
       "    <tr>\n",
       "      <th>1</th>\n",
       "      <td>10</td>\n",
       "      <td>9896986.4</td>\n",
       "      <td>19822956.8</td>\n",
       "      <td>3610480.0</td>\n",
       "      <td>2208946.6</td>\n",
       "      <td>3610480.0</td>\n",
       "    </tr>\n",
       "    <tr>\n",
       "      <th>2</th>\n",
       "      <td>100</td>\n",
       "      <td>19238265.4</td>\n",
       "      <td>19822964.2</td>\n",
       "      <td>4047794.2</td>\n",
       "      <td>3906496.3</td>\n",
       "      <td>4047794.2</td>\n",
       "    </tr>\n",
       "    <tr>\n",
       "      <th>3</th>\n",
       "      <td>1000</td>\n",
       "      <td>100547947.9</td>\n",
       "      <td>19823039.2</td>\n",
       "      <td>7957450.9</td>\n",
       "      <td>7242288.5</td>\n",
       "      <td>7957450.9</td>\n",
       "    </tr>\n",
       "  </tbody>\n",
       "</table>\n",
       "</div>"
      ],
      "text/plain": [
       "      k     Original  G. Louds Back  G. Louds Opt  G. Dfuds Back  G. Dfuds Opt\n",
       "0     1    8667373.3     19822956.0     2190284.8       346794.7     2190284.8\n",
       "1    10    9896986.4     19822956.8     3610480.0      2208946.6     3610480.0\n",
       "2   100   19238265.4     19822964.2     4047794.2      3906496.3     4047794.2\n",
       "3  1000  100547947.9     19823039.2     7957450.9      7242288.5     7957450.9"
      ]
     },
     "execution_count": 37,
     "metadata": {},
     "output_type": "execute_result"
    }
   ],
   "source": [
    "\n",
    "for i,type_fun in enumerate([0]):#,1]):\n",
    "    file = f\"results-f{type_fun}-v1000-nodes.csv\"\n",
    "    #print(file)\n",
    "    \n",
    "    k_values = [1, 10, 100, 1000]\n",
    "    \n",
    "    original = pd.read_csv('../../query1000results/original/results-v1000-nodes-gradual.csv',delimiter=';')\n",
    "    meanOriginal = original.mean(axis=1)\n",
    "\n",
    "    \n",
    "    partialLoudsBack = pd.read_csv(f'../../query1000results/partial/louds/backtracking/{file}', delimiter=';')\n",
    "    partialLoudsBack = partialLoudsBack.loc[:, (partialLoudsBack != 0).any(axis=0)]\n",
    "    meanGradualLoudsBack = partialLoudsBack.mean(axis=1)\n",
    "    \n",
    "    partialLoudsNon = pd.read_csv(f'../../query1000results/partial/louds/optimalOrder/{file}', delimiter=';')\n",
    "    partialLoudsNon = partialLoudsNon.loc[:, (partialLoudsNon != 0).any(axis=0)]\n",
    "    meanGradualLoudsNon = partialLoudsNon.mean(axis=1)\n",
    "    \n",
    "    partialDfudsBack = pd.read_csv(f'../../query1000results/partial/dfuds/backtracking/{file}', delimiter=';')\n",
    "    partialDfudsBack = partialDfudsBack.loc[:, (partialDfudsBack != 0).any(axis=0)]\n",
    "    meanGradualDfudsBack = partialDfudsBack.mean(axis=1)\n",
    "    \n",
    "    partialDfudsNon = pd.read_csv(f'../../query1000results/partial/dfuds/optimalOrder/{file}', delimiter=';')\n",
    "    partialDfudsNon = partialDfudsNon.loc[:, (partialDfudsNon != 0).any(axis=0)]\n",
    "    meanGradualDfudsNon = partialDfudsNon.mean(axis=1)\n",
    "    \n",
    "    # Combine into a DataFrame\n",
    "    result_table = pd.DataFrame({\n",
    "        \"k\": k_values,\n",
    "        \"Original\": meanOriginal,\n",
    "        \"G. Louds Back\": meanGradualLoudsBack,\n",
    "        \"G. Louds Opt\": meanGradualLoudsNon,\n",
    "        \"G. Dfuds Back\": meanGradualDfudsBack,\n",
    "        \"G. Dfuds Opt\": meanGradualDfudsNon\n",
    "    })\n",
    "    \n",
    "    #result_table.set_index(\"k\")\n",
    "    result_table\n",
    "    \n",
    "\n",
    "result_table.iloc[:, 1:] = result_table.iloc[:, 1:].applymap(lambda x: round(x, 1))\n",
    "result_table['k'] = result_table['k'].astype(int)\n",
    "result_table\n",
    "#result_table.style.set_caption(\"ras\")\n",
    "#result_table.style.background_gradient(axis=None, vmin=1, vmax=5, cmap=\"YlGnBu\")\n",
    "\n",
    "\n",
    "        "
   ]
  },
  {
   "cell_type": "code",
   "execution_count": 38,
   "id": "4d22b859",
   "metadata": {},
   "outputs": [
    {
     "name": "stdout",
     "output_type": "stream",
     "text": [
      "\\begin{tabular}{rrrrrr}\n",
      "\\toprule\n",
      "k & Original & G. Louds Back & G. Louds Opt & G. Dfuds Back & G. Dfuds Opt \\\\\n",
      "\\midrule\n",
      "1 & 8,667,373.30 & 19,822,956.00 & 2,190,284.80 & 346,794.70 & 2,190,284.80 \\\\\n",
      "10 & 9,896,986.40 & 19,822,956.80 & 3,610,480.00 & 2,208,946.60 & 3,610,480.00 \\\\\n",
      "100 & 19,238,265.40 & 19,822,964.20 & 4,047,794.20 & 3,906,496.30 & 4,047,794.20 \\\\\n",
      "1000 & 100,547,947.90 & 19,823,039.20 & 7,957,450.90 & 7,242,288.50 & 7,957,450.90 \\\\\n",
      "\\bottomrule\n",
      "\\end{tabular}\n",
      "\n"
     ]
    }
   ],
   "source": [
    "# latex table\n",
    "print(result_table.to_latex(index=False,float_format=\"{:,.2f}\".format,))"
   ]
  },
  {
   "cell_type": "code",
   "execution_count": 88,
   "id": "9008d313",
   "metadata": {},
   "outputs": [],
   "source": [
    "name = \"ranked-variablek-mean-nodes\"\n",
    "filename = '/Users/asugomez/Desktop/Magister/Tesis/tesisQdags/imagenes/'+name\n",
    "csv_filename = filename + \".csv\"\n",
    "png_filename = filename + \".png\""
   ]
  },
  {
   "cell_type": "code",
   "execution_count": 89,
   "id": "f35784e2",
   "metadata": {},
   "outputs": [],
   "source": [
    "#result_table.to_csv(csv_filename, index=False)"
   ]
  },
  {
   "cell_type": "code",
   "execution_count": 99,
   "id": "2d7805ac",
   "metadata": {},
   "outputs": [
    {
     "data": {
      "image/png": "[encoded data removed]",
      "text/plain": [
       "<Figure size 864x432 with 1 Axes>"
      ]
     },
     "metadata": {
      "needs_background": "light"
     },
     "output_type": "display_data"
    }
   ],
   "source": [
    "#save_dataframe_as_png(result_table, png_filename)"
   ]
  },
  {
   "cell_type": "code",
   "execution_count": 39,
   "id": "217fc370",
   "metadata": {},
   "outputs": [],
   "source": [
    "res_rlb =result_table['G. Louds Back']/result_table['Original'] * 100\n",
    "res_rlo=result_table['G. Louds Opt']/result_table['Original'] * 100\n",
    "res_rdb=result_table['G. Dfuds Back']/result_table['Original'] * 100\n",
    "res_rdo=result_table['G. Dfuds Opt']/result_table['Original'] * 100"
   ]
  },
  {
   "cell_type": "code",
   "execution_count": 41,
   "id": "d550463b",
   "metadata": {
    "scrolled": true
   },
   "outputs": [
    {
     "data": {
      "text/html": [
       "<div>\n",
       "<style scoped>\n",
       "    .dataframe tbody tr th:only-of-type {\n",
       "        vertical-align: middle;\n",
       "    }\n",
       "\n",
       "    .dataframe tbody tr th {\n",
       "        vertical-align: top;\n",
       "    }\n",
       "\n",
       "    .dataframe thead th {\n",
       "        text-align: right;\n",
       "    }\n",
       "</style>\n",
       "<table border=\"1\" class=\"dataframe\">\n",
       "  <thead>\n",
       "    <tr style=\"text-align: right;\">\n",
       "      <th></th>\n",
       "      <th>k</th>\n",
       "      <th>G. Louds Back</th>\n",
       "      <th>G. Louds Opt</th>\n",
       "      <th>G. Dfuds Back</th>\n",
       "      <th>G. Dfuds Opt</th>\n",
       "    </tr>\n",
       "  </thead>\n",
       "  <tbody>\n",
       "    <tr>\n",
       "      <th>0</th>\n",
       "      <td>1</td>\n",
       "      <td>228.707768</td>\n",
       "      <td>25.270457</td>\n",
       "      <td>4.001151</td>\n",
       "      <td>25.270457</td>\n",
       "    </tr>\n",
       "    <tr>\n",
       "      <th>1</th>\n",
       "      <td>10</td>\n",
       "      <td>200.292857</td>\n",
       "      <td>36.480600</td>\n",
       "      <td>22.319386</td>\n",
       "      <td>36.480600</td>\n",
       "    </tr>\n",
       "    <tr>\n",
       "      <th>2</th>\n",
       "      <td>100</td>\n",
       "      <td>103.039249</td>\n",
       "      <td>21.040328</td>\n",
       "      <td>20.305866</td>\n",
       "      <td>21.040328</td>\n",
       "    </tr>\n",
       "    <tr>\n",
       "      <th>3</th>\n",
       "      <td>1000</td>\n",
       "      <td>19.715011</td>\n",
       "      <td>7.914086</td>\n",
       "      <td>7.202821</td>\n",
       "      <td>7.914086</td>\n",
       "    </tr>\n",
       "  </tbody>\n",
       "</table>\n",
       "</div>"
      ],
      "text/plain": [
       "      k  G. Louds Back  G. Louds Opt  G. Dfuds Back  G. Dfuds Opt\n",
       "0     1     228.707768     25.270457       4.001151     25.270457\n",
       "1    10     200.292857     36.480600      22.319386     36.480600\n",
       "2   100     103.039249     21.040328      20.305866     21.040328\n",
       "3  1000      19.715011      7.914086       7.202821      7.914086"
      ]
     },
     "execution_count": 41,
     "metadata": {},
     "output_type": "execute_result"
    }
   ],
   "source": [
    "res_percentaje = pd.DataFrame({\n",
    "        \"k\": k_values,\n",
    "        \"G. Louds Back\": res_rlb,\n",
    "        \"G. Louds Opt\": res_rlo,\n",
    "        \"G. Dfuds Back\": res_rdb,\n",
    "        \"G. Dfuds Opt\": res_rdo\n",
    "    })\n",
    "\n",
    "res_percentaje"
   ]
  },
  {
   "cell_type": "code",
   "execution_count": 42,
   "id": "6d69fffa",
   "metadata": {},
   "outputs": [
    {
     "name": "stdout",
     "output_type": "stream",
     "text": [
      "\\begin{tabular}{rrrrr}\n",
      "\\toprule\n",
      "k & G. Louds Back & G. Louds Opt & G. Dfuds Back & G. Dfuds Opt \\\\\n",
      "\\midrule\n",
      "1 & 228.71 & 25.27 & 4.00 & 25.27 \\\\\n",
      "10 & 200.29 & 36.48 & 22.32 & 36.48 \\\\\n",
      "100 & 103.04 & 21.04 & 20.31 & 21.04 \\\\\n",
      "1000 & 19.72 & 7.91 & 7.20 & 7.91 \\\\\n",
      "\\bottomrule\n",
      "\\end{tabular}\n",
      "\n"
     ]
    }
   ],
   "source": [
    "# latex table\n",
    "print(res_percentaje.to_latex(index=False,float_format=\"{:,.2f}\".format,))"
   ]
  }
 ],
 "metadata": {
  "kernelspec": {
   "display_name": "Python 3 (ipykernel)",
   "language": "python",
   "name": "python3"
  },
  "language_info": {
   "codemirror_mode": {
    "name": "ipython",
    "version": 3
   },
   "file_extension": ".py",
   "mimetype": "text/x-python",
   "name": "python",
   "nbconvert_exporter": "python",
   "pygments_lexer": "ipython3",
   "version": "3.13.2"
  }
 },
 "nbformat": 4,
 "nbformat_minor": 5
}
