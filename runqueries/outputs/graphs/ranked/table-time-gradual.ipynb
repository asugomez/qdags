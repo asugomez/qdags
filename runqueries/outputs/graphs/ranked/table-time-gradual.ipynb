{
 "cells": [
  {
   "cell_type": "code",
   "execution_count": null,
   "id": "f1988ed0",
   "metadata": {},
   "outputs": [],
   "source": [
    "# table to visualize % times in original and ranked enum. algorithms\n"
   ]
  },
  {
   "cell_type": "code",
   "execution_count": 1,
   "id": "eb4e982d",
   "metadata": {},
   "outputs": [],
   "source": [
    "import pandas as pd\n",
    "import matplotlib.pyplot as plt\n",
    "import matplotlib.gridspec as gridspec\n",
    "import numpy as np\n",
    "import seaborn as sns"
   ]
  },
  {
   "cell_type": "code",
   "execution_count": 2,
   "id": "64135c25",
   "metadata": {},
   "outputs": [],
   "source": [
    "alg_label = [\"Original\",\n",
    "             \"G. LOUDS Backtrack.\", \n",
    "             \"G. LOUDS Op. Order\",\n",
    "             \"G. DFUDS Backtrack.\", \n",
    "             \"G. DFUDS Op. Order\"]\n",
    "        \n",
    "queries_label = [\"j3\",\"j4\",\"p2\",\"p3\",\"p4\",\"s1\",\"s2\",\"s3\",\"s4\",\"t2\",\"t3\",\"t4\",\"ti2\",\"ti3\",\"ti4\",\"tr1\",\"tr2\"]\n",
    "\n",
    "queries_title = [\"J3\",\"J4\",\"P2\",\"P3\",\"P4\",\"S1\",\"S2\",\"S3\",\"S4\",\"T2\",\"T3\",\"T4\",\"Ti2\",\"Ti3\",\"Ti4\",\"Tr1\",\"Tr2\"]"
   ]
  },
  {
   "cell_type": "code",
   "execution_count": 3,
   "id": "70f1a7a1",
   "metadata": {},
   "outputs": [
    {
     "name": "stderr",
     "output_type": "stream",
     "text": [
      "/var/folders/qg/ggml06zs7tz58wmpl0g0hjhw0000gn/T/ipykernel_40388/2052758775.py:42: FutureWarning: DataFrame.applymap has been deprecated. Use DataFrame.map instead.\n",
      "  result_table.iloc[:, 1:] = result_table.iloc[:, 1:].applymap(lambda x: round(x, 1))\n"
     ]
    },
    {
     "data": {
      "text/html": [
       "<div>\n",
       "<style scoped>\n",
       "    .dataframe tbody tr th:only-of-type {\n",
       "        vertical-align: middle;\n",
       "    }\n",
       "\n",
       "    .dataframe tbody tr th {\n",
       "        vertical-align: top;\n",
       "    }\n",
       "\n",
       "    .dataframe thead th {\n",
       "        text-align: right;\n",
       "    }\n",
       "</style>\n",
       "<table border=\"1\" class=\"dataframe\">\n",
       "  <thead>\n",
       "    <tr style=\"text-align: right;\">\n",
       "      <th></th>\n",
       "      <th>k</th>\n",
       "      <th>Original</th>\n",
       "      <th>G. Louds Back</th>\n",
       "      <th>G. Louds Opt</th>\n",
       "      <th>G. Dfuds Back</th>\n",
       "      <th>G. Dfuds Opt</th>\n",
       "    </tr>\n",
       "  </thead>\n",
       "  <tbody>\n",
       "    <tr>\n",
       "      <th>0</th>\n",
       "      <td>1</td>\n",
       "      <td>6.6</td>\n",
       "      <td>71.3</td>\n",
       "      <td>11.5</td>\n",
       "      <td>21.4</td>\n",
       "      <td>11.3</td>\n",
       "    </tr>\n",
       "    <tr>\n",
       "      <th>1</th>\n",
       "      <td>10</td>\n",
       "      <td>7.1</td>\n",
       "      <td>71.4</td>\n",
       "      <td>20.0</td>\n",
       "      <td>52.8</td>\n",
       "      <td>20.0</td>\n",
       "    </tr>\n",
       "    <tr>\n",
       "      <th>2</th>\n",
       "      <td>100</td>\n",
       "      <td>12.1</td>\n",
       "      <td>76.1</td>\n",
       "      <td>29.1</td>\n",
       "      <td>61.0</td>\n",
       "      <td>29.2</td>\n",
       "    </tr>\n",
       "    <tr>\n",
       "      <th>3</th>\n",
       "      <td>1000</td>\n",
       "      <td>62.1</td>\n",
       "      <td>126.5</td>\n",
       "      <td>80.0</td>\n",
       "      <td>121.3</td>\n",
       "      <td>80.5</td>\n",
       "    </tr>\n",
       "  </tbody>\n",
       "</table>\n",
       "</div>"
      ],
      "text/plain": [
       "      k  Original  G. Louds Back  G. Louds Opt  G. Dfuds Back  G. Dfuds Opt\n",
       "0     1       6.6           71.3          11.5           21.4          11.3\n",
       "1    10       7.1           71.4          20.0           52.8          20.0\n",
       "2   100      12.1           76.1          29.1           61.0          29.2\n",
       "3  1000      62.1          126.5          80.0          121.3          80.5"
      ]
     },
     "execution_count": 3,
     "metadata": {},
     "output_type": "execute_result"
    }
   ],
   "source": [
    "for i,type_fun in enumerate([0]):#,1]):\n",
    "    file = f\"results-f{type_fun}-time.csv\"\n",
    "    #print(file)\n",
    "    \n",
    "    k_values = [1, 10, 100, 1000]\n",
    "\n",
    "    original = pd.read_csv(f'../../original/results-time-ranked.csv',delimiter=';')\n",
    "    meanOriginal = original.mean(axis=1)\n",
    "\n",
    "    \n",
    "    gradualLoudsBack = pd.read_csv(f'../../partial/louds/backtracking/{file}', delimiter=';')\n",
    "    gradualLoudsBack = gradualLoudsBack.loc[:, (gradualLoudsBack != 0).any(axis=0)]\n",
    "    meanGradualLoudsBack = gradualLoudsBack.mean(axis=1)\n",
    "    \n",
    "    gradualLoudsNon = pd.read_csv(f'../../partial/louds/optimalOrder/{file}', delimiter=';')\n",
    "    gradualLoudsNon = gradualLoudsNon.loc[:, (gradualLoudsNon != 0).any(axis=0)]\n",
    "    meanGradualLoudsNon = gradualLoudsNon.mean(axis=1)\n",
    "    \n",
    "    gradualDfudsBack = pd.read_csv(f'../../partial/dfuds/backtracking/{file}', delimiter=';')\n",
    "    gradualDfudsBack = gradualDfudsBack.loc[:, (gradualDfudsBack != 0).any(axis=0)]\n",
    "    meanGradualDfudsBack = gradualDfudsBack.mean(axis=1)\n",
    "    \n",
    "    gradualDfudsNon = pd.read_csv(f'../../partial/dfuds/optimalOrder/{file}', delimiter=';')\n",
    "    gradualDfudsNon = gradualDfudsNon.loc[:, (gradualDfudsNon != 0).any(axis=0)]\n",
    "    meanGradualDfudsNon = gradualDfudsNon.mean(axis=1)\n",
    "    \n",
    "    # Combine into a DataFrame\n",
    "    result_table = pd.DataFrame({\n",
    "        \"k\": k_values,\n",
    "        \"Original\": meanOriginal,\n",
    "        \"G. Louds Back\": meanGradualLoudsBack,\n",
    "        \"G. Louds Opt\": meanGradualLoudsNon,\n",
    "        \"G. Dfuds Back\": meanGradualDfudsBack,\n",
    "        \"G. Dfuds Opt\": meanGradualDfudsNon\n",
    "    })\n",
    "    \n",
    "    #result_table.set_index(\"k\")\n",
    "    result_table\n",
    "    \n",
    "    \n",
    "\n",
    "result_table.iloc[:, 1:] = result_table.iloc[:, 1:].applymap(lambda x: round(x, 1))\n",
    "result_table['k'] = result_table['k'].astype(int)\n",
    "result_table\n",
    "#result_table.style.set_caption(\"ras\")\n",
    "#result_table.style.background_gradient(axis=None, vmin=1, vmax=5, cmap=\"YlGnBu\")\n",
    "\n",
    "\n",
    "        "
   ]
  },
  {
   "cell_type": "code",
   "execution_count": 4,
   "id": "b0e75b87",
   "metadata": {},
   "outputs": [
    {
     "name": "stdout",
     "output_type": "stream",
     "text": [
      "\\begin{tabular}{rrrrrr}\n",
      "\\toprule\n",
      "k & Original & R. Louds Back & R. Louds Opt & R. Dfuds Back & R. Dfuds Opt \\\\\n",
      "\\midrule\n",
      "1 & 6.60 & 104.40 & 38.50 & 92.70 & 36.20 \\\\\n",
      "10 & 7.10 & 114.70 & 45.20 & 102.60 & 42.70 \\\\\n",
      "100 & 12.10 & 123.60 & 52.70 & 111.30 & 50.20 \\\\\n",
      "1000 & 62.10 & 177.20 & 103.90 & 164.50 & 101.50 \\\\\n",
      "\\bottomrule\n",
      "\\end{tabular}\n",
      "\n"
     ]
    }
   ],
   "source": [
    "# latex table\n",
    "print(result_table.to_latex(index=False,float_format=\"{:,.2f}\".format,))"
   ]
  },
  {
   "cell_type": "code",
   "execution_count": 4,
   "id": "f43537eb",
   "metadata": {},
   "outputs": [],
   "source": [
    "res_rlb =result_table['G. Louds Back']/result_table['Original'] * 100\n",
    "res_rlo=result_table['G. Louds Opt']/result_table['Original'] * 100\n",
    "res_rdb=result_table['G. Dfuds Back']/result_table['Original'] * 100\n",
    "res_rdo=result_table['G. Dfuds Opt']/result_table['Original'] * 100"
   ]
  },
  {
   "cell_type": "code",
   "execution_count": 5,
   "id": "82c7ef17",
   "metadata": {},
   "outputs": [
    {
     "data": {
      "text/html": [
       "<div>\n",
       "<style scoped>\n",
       "    .dataframe tbody tr th:only-of-type {\n",
       "        vertical-align: middle;\n",
       "    }\n",
       "\n",
       "    .dataframe tbody tr th {\n",
       "        vertical-align: top;\n",
       "    }\n",
       "\n",
       "    .dataframe thead th {\n",
       "        text-align: right;\n",
       "    }\n",
       "</style>\n",
       "<table border=\"1\" class=\"dataframe\">\n",
       "  <thead>\n",
       "    <tr style=\"text-align: right;\">\n",
       "      <th></th>\n",
       "      <th>G. Louds Back</th>\n",
       "      <th>G. Louds Opt</th>\n",
       "      <th>G. Dfuds Back</th>\n",
       "      <th>G. Dfuds Opt</th>\n",
       "    </tr>\n",
       "  </thead>\n",
       "  <tbody>\n",
       "    <tr>\n",
       "      <th>0</th>\n",
       "      <td>1080.303030</td>\n",
       "      <td>174.242424</td>\n",
       "      <td>324.242424</td>\n",
       "      <td>171.212121</td>\n",
       "    </tr>\n",
       "    <tr>\n",
       "      <th>1</th>\n",
       "      <td>1005.633803</td>\n",
       "      <td>281.690141</td>\n",
       "      <td>743.661972</td>\n",
       "      <td>281.690141</td>\n",
       "    </tr>\n",
       "    <tr>\n",
       "      <th>2</th>\n",
       "      <td>628.925620</td>\n",
       "      <td>240.495868</td>\n",
       "      <td>504.132231</td>\n",
       "      <td>241.322314</td>\n",
       "    </tr>\n",
       "    <tr>\n",
       "      <th>3</th>\n",
       "      <td>203.703704</td>\n",
       "      <td>128.824477</td>\n",
       "      <td>195.330113</td>\n",
       "      <td>129.629630</td>\n",
       "    </tr>\n",
       "  </tbody>\n",
       "</table>\n",
       "</div>"
      ],
      "text/plain": [
       "   G. Louds Back  G. Louds Opt  G. Dfuds Back  G. Dfuds Opt\n",
       "0    1080.303030    174.242424     324.242424    171.212121\n",
       "1    1005.633803    281.690141     743.661972    281.690141\n",
       "2     628.925620    240.495868     504.132231    241.322314\n",
       "3     203.703704    128.824477     195.330113    129.629630"
      ]
     },
     "execution_count": 5,
     "metadata": {},
     "output_type": "execute_result"
    }
   ],
   "source": [
    "res_percentaje = pd.DataFrame({\n",
    "        \"G. Louds Back\": res_rlb,\n",
    "        \"G. Louds Opt\": res_rlo,\n",
    "        \"G. Dfuds Back\": res_rdb,\n",
    "        \"G. Dfuds Opt\": res_rdo\n",
    "    })\n",
    "\n",
    "res_percentaje"
   ]
  },
  {
   "cell_type": "code",
   "execution_count": 7,
   "id": "fdecca1a",
   "metadata": {},
   "outputs": [
    {
     "name": "stdout",
     "output_type": "stream",
     "text": [
      "\\begin{tabular}{rrrr}\n",
      "\\toprule\n",
      "R. Louds Back & R. Louds Opt & R. Dfuds Back & R. Dfuds Opt \\\\\n",
      "\\midrule\n",
      "1,581.82 & 583.33 & 1,404.55 & 548.48 \\\\\n",
      "1,615.49 & 636.62 & 1,445.07 & 601.41 \\\\\n",
      "1,021.49 & 435.54 & 919.83 & 414.88 \\\\\n",
      "285.35 & 167.31 & 264.90 & 163.45 \\\\\n",
      "\\bottomrule\n",
      "\\end{tabular}\n",
      "\n"
     ]
    }
   ],
   "source": [
    "# latex table\n",
    "print(res_percentaje.to_latex(index=False,float_format=\"{:,.2f}\".format,))"
   ]
  },
  {
   "cell_type": "code",
   "execution_count": 6,
   "id": "9cb940b7",
   "metadata": {},
   "outputs": [],
   "source": [
    "\n",
    "alg_label = [\"Original\",\n",
    "             \"G. LOUDS Backtrack.\", \n",
    "             \"G. LOUDS Op. Order\",\n",
    "             \"G. DFUDS Backtrack.\", \n",
    "             \"G. DFUDS Op. Order\"]\n",
    "queries_title_v1000 = [\"J3\",\"J4\",\"P2\",\"P3\",\"P4\",\"S3\",\"T2\",\"T3\",\"T4\",\"Ti2\",\"Ti3\"] #\"S3\",\"T3\",\"Ti4 (log scale)\"\n",
    "queries_label_v1000=[\"j3\",\"j4\",\"p2\",\"p3\",\"p4\",\"s3\",\"t2\",\"t3\",\"t4\",\"ti2\",\"ti3\"] # \"s3\", \"t3\",\"ti4\""
   ]
  },
  {
   "cell_type": "code",
   "execution_count": 8,
   "id": "758dc6b0",
   "metadata": {},
   "outputs": [
    {
     "name": "stderr",
     "output_type": "stream",
     "text": [
      "/var/folders/qg/ggml06zs7tz58wmpl0g0hjhw0000gn/T/ipykernel_40388/1338775955.py:42: FutureWarning: DataFrame.applymap has been deprecated. Use DataFrame.map instead.\n",
      "  result_table.iloc[:, 1:] = result_table.iloc[:, 1:].applymap(lambda x: round(x, 1))\n"
     ]
    },
    {
     "data": {
      "text/html": [
       "<div>\n",
       "<style scoped>\n",
       "    .dataframe tbody tr th:only-of-type {\n",
       "        vertical-align: middle;\n",
       "    }\n",
       "\n",
       "    .dataframe tbody tr th {\n",
       "        vertical-align: top;\n",
       "    }\n",
       "\n",
       "    .dataframe thead th {\n",
       "        text-align: right;\n",
       "    }\n",
       "</style>\n",
       "<table border=\"1\" class=\"dataframe\">\n",
       "  <thead>\n",
       "    <tr style=\"text-align: right;\">\n",
       "      <th></th>\n",
       "      <th>k</th>\n",
       "      <th>Original</th>\n",
       "      <th>G. Louds Back</th>\n",
       "      <th>G. Louds Opt</th>\n",
       "      <th>G. Dfuds Back</th>\n",
       "      <th>G. Dfuds Opt</th>\n",
       "    </tr>\n",
       "  </thead>\n",
       "  <tbody>\n",
       "    <tr>\n",
       "      <th>0</th>\n",
       "      <td>1</td>\n",
       "      <td>26.3</td>\n",
       "      <td>15.5</td>\n",
       "      <td>6.2</td>\n",
       "      <td>0.4</td>\n",
       "      <td>7.6</td>\n",
       "    </tr>\n",
       "    <tr>\n",
       "      <th>1</th>\n",
       "      <td>10</td>\n",
       "      <td>27.0</td>\n",
       "      <td>16.2</td>\n",
       "      <td>8.3</td>\n",
       "      <td>3.1</td>\n",
       "      <td>9.5</td>\n",
       "    </tr>\n",
       "    <tr>\n",
       "      <th>2</th>\n",
       "      <td>100</td>\n",
       "      <td>33.9</td>\n",
       "      <td>24.0</td>\n",
       "      <td>16.0</td>\n",
       "      <td>12.0</td>\n",
       "      <td>17.6</td>\n",
       "    </tr>\n",
       "    <tr>\n",
       "      <th>3</th>\n",
       "      <td>1000</td>\n",
       "      <td>103.1</td>\n",
       "      <td>98.3</td>\n",
       "      <td>94.7</td>\n",
       "      <td>90.3</td>\n",
       "      <td>96.3</td>\n",
       "    </tr>\n",
       "  </tbody>\n",
       "</table>\n",
       "</div>"
      ],
      "text/plain": [
       "      k  Original  G. Louds Back  G. Louds Opt  G. Dfuds Back  G. Dfuds Opt\n",
       "0     1      26.3           15.5           6.2            0.4           7.6\n",
       "1    10      27.0           16.2           8.3            3.1           9.5\n",
       "2   100      33.9           24.0          16.0           12.0          17.6\n",
       "3  1000     103.1           98.3          94.7           90.3          96.3"
      ]
     },
     "execution_count": 8,
     "metadata": {},
     "output_type": "execute_result"
    }
   ],
   "source": [
    "# FOR V1000\n",
    "for i,type_fun in enumerate([0]):#,1]):\n",
    "    file = f\"results-f{type_fun}-v1000-time.csv\"\n",
    "    #print(file)\n",
    "    \n",
    "    k_values = [1, 10, 100, 1000]\n",
    "    \n",
    "    original = pd.read_csv(f'../../query1000results/original/results-v1000-time-ranked.csv',delimiter=';')\n",
    "    meanOriginal = original.mean(axis=1)\n",
    "\n",
    "    \n",
    "    partialLoudsBack = pd.read_csv(f'../../query1000results/partial/louds/backtracking/{file}', delimiter=';')\n",
    "    partialLoudsBack = partialLoudsBack.loc[:, (partialLoudsBack != 0).any(axis=0)]\n",
    "    meanGradualLoudsBack = partialLoudsBack.mean(axis=1)\n",
    "    \n",
    "    partialLoudsNon = pd.read_csv(f'../../query1000results/partial/louds/optimalOrder/{file}', delimiter=';')\n",
    "    partialLoudsNon = partialLoudsNon.loc[:, (partialLoudsNon != 0).any(axis=0)]\n",
    "    meanGradualLoudsNon = partialLoudsNon.mean(axis=1)\n",
    "    \n",
    "    partialDfudsBack = pd.read_csv(f'../../query1000results/partial/dfuds/backtracking/{file}', delimiter=';')\n",
    "    partialDfudsBack = partialDfudsBack.loc[:, (partialDfudsBack != 0).any(axis=0)]\n",
    "    meanGradualDfudsBack = partialDfudsBack.mean(axis=1)\n",
    "    \n",
    "    partialDfudsNon = pd.read_csv(f'../../query1000results/partial/dfuds/optimalOrder/{file}', delimiter=';')\n",
    "    partialDfudsNon = partialDfudsNon.loc[:, (partialDfudsNon != 0).any(axis=0)]\n",
    "    meanGradualDfudsNon = partialDfudsNon.mean(axis=1)\n",
    "    \n",
    "    # Combine into a DataFrame\n",
    "    result_table = pd.DataFrame({\n",
    "        \"k\": k_values,\n",
    "        \"Original\": meanOriginal,\n",
    "        \"G. Louds Back\": meanGradualLoudsBack,\n",
    "        \"G. Louds Opt\": meanGradualLoudsNon,\n",
    "        \"G. Dfuds Back\": meanGradualDfudsBack,\n",
    "        \"G. Dfuds Opt\": meanGradualDfudsNon\n",
    "    })\n",
    "    \n",
    "    #result_table.set_index(\"k\")\n",
    "    result_table\n",
    "    \n",
    "\n",
    "result_table.iloc[:, 1:] = result_table.iloc[:, 1:].applymap(lambda x: round(x, 1))\n",
    "result_table['k'] = result_table['k'].astype(int)\n",
    "result_table\n",
    "#result_table.style.set_caption(\"ras\")\n",
    "#result_table.style.background_gradient(axis=None, vmin=1, vmax=5, cmap=\"YlGnBu\")\n",
    "\n",
    "\n",
    "        "
   ]
  },
  {
   "cell_type": "code",
   "execution_count": 11,
   "id": "4cb6a3f8",
   "metadata": {},
   "outputs": [
    {
     "name": "stdout",
     "output_type": "stream",
     "text": [
      "\\begin{tabular}{rrrrrr}\n",
      "\\toprule\n",
      "   k &  Original &  R. Louds Back &  R. Louds Opt &  R. Dfuds Back &  R. Dfuds Opt \\\\\n",
      "\\midrule\n",
      "   1 &     26.30 &          12.40 &         20.10 &          13.60 &         21.30 \\\\\n",
      "  10 &     27.00 &          18.60 &         24.60 &          21.20 &         26.60 \\\\\n",
      " 100 &     33.90 &          32.00 &         35.40 &          35.30 &         37.60 \\\\\n",
      "1000 &    103.10 &         110.80 &        116.70 &         114.40 &        119.20 \\\\\n",
      "\\bottomrule\n",
      "\\end{tabular}\n",
      "\n"
     ]
    },
    {
     "name": "stderr",
     "output_type": "stream",
     "text": [
      "/var/folders/qg/ggml06zs7tz58wmpl0g0hjhw0000gn/T/ipykernel_7697/1306690107.py:2: FutureWarning: In future versions `DataFrame.to_latex` is expected to utilise the base implementation of `Styler.to_latex` for formatting and rendering. The arguments signature may therefore change. It is recommended instead to use `DataFrame.style.to_latex` which also contains additional functionality.\n",
      "  print(result_table.to_latex(index=False,float_format=\"{:,.2f}\".format,))\n"
     ]
    }
   ],
   "source": [
    "# latex table\n",
    "print(result_table.to_latex(index=False,float_format=\"{:,.2f}\".format,))"
   ]
  },
  {
   "cell_type": "code",
   "execution_count": 12,
   "id": "109a82ba",
   "metadata": {},
   "outputs": [],
   "source": [
    "res_rlb =result_table['G. Louds Back']/result_table['Original'] * 100\n",
    "res_rlo=result_table['G. Louds Opt']/result_table['Original'] * 100\n",
    "res_rdb=result_table['G. Dfuds Back']/result_table['Original'] * 100\n",
    "res_rdo=result_table['G. Dfuds Opt']/result_table['Original'] * 100"
   ]
  },
  {
   "cell_type": "code",
   "execution_count": 13,
   "id": "2bbe6f05",
   "metadata": {},
   "outputs": [
    {
     "data": {
      "text/html": [
       "<div>\n",
       "<style scoped>\n",
       "    .dataframe tbody tr th:only-of-type {\n",
       "        vertical-align: middle;\n",
       "    }\n",
       "\n",
       "    .dataframe tbody tr th {\n",
       "        vertical-align: top;\n",
       "    }\n",
       "\n",
       "    .dataframe thead th {\n",
       "        text-align: right;\n",
       "    }\n",
       "</style>\n",
       "<table border=\"1\" class=\"dataframe\">\n",
       "  <thead>\n",
       "    <tr style=\"text-align: right;\">\n",
       "      <th></th>\n",
       "      <th>R. Louds Back</th>\n",
       "      <th>R. Louds Opt</th>\n",
       "      <th>R. Dfuds Back</th>\n",
       "      <th>R. Dfuds Opt</th>\n",
       "    </tr>\n",
       "  </thead>\n",
       "  <tbody>\n",
       "    <tr>\n",
       "      <th>0</th>\n",
       "      <td>47.148289</td>\n",
       "      <td>76.425856</td>\n",
       "      <td>51.711027</td>\n",
       "      <td>80.988593</td>\n",
       "    </tr>\n",
       "    <tr>\n",
       "      <th>1</th>\n",
       "      <td>68.888889</td>\n",
       "      <td>91.111111</td>\n",
       "      <td>78.518519</td>\n",
       "      <td>98.518519</td>\n",
       "    </tr>\n",
       "    <tr>\n",
       "      <th>2</th>\n",
       "      <td>94.395280</td>\n",
       "      <td>104.424779</td>\n",
       "      <td>104.129794</td>\n",
       "      <td>110.914454</td>\n",
       "    </tr>\n",
       "    <tr>\n",
       "      <th>3</th>\n",
       "      <td>107.468477</td>\n",
       "      <td>113.191077</td>\n",
       "      <td>110.960233</td>\n",
       "      <td>115.615907</td>\n",
       "    </tr>\n",
       "  </tbody>\n",
       "</table>\n",
       "</div>"
      ],
      "text/plain": [
       "   R. Louds Back  R. Louds Opt  R. Dfuds Back  R. Dfuds Opt\n",
       "0      47.148289     76.425856      51.711027     80.988593\n",
       "1      68.888889     91.111111      78.518519     98.518519\n",
       "2      94.395280    104.424779     104.129794    110.914454\n",
       "3     107.468477    113.191077     110.960233    115.615907"
      ]
     },
     "execution_count": 13,
     "metadata": {},
     "output_type": "execute_result"
    }
   ],
   "source": [
    "res_percentaje = pd.DataFrame({\n",
    "        \"G. Louds Back\": res_rlb,\n",
    "        \"G. Louds Opt\": res_rlo,\n",
    "        \"G. Dfuds Back\": res_rdb,\n",
    "        \"G. Dfuds Opt\": res_rdo\n",
    "    })\n",
    "\n",
    "res_percentaje"
   ]
  },
  {
   "cell_type": "code",
   "execution_count": 14,
   "id": "fdd3b848",
   "metadata": {},
   "outputs": [
    {
     "name": "stdout",
     "output_type": "stream",
     "text": [
      "\\begin{tabular}{rrrr}\n",
      "\\toprule\n",
      " R. Louds Back &  R. Louds Opt &  R. Dfuds Back &  R. Dfuds Opt \\\\\n",
      "\\midrule\n",
      "         47.15 &         76.43 &          51.71 &         80.99 \\\\\n",
      "         68.89 &         91.11 &          78.52 &         98.52 \\\\\n",
      "         94.40 &        104.42 &         104.13 &        110.91 \\\\\n",
      "        107.47 &        113.19 &         110.96 &        115.62 \\\\\n",
      "\\bottomrule\n",
      "\\end{tabular}\n",
      "\n"
     ]
    },
    {
     "name": "stderr",
     "output_type": "stream",
     "text": [
      "/var/folders/qg/ggml06zs7tz58wmpl0g0hjhw0000gn/T/ipykernel_7697/1889796537.py:2: FutureWarning: In future versions `DataFrame.to_latex` is expected to utilise the base implementation of `Styler.to_latex` for formatting and rendering. The arguments signature may therefore change. It is recommended instead to use `DataFrame.style.to_latex` which also contains additional functionality.\n",
      "  print(res_percentaje.to_latex(index=False,float_format=\"{:,.2f}\".format,))\n"
     ]
    }
   ],
   "source": [
    "# latex table\n",
    "print(res_percentaje.to_latex(index=False,float_format=\"{:,.2f}\".format,))"
   ]
  }
 ],
 "metadata": {
  "kernelspec": {
   "display_name": "Python 3 (ipykernel)",
   "language": "python",
   "name": "python3"
  },
  "language_info": {
   "codemirror_mode": {
    "name": "ipython",
    "version": 3
   },
   "file_extension": ".py",
   "mimetype": "text/x-python",
   "name": "python",
   "nbconvert_exporter": "python",
   "pygments_lexer": "ipython3",
   "version": "3.13.2"
  }
 },
 "nbformat": 4,
 "nbformat_minor": 5
}
