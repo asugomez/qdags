{
 "cells": [
  {
   "cell_type": "code",
   "execution_count": 39,
   "id": "ab6589f6",
   "metadata": {},
   "outputs": [],
   "source": [
    "# table to visualize % nodes visited in original and ranked enum. algorithms\n"
   ]
  },
  {
   "cell_type": "code",
   "execution_count": 40,
   "id": "0fc0fa13",
   "metadata": {},
   "outputs": [],
   "source": [
    "import pandas as pd\n",
    "import matplotlib.pyplot as plt\n",
    "import matplotlib.gridspec as gridspec\n",
    "import numpy as np\n",
    "import seaborn as sns"
   ]
  },
  {
   "cell_type": "code",
   "execution_count": 41,
   "id": "1a0dfe01",
   "metadata": {},
   "outputs": [],
   "source": [
    "# Save DataFrame as PNG with background colors\n",
    "def save_dataframe_as_png(df, filename='result_table.png'):\n",
    "    fig, ax = plt.subplots(figsize=(12, 6))  # Adjust size as needed\n",
    "    ax.axis('off')  # Hide axes\n",
    "    \n",
    "    # Create a table\n",
    "    table = ax.table(\n",
    "        cellText=df.values,\n",
    "        colLabels=df.columns,\n",
    "        cellLoc='center',\n",
    "        loc='center'\n",
    "    )\n",
    "\n",
    "    # Add background colors\n",
    "    for (row, col), cell in table.get_celld().items():\n",
    "        if row == 0:  # Header row\n",
    "            cell.set_facecolor('#1C4DED')\n",
    "            cell.set_text_props(color='white', weight='bold')\n",
    "        #elif col == 0:  # 'k' column\n",
    "         #   cell.set_facecolor('blue')\n",
    "          #  cell.set_text_props(color='white')\n",
    "        else:  # Other cells\n",
    "            cell.set_facecolor('#f0f0f0')  # Light gray background\n",
    "    \n",
    "    table.auto_set_font_size(False)\n",
    "    table.set_fontsize(10)\n",
    "    table.auto_set_column_width(col=list(range(len(df.columns))))  # Auto adjust column width\n",
    "\n",
    "    # Save as PNG\n",
    "    #plt.savefig(filename, bbox_inches='tight')\n",
    "    plt.savefig(filename)\n",
    "    plt.show()"
   ]
  },
  {
   "cell_type": "code",
   "execution_count": 42,
   "id": "2f3462a6",
   "metadata": {},
   "outputs": [],
   "source": [
    "alg_label = [\"Original\",\n",
    "             \"R. LOUDS Backtrack.\", \n",
    "             \"R. LOUDS Op. Order\",\n",
    "             \"R. DFUDS Backtrack.\", \n",
    "             \"R. DFUDS Op. Order\"]\n",
    "        \n",
    "queries_label = [\"j3\",\"j4\",\"p2\",\"p3\",\"p4\",\"s1\",\"s2\",\"s3\",\"s4\",\"t2\",\"t3\",\"t4\",\"ti2\",\"ti3\",\"ti4\",\"tr1\",\"tr2\"]\n",
    "\n",
    "queries_title = [\"J3\",\"J4\",\"P2\",\"P3\",\"P4\",\"S1\",\"S2\",\"S3\",\"S4\",\"T2\",\"T3\",\"T4\",\"Ti2\",\"Ti3\",\"Ti4\",\"Tr1\",\"Tr2\"]"
   ]
  },
  {
   "cell_type": "code",
   "execution_count": 43,
   "id": "a32554c4",
   "metadata": {},
   "outputs": [
    {
     "name": "stderr",
     "output_type": "stream",
     "text": [
      "/var/folders/qg/ggml06zs7tz58wmpl0g0hjhw0000gn/T/ipykernel_85910/1514528929.py:46: FutureWarning: DataFrame.applymap has been deprecated. Use DataFrame.map instead.\n",
      "  result_table.iloc[:, 1:] = result_table.iloc[:, 1:].applymap(lambda x: round(x, 1))\n"
     ]
    },
    {
     "data": {
      "text/html": [
       "<div>\n",
       "<style scoped>\n",
       "    .dataframe tbody tr th:only-of-type {\n",
       "        vertical-align: middle;\n",
       "    }\n",
       "\n",
       "    .dataframe tbody tr th {\n",
       "        vertical-align: top;\n",
       "    }\n",
       "\n",
       "    .dataframe thead th {\n",
       "        text-align: right;\n",
       "    }\n",
       "</style>\n",
       "<table border=\"1\" class=\"dataframe\">\n",
       "  <thead>\n",
       "    <tr style=\"text-align: right;\">\n",
       "      <th></th>\n",
       "      <th>k</th>\n",
       "      <th>Original</th>\n",
       "      <th>R. Louds Back</th>\n",
       "      <th>R. Louds Opt</th>\n",
       "      <th>R. Dfuds Back</th>\n",
       "      <th>R. Dfuds Opt</th>\n",
       "    </tr>\n",
       "  </thead>\n",
       "  <tbody>\n",
       "    <tr>\n",
       "      <th>0</th>\n",
       "      <td>1</td>\n",
       "      <td>22967245.5</td>\n",
       "      <td>11049797.8</td>\n",
       "      <td>13645907.8</td>\n",
       "      <td>11047310.6</td>\n",
       "      <td>13643774.2</td>\n",
       "    </tr>\n",
       "    <tr>\n",
       "      <th>1</th>\n",
       "      <td>10</td>\n",
       "      <td>22967245.5</td>\n",
       "      <td>16394292.4</td>\n",
       "      <td>17389611.2</td>\n",
       "      <td>16342822.8</td>\n",
       "      <td>17360311.4</td>\n",
       "    </tr>\n",
       "    <tr>\n",
       "      <th>2</th>\n",
       "      <td>100</td>\n",
       "      <td>22967245.5</td>\n",
       "      <td>18397888.4</td>\n",
       "      <td>18810315.5</td>\n",
       "      <td>18466630.4</td>\n",
       "      <td>18796343.2</td>\n",
       "    </tr>\n",
       "    <tr>\n",
       "      <th>3</th>\n",
       "      <td>1000</td>\n",
       "      <td>22967245.5</td>\n",
       "      <td>19120147.9</td>\n",
       "      <td>19585852.5</td>\n",
       "      <td>19120488.9</td>\n",
       "      <td>19586108.5</td>\n",
       "    </tr>\n",
       "  </tbody>\n",
       "</table>\n",
       "</div>"
      ],
      "text/plain": [
       "      k    Original  R. Louds Back  R. Louds Opt  R. Dfuds Back  R. Dfuds Opt\n",
       "0     1  22967245.5     11049797.8    13645907.8     11047310.6    13643774.2\n",
       "1    10  22967245.5     16394292.4    17389611.2     16342822.8    17360311.4\n",
       "2   100  22967245.5     18397888.4    18810315.5     18466630.4    18796343.2\n",
       "3  1000  22967245.5     19120147.9    19585852.5     19120488.9    19586108.5"
      ]
     },
     "execution_count": 43,
     "metadata": {},
     "output_type": "execute_result"
    }
   ],
   "source": [
    "\n",
    "for i,type_fun in enumerate([0]):#,1]):\n",
    "    file = f\"results-f{type_fun}-nodes.csv\"\n",
    "    #print(file)\n",
    "    \n",
    "    k_values = [1, 10, 100, 1000]\n",
    "    \n",
    "    original = pd.read_csv('../../original/results-nodes-ranked.csv',delimiter=';')\n",
    "    original = original.drop(original.columns[0], axis=1) # delete column k\n",
    "    meanOriginal = original.mean(axis=1)\n",
    "\n",
    "    \n",
    "    rankedLoudsBack = pd.read_csv(f'../../ranked/louds/backtracking/{file}', delimiter=';')\n",
    "    rankedLoudsBack = rankedLoudsBack.drop(rankedLoudsBack.columns[0], axis=1) # delete column k\n",
    "    rankedLoudsBack = rankedLoudsBack.loc[:, (rankedLoudsBack != 0).any(axis=0)]\n",
    "    meanRankedLoudsBack = rankedLoudsBack.mean(axis=1)\n",
    "    \n",
    "    rankedLoudsNon = pd.read_csv(f'../../ranked/louds/optimalOrder/{file}', delimiter=';')\n",
    "    rankedLoudsNon = rankedLoudsNon.drop(rankedLoudsNon.columns[0], axis=1) # delete column k\n",
    "    rankedLoudsNon = rankedLoudsNon.loc[:, (rankedLoudsNon != 0).any(axis=0)]\n",
    "    meanRankedLoudsNon = rankedLoudsNon.mean(axis=1)\n",
    "    \n",
    "    rankedDfudsBack = pd.read_csv(f'../../ranked/dfuds/backtracking/{file}', delimiter=';')\n",
    "    rankedDfudsBack = rankedDfudsBack.drop(rankedDfudsBack.columns[0], axis=1) # delete column k\n",
    "    rankedDfudsBack = rankedDfudsBack.loc[:, (rankedDfudsBack != 0).any(axis=0)]\n",
    "    meanRankedDfudsBack = rankedDfudsBack.mean(axis=1)\n",
    "    \n",
    "    rankedDfudsNon = pd.read_csv(f'../../ranked/dfuds/optimalOrder/{file}', delimiter=';')\n",
    "    rankedDfudsNon = rankedDfudsNon.drop(rankedDfudsNon.columns[0], axis=1) # delete column k\n",
    "    rankedDfudsNon = rankedDfudsNon.loc[:, (rankedDfudsNon != 0).any(axis=0)]\n",
    "    meanRankedDfudsNon = rankedDfudsNon.mean(axis=1)\n",
    "    \n",
    "    # Combine into a DataFrame\n",
    "    result_table = pd.DataFrame({\n",
    "        \"k\": k_values,\n",
    "        \"Original\": meanOriginal,\n",
    "        \"R. Louds Back\": meanRankedLoudsBack,\n",
    "        \"R. Louds Opt\": meanRankedLoudsNon,\n",
    "        \"R. Dfuds Back\": meanRankedDfudsBack,\n",
    "        \"R. Dfuds Opt\": meanRankedDfudsNon\n",
    "    })\n",
    "    \n",
    "    #result_table.set_index(\"k\")\n",
    "    result_table\n",
    "    \n",
    "\n",
    "result_table.iloc[:, 1:] = result_table.iloc[:, 1:].applymap(lambda x: round(x, 1))\n",
    "result_table['k'] = result_table['k'].astype(int)\n",
    "result_table\n",
    "#result_table.style.set_caption(\"ras\")\n",
    "#result_table.style.background_gradient(axis=None, vmin=1, vmax=5, cmap=\"YlGnBu\")\n",
    "\n",
    "\n",
    "        "
   ]
  },
  {
   "cell_type": "code",
   "execution_count": 44,
   "id": "4fe872f2",
   "metadata": {},
   "outputs": [
    {
     "name": "stdout",
     "output_type": "stream",
     "text": [
      "\\begin{tabular}{rrrrrr}\n",
      "\\toprule\n",
      "k & Original & R. Louds Back & R. Louds Opt & R. Dfuds Back & R. Dfuds Opt \\\\\n",
      "\\midrule\n",
      "1 & 22,967,245.50 & 11,049,797.80 & 13,645,907.80 & 11,047,310.60 & 13,643,774.20 \\\\\n",
      "10 & 22,967,245.50 & 16,394,292.40 & 17,389,611.20 & 16,342,822.80 & 17,360,311.40 \\\\\n",
      "100 & 22,967,245.50 & 18,397,888.40 & 18,810,315.50 & 18,466,630.40 & 18,796,343.20 \\\\\n",
      "1000 & 22,967,245.50 & 19,120,147.90 & 19,585,852.50 & 19,120,488.90 & 19,586,108.50 \\\\\n",
      "\\bottomrule\n",
      "\\end{tabular}\n",
      "\n"
     ]
    }
   ],
   "source": [
    "# latex table\n",
    "print(result_table.to_latex(index=False,float_format=\"{:,.2f}\".format,))"
   ]
  },
  {
   "cell_type": "code",
   "execution_count": 45,
   "id": "0196e31f",
   "metadata": {},
   "outputs": [],
   "source": [
    "res_rlb =result_table['R. Louds Back']/result_table['Original'] * 100\n",
    "res_rlo=result_table['R. Louds Opt']/result_table['Original'] * 100\n",
    "res_rdb=result_table['R. Dfuds Back']/result_table['Original'] * 100\n",
    "res_rdo=result_table['R. Dfuds Opt']/result_table['Original'] * 100"
   ]
  },
  {
   "cell_type": "code",
   "execution_count": 46,
   "id": "8d14fbe9",
   "metadata": {},
   "outputs": [
    {
     "data": {
      "text/html": [
       "<div>\n",
       "<style scoped>\n",
       "    .dataframe tbody tr th:only-of-type {\n",
       "        vertical-align: middle;\n",
       "    }\n",
       "\n",
       "    .dataframe tbody tr th {\n",
       "        vertical-align: top;\n",
       "    }\n",
       "\n",
       "    .dataframe thead th {\n",
       "        text-align: right;\n",
       "    }\n",
       "</style>\n",
       "<table border=\"1\" class=\"dataframe\">\n",
       "  <thead>\n",
       "    <tr style=\"text-align: right;\">\n",
       "      <th></th>\n",
       "      <th>R. Louds Back</th>\n",
       "      <th>R. Louds Opt</th>\n",
       "      <th>R. Dfuds Back</th>\n",
       "      <th>R. Dfuds Opt</th>\n",
       "    </tr>\n",
       "  </thead>\n",
       "  <tbody>\n",
       "    <tr>\n",
       "      <th>0</th>\n",
       "      <td>48.111115</td>\n",
       "      <td>59.414647</td>\n",
       "      <td>48.100285</td>\n",
       "      <td>59.405357</td>\n",
       "    </tr>\n",
       "    <tr>\n",
       "      <th>1</th>\n",
       "      <td>71.381187</td>\n",
       "      <td>75.714831</td>\n",
       "      <td>71.157087</td>\n",
       "      <td>75.587259</td>\n",
       "    </tr>\n",
       "    <tr>\n",
       "      <th>2</th>\n",
       "      <td>80.104897</td>\n",
       "      <td>81.900616</td>\n",
       "      <td>80.404202</td>\n",
       "      <td>81.839780</td>\n",
       "    </tr>\n",
       "    <tr>\n",
       "      <th>3</th>\n",
       "      <td>83.249634</td>\n",
       "      <td>85.277325</td>\n",
       "      <td>83.251119</td>\n",
       "      <td>85.278439</td>\n",
       "    </tr>\n",
       "  </tbody>\n",
       "</table>\n",
       "</div>"
      ],
      "text/plain": [
       "   R. Louds Back  R. Louds Opt  R. Dfuds Back  R. Dfuds Opt\n",
       "0      48.111115     59.414647      48.100285     59.405357\n",
       "1      71.381187     75.714831      71.157087     75.587259\n",
       "2      80.104897     81.900616      80.404202     81.839780\n",
       "3      83.249634     85.277325      83.251119     85.278439"
      ]
     },
     "execution_count": 46,
     "metadata": {},
     "output_type": "execute_result"
    }
   ],
   "source": [
    "res_percentaje = pd.DataFrame({\n",
    "        \"R. Louds Back\": res_rlb,\n",
    "        \"R. Louds Opt\": res_rlo,\n",
    "        \"R. Dfuds Back\": res_rdb,\n",
    "        \"R. Dfuds Opt\": res_rdo\n",
    "    })\n",
    "\n",
    "res_percentaje"
   ]
  },
  {
   "cell_type": "code",
   "execution_count": 47,
   "id": "d2fae9ef",
   "metadata": {},
   "outputs": [
    {
     "name": "stdout",
     "output_type": "stream",
     "text": [
      "\\begin{tabular}{rrrr}\n",
      "\\toprule\n",
      "R. Louds Back & R. Louds Opt & R. Dfuds Back & R. Dfuds Opt \\\\\n",
      "\\midrule\n",
      "48.11 & 59.41 & 48.10 & 59.41 \\\\\n",
      "71.38 & 75.71 & 71.16 & 75.59 \\\\\n",
      "80.10 & 81.90 & 80.40 & 81.84 \\\\\n",
      "83.25 & 85.28 & 83.25 & 85.28 \\\\\n",
      "\\bottomrule\n",
      "\\end{tabular}\n",
      "\n"
     ]
    }
   ],
   "source": [
    "# latex table\n",
    "print(res_percentaje.to_latex(index=False,float_format=\"{:,.2f}\".format,))"
   ]
  },
  {
   "cell_type": "code",
   "execution_count": 48,
   "id": "2c88b575",
   "metadata": {},
   "outputs": [],
   "source": [
    "\n",
    "alg_label = [\"Original\",\n",
    "             \"R. LOUDS Backtrack.\", \n",
    "             \"R. LOUDS Op. Order\",\n",
    "             \"R. DFUDS Backtrack.\", \n",
    "             \"R. DFUDS Op. Order\"]\n",
    "queries_title_v1000 = [\"J3\",\"J4\",\"P2\",\"P3\",\"P4\",\"S3\",\"T2\",\"T3\",\"T4\",\"Ti2\",\"Ti3\"] #\"S3\",\"T3\",\"Ti4 (log scale)\"\n",
    "queries_label_v1000=[\"j3\",\"j4\",\"p2\",\"p3\",\"p4\",\"s3\",\"t2\",\"t3\",\"t4\",\"ti2\",\"ti3\"] # \"s3\", \"t3\",\"ti4\""
   ]
  },
  {
   "cell_type": "code",
   "execution_count": 49,
   "id": "a0dd1e48",
   "metadata": {},
   "outputs": [
    {
     "name": "stderr",
     "output_type": "stream",
     "text": [
      "/var/folders/qg/ggml06zs7tz58wmpl0g0hjhw0000gn/T/ipykernel_85910/3519114638.py:41: FutureWarning: DataFrame.applymap has been deprecated. Use DataFrame.map instead.\n",
      "  result_table.iloc[:, 1:] = result_table.iloc[:, 1:].applymap(lambda x: round(x, 1))\n"
     ]
    },
    {
     "data": {
      "text/html": [
       "<div>\n",
       "<style scoped>\n",
       "    .dataframe tbody tr th:only-of-type {\n",
       "        vertical-align: middle;\n",
       "    }\n",
       "\n",
       "    .dataframe tbody tr th {\n",
       "        vertical-align: top;\n",
       "    }\n",
       "\n",
       "    .dataframe thead th {\n",
       "        text-align: right;\n",
       "    }\n",
       "</style>\n",
       "<table border=\"1\" class=\"dataframe\">\n",
       "  <thead>\n",
       "    <tr style=\"text-align: right;\">\n",
       "      <th></th>\n",
       "      <th>k</th>\n",
       "      <th>Original</th>\n",
       "      <th>R. Louds Back</th>\n",
       "      <th>R. Louds Opt</th>\n",
       "      <th>R. Dfuds Back</th>\n",
       "      <th>R. Dfuds Opt</th>\n",
       "    </tr>\n",
       "  </thead>\n",
       "  <tbody>\n",
       "    <tr>\n",
       "      <th>0</th>\n",
       "      <td>1</td>\n",
       "      <td>203129029.8</td>\n",
       "      <td>4156925.8</td>\n",
       "      <td>5912248.9</td>\n",
       "      <td>4158977.5</td>\n",
       "      <td>5912121.0</td>\n",
       "    </tr>\n",
       "    <tr>\n",
       "      <th>1</th>\n",
       "      <td>10</td>\n",
       "      <td>203129030.3</td>\n",
       "      <td>5989195.9</td>\n",
       "      <td>6819815.7</td>\n",
       "      <td>6016912.7</td>\n",
       "      <td>6813944.3</td>\n",
       "    </tr>\n",
       "    <tr>\n",
       "      <th>2</th>\n",
       "      <td>100</td>\n",
       "      <td>203129035.3</td>\n",
       "      <td>9958181.8</td>\n",
       "      <td>8245073.1</td>\n",
       "      <td>9977645.2</td>\n",
       "      <td>8238121.7</td>\n",
       "    </tr>\n",
       "    <tr>\n",
       "      <th>3</th>\n",
       "      <td>1000</td>\n",
       "      <td>203129085.3</td>\n",
       "      <td>13325024.7</td>\n",
       "      <td>10955396.7</td>\n",
       "      <td>13333127.8</td>\n",
       "      <td>10956491.1</td>\n",
       "    </tr>\n",
       "  </tbody>\n",
       "</table>\n",
       "</div>"
      ],
      "text/plain": [
       "      k     Original  R. Louds Back  R. Louds Opt  R. Dfuds Back  R. Dfuds Opt\n",
       "0     1  203129029.8      4156925.8     5912248.9      4158977.5     5912121.0\n",
       "1    10  203129030.3      5989195.9     6819815.7      6016912.7     6813944.3\n",
       "2   100  203129035.3      9958181.8     8245073.1      9977645.2     8238121.7\n",
       "3  1000  203129085.3     13325024.7    10955396.7     13333127.8    10956491.1"
      ]
     },
     "execution_count": 49,
     "metadata": {},
     "output_type": "execute_result"
    }
   ],
   "source": [
    "\n",
    "for i,type_fun in enumerate([0]):#,1]):\n",
    "    file = f\"results-f{type_fun}-v1000-nodes.csv\"\n",
    "    #print(file)\n",
    "    \n",
    "    k_values = [1, 10, 100, 1000]\n",
    "    \n",
    "    original = pd.read_csv('../../query1000results/original/results-v1000-nodes-ranked.csv',delimiter=';')\n",
    "    meanOriginal = original.mean(axis=1)\n",
    "\n",
    "    \n",
    "    rankedLoudsBack = pd.read_csv(f'../../query1000results/ranked/louds/backtracking/{file}', delimiter=';')\n",
    "    rankedLoudsBack = rankedLoudsBack.loc[:, (rankedLoudsBack != 0).any(axis=0)]\n",
    "    meanRankedLoudsBack = rankedLoudsBack.mean(axis=1)\n",
    "    \n",
    "    rankedLoudsNon = pd.read_csv(f'../../query1000results/ranked/louds/optimalOrder/{file}', delimiter=';')\n",
    "    rankedLoudsNon = rankedLoudsNon.loc[:, (rankedLoudsNon != 0).any(axis=0)]\n",
    "    meanRankedLoudsNon = rankedLoudsNon.mean(axis=1)\n",
    "    \n",
    "    rankedDfudsBack = pd.read_csv(f'../../query1000results/ranked/dfuds/backtracking/{file}', delimiter=';')\n",
    "    rankedDfudsBack = rankedDfudsBack.loc[:, (rankedDfudsBack != 0).any(axis=0)]\n",
    "    meanRankedDfudsBack = rankedDfudsBack.mean(axis=1)\n",
    "    \n",
    "    rankedDfudsNon = pd.read_csv(f'../../query1000results/ranked/dfuds/optimalOrder/{file}', delimiter=';')\n",
    "    rankedDfudsNon = rankedDfudsNon.loc[:, (rankedDfudsNon != 0).any(axis=0)]\n",
    "    meanRankedDfudsNon = rankedDfudsNon.mean(axis=1)\n",
    "    \n",
    "    # Combine into a DataFrame\n",
    "    result_table = pd.DataFrame({\n",
    "        \"k\": k_values,\n",
    "        \"Original\": meanOriginal,\n",
    "        \"R. Louds Back\": meanRankedLoudsBack,\n",
    "        \"R. Louds Opt\": meanRankedLoudsNon,\n",
    "        \"R. Dfuds Back\": meanRankedDfudsBack,\n",
    "        \"R. Dfuds Opt\": meanRankedDfudsNon\n",
    "    })\n",
    "    \n",
    "    #result_table.set_index(\"k\")\n",
    "    result_table\n",
    "    \n",
    "\n",
    "result_table.iloc[:, 1:] = result_table.iloc[:, 1:].applymap(lambda x: round(x, 1))\n",
    "result_table['k'] = result_table['k'].astype(int)\n",
    "result_table\n",
    "#result_table.style.set_caption(\"ras\")\n",
    "#result_table.style.background_gradient(axis=None, vmin=1, vmax=5, cmap=\"YlGnBu\")\n",
    "\n",
    "\n",
    "        "
   ]
  },
  {
   "cell_type": "code",
   "execution_count": 50,
   "id": "4d22b859",
   "metadata": {},
   "outputs": [
    {
     "name": "stdout",
     "output_type": "stream",
     "text": [
      "\\begin{tabular}{rrrrrr}\n",
      "\\toprule\n",
      "k & Original & R. Louds Back & R. Louds Opt & R. Dfuds Back & R. Dfuds Opt \\\\\n",
      "\\midrule\n",
      "1 & 203,129,029.80 & 4,156,925.80 & 5,912,248.90 & 4,158,977.50 & 5,912,121.00 \\\\\n",
      "10 & 203,129,030.30 & 5,989,195.90 & 6,819,815.70 & 6,016,912.70 & 6,813,944.30 \\\\\n",
      "100 & 203,129,035.30 & 9,958,181.80 & 8,245,073.10 & 9,977,645.20 & 8,238,121.70 \\\\\n",
      "1000 & 203,129,085.30 & 13,325,024.70 & 10,955,396.70 & 13,333,127.80 & 10,956,491.10 \\\\\n",
      "\\bottomrule\n",
      "\\end{tabular}\n",
      "\n"
     ]
    }
   ],
   "source": [
    "# latex table\n",
    "print(result_table.to_latex(index=False,float_format=\"{:,.2f}\".format,))"
   ]
  },
  {
   "cell_type": "code",
   "execution_count": 51,
   "id": "9008d313",
   "metadata": {},
   "outputs": [],
   "source": [
    "name = \"ranked-variablek-mean-nodes\"\n",
    "filename = '/Users/asugomez/Desktop/Magister/Tesis/tesisQdags/imagenes/'+name\n",
    "csv_filename = filename + \".csv\"\n",
    "png_filename = filename + \".png\""
   ]
  },
  {
   "cell_type": "code",
   "execution_count": 52,
   "id": "f35784e2",
   "metadata": {},
   "outputs": [],
   "source": [
    "#result_table.to_csv(csv_filename, index=False)"
   ]
  },
  {
   "cell_type": "code",
   "execution_count": 53,
   "id": "2d7805ac",
   "metadata": {},
   "outputs": [],
   "source": [
    "#save_dataframe_as_png(result_table, png_filename)"
   ]
  },
  {
   "cell_type": "code",
   "execution_count": 54,
   "id": "217fc370",
   "metadata": {},
   "outputs": [],
   "source": [
    "res_rlb =result_table['R. Louds Back']/result_table['Original'] * 100\n",
    "res_rlo=result_table['R. Louds Opt']/result_table['Original'] * 100\n",
    "res_rdb=result_table['R. Dfuds Back']/result_table['Original'] * 100\n",
    "res_rdo=result_table['R. Dfuds Opt']/result_table['Original'] * 100"
   ]
  },
  {
   "cell_type": "code",
   "execution_count": 57,
   "id": "d550463b",
   "metadata": {
    "scrolled": true
   },
   "outputs": [
    {
     "data": {
      "text/html": [
       "<div>\n",
       "<style scoped>\n",
       "    .dataframe tbody tr th:only-of-type {\n",
       "        vertical-align: middle;\n",
       "    }\n",
       "\n",
       "    .dataframe tbody tr th {\n",
       "        vertical-align: top;\n",
       "    }\n",
       "\n",
       "    .dataframe thead th {\n",
       "        text-align: right;\n",
       "    }\n",
       "</style>\n",
       "<table border=\"1\" class=\"dataframe\">\n",
       "  <thead>\n",
       "    <tr style=\"text-align: right;\">\n",
       "      <th></th>\n",
       "      <th>k</th>\n",
       "      <th>R. Louds Back</th>\n",
       "      <th>R. Louds Opt</th>\n",
       "      <th>R. Dfuds Back</th>\n",
       "      <th>R. Dfuds Opt</th>\n",
       "    </tr>\n",
       "  </thead>\n",
       "  <tbody>\n",
       "    <tr>\n",
       "      <th>0</th>\n",
       "      <td>1</td>\n",
       "      <td>2.046446</td>\n",
       "      <td>2.910588</td>\n",
       "      <td>2.047456</td>\n",
       "      <td>2.910525</td>\n",
       "    </tr>\n",
       "    <tr>\n",
       "      <th>1</th>\n",
       "      <td>10</td>\n",
       "      <td>2.948469</td>\n",
       "      <td>3.357381</td>\n",
       "      <td>2.962114</td>\n",
       "      <td>3.354491</td>\n",
       "    </tr>\n",
       "    <tr>\n",
       "      <th>2</th>\n",
       "      <td>100</td>\n",
       "      <td>4.902392</td>\n",
       "      <td>4.059032</td>\n",
       "      <td>4.911974</td>\n",
       "      <td>4.055610</td>\n",
       "    </tr>\n",
       "    <tr>\n",
       "      <th>3</th>\n",
       "      <td>1000</td>\n",
       "      <td>6.559880</td>\n",
       "      <td>5.393318</td>\n",
       "      <td>6.563869</td>\n",
       "      <td>5.393856</td>\n",
       "    </tr>\n",
       "  </tbody>\n",
       "</table>\n",
       "</div>"
      ],
      "text/plain": [
       "      k  R. Louds Back  R. Louds Opt  R. Dfuds Back  R. Dfuds Opt\n",
       "0     1       2.046446      2.910588       2.047456      2.910525\n",
       "1    10       2.948469      3.357381       2.962114      3.354491\n",
       "2   100       4.902392      4.059032       4.911974      4.055610\n",
       "3  1000       6.559880      5.393318       6.563869      5.393856"
      ]
     },
     "execution_count": 57,
     "metadata": {},
     "output_type": "execute_result"
    }
   ],
   "source": [
    "res_percentaje = pd.DataFrame({\n",
    "    \"k\": k_values,\n",
    "        \"R. Louds Back\": res_rlb,\n",
    "        \"R. Louds Opt\": res_rlo,\n",
    "        \"R. Dfuds Back\": res_rdb,\n",
    "        \"R. Dfuds Opt\": res_rdo\n",
    "    })\n",
    "\n",
    "res_percentaje"
   ]
  },
  {
   "cell_type": "code",
   "execution_count": 58,
   "id": "6d69fffa",
   "metadata": {},
   "outputs": [
    {
     "name": "stdout",
     "output_type": "stream",
     "text": [
      "\\begin{tabular}{rrrrr}\n",
      "\\toprule\n",
      "k & R. Louds Back & R. Louds Opt & R. Dfuds Back & R. Dfuds Opt \\\\\n",
      "\\midrule\n",
      "1 & 2.05 & 2.91 & 2.05 & 2.91 \\\\\n",
      "10 & 2.95 & 3.36 & 2.96 & 3.35 \\\\\n",
      "100 & 4.90 & 4.06 & 4.91 & 4.06 \\\\\n",
      "1000 & 6.56 & 5.39 & 6.56 & 5.39 \\\\\n",
      "\\bottomrule\n",
      "\\end{tabular}\n",
      "\n"
     ]
    }
   ],
   "source": [
    "# latex table\n",
    "print(res_percentaje.to_latex(index=False,float_format=\"{:,.2f}\".format,))"
   ]
  }
 ],
 "metadata": {
  "kernelspec": {
   "display_name": "Python 3 (ipykernel)",
   "language": "python",
   "name": "python3"
  },
  "language_info": {
   "codemirror_mode": {
    "name": "ipython",
    "version": 3
   },
   "file_extension": ".py",
   "mimetype": "text/x-python",
   "name": "python",
   "nbconvert_exporter": "python",
   "pygments_lexer": "ipython3",
   "version": "3.13.2"
  }
 },
 "nbformat": 4,
 "nbformat_minor": 5
}
