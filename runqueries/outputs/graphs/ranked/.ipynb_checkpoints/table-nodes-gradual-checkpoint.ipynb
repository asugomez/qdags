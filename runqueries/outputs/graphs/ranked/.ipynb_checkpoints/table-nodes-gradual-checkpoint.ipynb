{
 "cells": [
  {
   "cell_type": "code",
   "execution_count": 42,
   "id": "ab6589f6",
   "metadata": {},
   "outputs": [],
   "source": [
    "# table to visualize % nodes visited in original and ranked enum. algorithms\n"
   ]
  },
  {
   "cell_type": "code",
   "execution_count": 43,
   "id": "0fc0fa13",
   "metadata": {},
   "outputs": [],
   "source": [
    "import pandas as pd\n",
    "import matplotlib.pyplot as plt\n",
    "import matplotlib.gridspec as gridspec\n",
    "import numpy as np\n",
    "import seaborn as sns"
   ]
  },
  {
   "cell_type": "code",
   "execution_count": 44,
   "id": "2f3462a6",
   "metadata": {},
   "outputs": [],
   "source": [
    "alg_label = [\"Original\",\n",
    "             \"G. LOUDS Backtrack.\", \n",
    "             \"G. LOUDS Op. Order\",\n",
    "             \"G. DFUDS Backtrack.\", \n",
    "             \"G. DFUDS Op. Order\"]\n",
    "        \n",
    "queries_label = [\"j3\",\"j4\",\"p2\",\"p3\",\"p4\",\"s1\",\"s2\",\"s3\",\"s4\",\"t2\",\"t3\",\"t4\",\"ti2\",\"ti3\",\"ti4\",\"tr1\",\"tr2\"]\n",
    "\n",
    "queries_title = [\"J3\",\"J4\",\"P2\",\"P3\",\"P4\",\"S1\",\"S2\",\"S3\",\"S4\",\"T2\",\"T3\",\"T4\",\"Ti2\",\"Ti3\",\"Ti4\",\"Tr1\",\"Tr2\"]"
   ]
  },
  {
   "cell_type": "code",
   "execution_count": 45,
   "id": "a32554c4",
   "metadata": {},
   "outputs": [
    {
     "name": "stderr",
     "output_type": "stream",
     "text": [
      "/var/folders/qg/ggml06zs7tz58wmpl0g0hjhw0000gn/T/ipykernel_29531/897574763.py:41: FutureWarning: DataFrame.applymap has been deprecated. Use DataFrame.map instead.\n",
      "  result_table.iloc[:, 1:] = result_table.iloc[:, 1:].applymap(lambda x: round(x, 1))\n"
     ]
    },
    {
     "data": {
      "text/html": [
       "<div>\n",
       "<style scoped>\n",
       "    .dataframe tbody tr th:only-of-type {\n",
       "        vertical-align: middle;\n",
       "    }\n",
       "\n",
       "    .dataframe tbody tr th {\n",
       "        vertical-align: top;\n",
       "    }\n",
       "\n",
       "    .dataframe thead th {\n",
       "        text-align: right;\n",
       "    }\n",
       "</style>\n",
       "<table border=\"1\" class=\"dataframe\">\n",
       "  <thead>\n",
       "    <tr style=\"text-align: right;\">\n",
       "      <th></th>\n",
       "      <th>k</th>\n",
       "      <th>Original</th>\n",
       "      <th>G. Louds Back</th>\n",
       "      <th>G. Louds Opt</th>\n",
       "      <th>G. Dfuds Back</th>\n",
       "      <th>G. Dfuds Opt</th>\n",
       "    </tr>\n",
       "  </thead>\n",
       "  <tbody>\n",
       "    <tr>\n",
       "      <th>0</th>\n",
       "      <td>1</td>\n",
       "      <td>5451446.5</td>\n",
       "      <td>5154162.8</td>\n",
       "      <td>5313902.8</td>\n",
       "      <td>5154162.8</td>\n",
       "      <td>5313902.8</td>\n",
       "    </tr>\n",
       "    <tr>\n",
       "      <th>1</th>\n",
       "      <td>10</td>\n",
       "      <td>10972050.6</td>\n",
       "      <td>12237924.6</td>\n",
       "      <td>11835784.7</td>\n",
       "      <td>12237924.6</td>\n",
       "      <td>11835784.7</td>\n",
       "    </tr>\n",
       "    <tr>\n",
       "      <th>2</th>\n",
       "      <td>100</td>\n",
       "      <td>14740835.1</td>\n",
       "      <td>15088746.6</td>\n",
       "      <td>14791090.8</td>\n",
       "      <td>15088746.6</td>\n",
       "      <td>14791090.8</td>\n",
       "    </tr>\n",
       "    <tr>\n",
       "      <th>3</th>\n",
       "      <td>1000</td>\n",
       "      <td>17312450.3</td>\n",
       "      <td>17050935.3</td>\n",
       "      <td>17096434.0</td>\n",
       "      <td>17050935.3</td>\n",
       "      <td>17096434.0</td>\n",
       "    </tr>\n",
       "  </tbody>\n",
       "</table>\n",
       "</div>"
      ],
      "text/plain": [
       "      k    Original  G. Louds Back  G. Louds Opt  G. Dfuds Back  G. Dfuds Opt\n",
       "0     1   5451446.5      5154162.8     5313902.8      5154162.8     5313902.8\n",
       "1    10  10972050.6     12237924.6    11835784.7     12237924.6    11835784.7\n",
       "2   100  14740835.1     15088746.6    14791090.8     15088746.6    14791090.8\n",
       "3  1000  17312450.3     17050935.3    17096434.0     17050935.3    17096434.0"
      ]
     },
     "execution_count": 45,
     "metadata": {},
     "output_type": "execute_result"
    }
   ],
   "source": [
    "\n",
    "for i,type_fun in enumerate([0]):#,1]):\n",
    "    file = f\"results-f{type_fun}-nodes.csv\"\n",
    "    #print(file)\n",
    "    \n",
    "    k_values = [1, 10, 100, 1000]\n",
    "    \n",
    "    original = pd.read_csv('../../original/results-nodes-gradual.csv',delimiter=';')\n",
    "    meanOriginal = original.mean(axis=1)\n",
    "\n",
    "    \n",
    "    gradualLoudsBack = pd.read_csv(f'../../partial/louds/backtracking/{file}', delimiter=';')\n",
    "    gradualLoudsBack = gradualLoudsBack.loc[:, (gradualLoudsBack != 0).any(axis=0)]\n",
    "    meanGradualLoudsBack = gradualLoudsBack.mean(axis=1)\n",
    "    \n",
    "    gradualLoudsNon = pd.read_csv(f'../../partial/louds/optimalOrder/{file}', delimiter=';')\n",
    "    gradualLoudsNon = gradualLoudsNon.loc[:, (gradualLoudsNon != 0).any(axis=0)]\n",
    "    meanGradualLoudsNon = gradualLoudsNon.mean(axis=1)\n",
    "    \n",
    "    gradualDfudsBack = pd.read_csv(f'../../partial/dfuds/backtracking/{file}', delimiter=';')\n",
    "    gradualDfudsBack = gradualDfudsBack.loc[:, (gradualDfudsBack != 0).any(axis=0)]\n",
    "    meanGradualDfudsBack = gradualDfudsBack.mean(axis=1)\n",
    "    \n",
    "    gradualDfudsNon = pd.read_csv(f'../../partial/dfuds/optimalOrder/{file}', delimiter=';')\n",
    "    gradualDfudsNon = gradualDfudsNon.loc[:, (gradualDfudsNon != 0).any(axis=0)]\n",
    "    meanGradualDfudsNon = gradualDfudsNon.mean(axis=1)\n",
    "    \n",
    "    # Combine into a DataFrame\n",
    "    result_table = pd.DataFrame({\n",
    "        \"k\": k_values,\n",
    "        \"Original\": meanOriginal,\n",
    "        \"G. Louds Back\": meanGradualLoudsBack,\n",
    "        \"G. Louds Opt\": meanGradualLoudsNon,\n",
    "        \"G. Dfuds Back\": meanGradualDfudsBack,\n",
    "        \"G. Dfuds Opt\": meanGradualDfudsNon\n",
    "    })\n",
    "    \n",
    "    #result_table.set_index(\"k\")\n",
    "    result_table\n",
    "    \n",
    "\n",
    "result_table.iloc[:, 1:] = result_table.iloc[:, 1:].applymap(lambda x: round(x, 1))\n",
    "result_table['k'] = result_table['k'].astype(int)\n",
    "result_table\n",
    "#result_table.style.set_caption(\"ras\")\n",
    "#result_table.style.background_gradient(axis=None, vmin=1, vmax=5, cmap=\"YlGnBu\")\n",
    "\n",
    "\n",
    "        "
   ]
  },
  {
   "cell_type": "code",
   "execution_count": 46,
   "id": "4fe872f2",
   "metadata": {},
   "outputs": [
    {
     "name": "stdout",
     "output_type": "stream",
     "text": [
      "\\begin{tabular}{rrrrrr}\n",
      "\\toprule\n",
      "k & Original & G. Louds Back & G. Louds Opt & G. Dfuds Back & G. Dfuds Opt \\\\\n",
      "\\midrule\n",
      "1 & 5,451,446.50 & 5,154,162.80 & 5,313,902.80 & 5,154,162.80 & 5,313,902.80 \\\\\n",
      "10 & 10,972,050.60 & 12,237,924.60 & 11,835,784.70 & 12,237,924.60 & 11,835,784.70 \\\\\n",
      "100 & 14,740,835.10 & 15,088,746.60 & 14,791,090.80 & 15,088,746.60 & 14,791,090.80 \\\\\n",
      "1000 & 17,312,450.30 & 17,050,935.30 & 17,096,434.00 & 17,050,935.30 & 17,096,434.00 \\\\\n",
      "\\bottomrule\n",
      "\\end{tabular}\n",
      "\n"
     ]
    }
   ],
   "source": [
    "# latex table\n",
    "print(result_table.to_latex(index=False,float_format=\"{:,.2f}\".format,))"
   ]
  },
  {
   "cell_type": "code",
   "execution_count": 47,
   "id": "0196e31f",
   "metadata": {},
   "outputs": [],
   "source": [
    "res_rlb =result_table['G. Louds Back']/result_table['Original'] * 100\n",
    "res_rlo=result_table['G. Louds Opt']/result_table['Original'] * 100\n",
    "res_rdb=result_table['G. Dfuds Back']/result_table['Original'] * 100\n",
    "res_rdo=result_table['G. Dfuds Opt']/result_table['Original'] * 100"
   ]
  },
  {
   "cell_type": "code",
   "execution_count": 48,
   "id": "8d14fbe9",
   "metadata": {},
   "outputs": [
    {
     "data": {
      "text/html": [
       "<div>\n",
       "<style scoped>\n",
       "    .dataframe tbody tr th:only-of-type {\n",
       "        vertical-align: middle;\n",
       "    }\n",
       "\n",
       "    .dataframe tbody tr th {\n",
       "        vertical-align: top;\n",
       "    }\n",
       "\n",
       "    .dataframe thead th {\n",
       "        text-align: right;\n",
       "    }\n",
       "</style>\n",
       "<table border=\"1\" class=\"dataframe\">\n",
       "  <thead>\n",
       "    <tr style=\"text-align: right;\">\n",
       "      <th></th>\n",
       "      <th>k</th>\n",
       "      <th>G. Louds Back</th>\n",
       "      <th>G. Louds Opt</th>\n",
       "      <th>G. Dfuds Back</th>\n",
       "      <th>G. Dfuds Opt</th>\n",
       "    </tr>\n",
       "  </thead>\n",
       "  <tbody>\n",
       "    <tr>\n",
       "      <th>0</th>\n",
       "      <td>1</td>\n",
       "      <td>94.546701</td>\n",
       "      <td>97.476932</td>\n",
       "      <td>94.546701</td>\n",
       "      <td>97.476932</td>\n",
       "    </tr>\n",
       "    <tr>\n",
       "      <th>1</th>\n",
       "      <td>10</td>\n",
       "      <td>111.537260</td>\n",
       "      <td>107.872130</td>\n",
       "      <td>111.537260</td>\n",
       "      <td>107.872130</td>\n",
       "    </tr>\n",
       "    <tr>\n",
       "      <th>2</th>\n",
       "      <td>100</td>\n",
       "      <td>102.360189</td>\n",
       "      <td>100.340928</td>\n",
       "      <td>102.360189</td>\n",
       "      <td>100.340928</td>\n",
       "    </tr>\n",
       "    <tr>\n",
       "      <th>3</th>\n",
       "      <td>1000</td>\n",
       "      <td>98.489440</td>\n",
       "      <td>98.752249</td>\n",
       "      <td>98.489440</td>\n",
       "      <td>98.752249</td>\n",
       "    </tr>\n",
       "  </tbody>\n",
       "</table>\n",
       "</div>"
      ],
      "text/plain": [
       "      k  G. Louds Back  G. Louds Opt  G. Dfuds Back  G. Dfuds Opt\n",
       "0     1      94.546701     97.476932      94.546701     97.476932\n",
       "1    10     111.537260    107.872130     111.537260    107.872130\n",
       "2   100     102.360189    100.340928     102.360189    100.340928\n",
       "3  1000      98.489440     98.752249      98.489440     98.752249"
      ]
     },
     "execution_count": 48,
     "metadata": {},
     "output_type": "execute_result"
    }
   ],
   "source": [
    "res_percentaje = pd.DataFrame({\n",
    "        \"k\": k_values,\n",
    "        \"G. Louds Back\": res_rlb,\n",
    "        \"G. Louds Opt\": res_rlo,\n",
    "        \"G. Dfuds Back\": res_rdb,\n",
    "        \"G. Dfuds Opt\": res_rdo\n",
    "    })\n",
    "\n",
    "res_percentaje"
   ]
  },
  {
   "cell_type": "code",
   "execution_count": 49,
   "id": "d2fae9ef",
   "metadata": {},
   "outputs": [
    {
     "name": "stdout",
     "output_type": "stream",
     "text": [
      "\\begin{tabular}{rrrrr}\n",
      "\\toprule\n",
      "k & G. Louds Back & G. Louds Opt & G. Dfuds Back & G. Dfuds Opt \\\\\n",
      "\\midrule\n",
      "1 & 94.55 & 97.48 & 94.55 & 97.48 \\\\\n",
      "10 & 111.54 & 107.87 & 111.54 & 107.87 \\\\\n",
      "100 & 102.36 & 100.34 & 102.36 & 100.34 \\\\\n",
      "1000 & 98.49 & 98.75 & 98.49 & 98.75 \\\\\n",
      "\\bottomrule\n",
      "\\end{tabular}\n",
      "\n"
     ]
    }
   ],
   "source": [
    "# latex table\n",
    "print(res_percentaje.to_latex(index=False,float_format=\"{:,.2f}\".format,))"
   ]
  },
  {
   "cell_type": "code",
   "execution_count": 50,
   "id": "2c88b575",
   "metadata": {},
   "outputs": [],
   "source": [
    "\n",
    "alg_label = [\"Original\",\n",
    "             \"G. LOUDS Backtrack.\", \n",
    "             \"G. LOUDS Op. Order\",\n",
    "             \"G. DFUDS Backtrack.\", \n",
    "             \"G. DFUDS Op. Order\"]\n",
    "queries_title_v1000 = [\"J3\",\"J4\",\"P2\",\"P3\",\"P4\",\"S3\",\"T2\",\"T3\",\"T4\",\"Ti2\",\"Ti3\"] #\"S3\",\"T3\",\"Ti4 (log scale)\"\n",
    "queries_label_v1000=[\"j3\",\"j4\",\"p2\",\"p3\",\"p4\",\"s3\",\"t2\",\"t3\",\"t4\",\"ti2\",\"ti3\"] # \"s3\", \"t3\",\"ti4\""
   ]
  },
  {
   "cell_type": "code",
   "execution_count": 51,
   "id": "a0dd1e48",
   "metadata": {},
   "outputs": [
    {
     "name": "stderr",
     "output_type": "stream",
     "text": [
      "/var/folders/qg/ggml06zs7tz58wmpl0g0hjhw0000gn/T/ipykernel_29531/1829203854.py:41: FutureWarning: DataFrame.applymap has been deprecated. Use DataFrame.map instead.\n",
      "  result_table.iloc[:, 1:] = result_table.iloc[:, 1:].applymap(lambda x: round(x, 1))\n"
     ]
    },
    {
     "data": {
      "text/html": [
       "<div>\n",
       "<style scoped>\n",
       "    .dataframe tbody tr th:only-of-type {\n",
       "        vertical-align: middle;\n",
       "    }\n",
       "\n",
       "    .dataframe tbody tr th {\n",
       "        vertical-align: top;\n",
       "    }\n",
       "\n",
       "    .dataframe thead th {\n",
       "        text-align: right;\n",
       "    }\n",
       "</style>\n",
       "<table border=\"1\" class=\"dataframe\">\n",
       "  <thead>\n",
       "    <tr style=\"text-align: right;\">\n",
       "      <th></th>\n",
       "      <th>k</th>\n",
       "      <th>Original</th>\n",
       "      <th>G. Louds Back</th>\n",
       "      <th>G. Louds Opt</th>\n",
       "      <th>G. Dfuds Back</th>\n",
       "      <th>G. Dfuds Opt</th>\n",
       "    </tr>\n",
       "  </thead>\n",
       "  <tbody>\n",
       "    <tr>\n",
       "      <th>0</th>\n",
       "      <td>1</td>\n",
       "      <td>8803374.1</td>\n",
       "      <td>347080.3</td>\n",
       "      <td>2315337.0</td>\n",
       "      <td>347080.3</td>\n",
       "      <td>2315337.0</td>\n",
       "    </tr>\n",
       "    <tr>\n",
       "      <th>1</th>\n",
       "      <td>10</td>\n",
       "      <td>9731802.8</td>\n",
       "      <td>2209735.6</td>\n",
       "      <td>3516238.1</td>\n",
       "      <td>2209735.6</td>\n",
       "      <td>3516238.1</td>\n",
       "    </tr>\n",
       "    <tr>\n",
       "      <th>2</th>\n",
       "      <td>100</td>\n",
       "      <td>19072611.6</td>\n",
       "      <td>3908781.2</td>\n",
       "      <td>4108285.6</td>\n",
       "      <td>3908781.2</td>\n",
       "      <td>4108285.6</td>\n",
       "    </tr>\n",
       "    <tr>\n",
       "      <th>3</th>\n",
       "      <td>1000</td>\n",
       "      <td>100382294.1</td>\n",
       "      <td>7212520.1</td>\n",
       "      <td>8156086.2</td>\n",
       "      <td>7212520.1</td>\n",
       "      <td>8156086.2</td>\n",
       "    </tr>\n",
       "  </tbody>\n",
       "</table>\n",
       "</div>"
      ],
      "text/plain": [
       "      k     Original  G. Louds Back  G. Louds Opt  G. Dfuds Back  G. Dfuds Opt\n",
       "0     1    8803374.1       347080.3     2315337.0       347080.3     2315337.0\n",
       "1    10    9731802.8      2209735.6     3516238.1      2209735.6     3516238.1\n",
       "2   100   19072611.6      3908781.2     4108285.6      3908781.2     4108285.6\n",
       "3  1000  100382294.1      7212520.1     8156086.2      7212520.1     8156086.2"
      ]
     },
     "execution_count": 51,
     "metadata": {},
     "output_type": "execute_result"
    }
   ],
   "source": [
    "\n",
    "for i,type_fun in enumerate([0]):#,1]):\n",
    "    file = f\"results-f{type_fun}-v1000-nodes.csv\"\n",
    "    #print(file)\n",
    "    \n",
    "    k_values = [1, 10, 100, 1000]\n",
    "    \n",
    "    original = pd.read_csv('../../query1000results/original/results-v1000-nodes-gradual.csv',delimiter=';')\n",
    "    meanOriginal = original.mean(axis=1)\n",
    "\n",
    "    \n",
    "    partialLoudsBack = pd.read_csv(f'../../query1000results/partial/louds/backtracking/{file}', delimiter=';')\n",
    "    partialLoudsBack = partialLoudsBack.loc[:, (partialLoudsBack != 0).any(axis=0)]\n",
    "    meanGradualLoudsBack = partialLoudsBack.mean(axis=1)\n",
    "    \n",
    "    partialLoudsNon = pd.read_csv(f'../../query1000results/partial/louds/optimalOrder/{file}', delimiter=';')\n",
    "    partialLoudsNon = partialLoudsNon.loc[:, (partialLoudsNon != 0).any(axis=0)]\n",
    "    meanGradualLoudsNon = partialLoudsNon.mean(axis=1)\n",
    "    \n",
    "    partialDfudsBack = pd.read_csv(f'../../query1000results/partial/dfuds/backtracking/{file}', delimiter=';')\n",
    "    partialDfudsBack = partialDfudsBack.loc[:, (partialDfudsBack != 0).any(axis=0)]\n",
    "    meanGradualDfudsBack = partialDfudsBack.mean(axis=1)\n",
    "    \n",
    "    partialDfudsNon = pd.read_csv(f'../../query1000results/partial/dfuds/optimalOrder/{file}', delimiter=';')\n",
    "    partialDfudsNon = partialDfudsNon.loc[:, (partialDfudsNon != 0).any(axis=0)]\n",
    "    meanGradualDfudsNon = partialDfudsNon.mean(axis=1)\n",
    "    \n",
    "    # Combine into a DataFrame\n",
    "    result_table = pd.DataFrame({\n",
    "        \"k\": k_values,\n",
    "        \"Original\": meanOriginal,\n",
    "        \"G. Louds Back\": meanGradualLoudsBack,\n",
    "        \"G. Louds Opt\": meanGradualLoudsNon,\n",
    "        \"G. Dfuds Back\": meanGradualDfudsBack,\n",
    "        \"G. Dfuds Opt\": meanGradualDfudsNon\n",
    "    })\n",
    "    \n",
    "    #result_table.set_index(\"k\")\n",
    "    result_table\n",
    "    \n",
    "\n",
    "result_table.iloc[:, 1:] = result_table.iloc[:, 1:].applymap(lambda x: round(x, 1))\n",
    "result_table['k'] = result_table['k'].astype(int)\n",
    "result_table\n",
    "#result_table.style.set_caption(\"ras\")\n",
    "#result_table.style.background_gradient(axis=None, vmin=1, vmax=5, cmap=\"YlGnBu\")\n",
    "\n",
    "\n",
    "        "
   ]
  },
  {
   "cell_type": "code",
   "execution_count": 52,
   "id": "4d22b859",
   "metadata": {},
   "outputs": [
    {
     "name": "stdout",
     "output_type": "stream",
     "text": [
      "\\begin{tabular}{rrrrrr}\n",
      "\\toprule\n",
      "k & Original & G. Louds Back & G. Louds Opt & G. Dfuds Back & G. Dfuds Opt \\\\\n",
      "\\midrule\n",
      "1 & 8,803,374.10 & 347,080.30 & 2,315,337.00 & 347,080.30 & 2,315,337.00 \\\\\n",
      "10 & 9,731,802.80 & 2,209,735.60 & 3,516,238.10 & 2,209,735.60 & 3,516,238.10 \\\\\n",
      "100 & 19,072,611.60 & 3,908,781.20 & 4,108,285.60 & 3,908,781.20 & 4,108,285.60 \\\\\n",
      "1000 & 100,382,294.10 & 7,212,520.10 & 8,156,086.20 & 7,212,520.10 & 8,156,086.20 \\\\\n",
      "\\bottomrule\n",
      "\\end{tabular}\n",
      "\n"
     ]
    }
   ],
   "source": [
    "# latex table\n",
    "print(result_table.to_latex(index=False,float_format=\"{:,.2f}\".format,))"
   ]
  },
  {
   "cell_type": "code",
   "execution_count": 53,
   "id": "9008d313",
   "metadata": {},
   "outputs": [],
   "source": [
    "name = \"ranked-variablek-mean-nodes\"\n",
    "filename = '/Users/asugomez/Desktop/Magister/Tesis/tesisQdags/imagenes/'+name\n",
    "csv_filename = filename + \".csv\"\n",
    "png_filename = filename + \".png\""
   ]
  },
  {
   "cell_type": "code",
   "execution_count": 54,
   "id": "f35784e2",
   "metadata": {},
   "outputs": [],
   "source": [
    "#result_table.to_csv(csv_filename, index=False)"
   ]
  },
  {
   "cell_type": "code",
   "execution_count": 55,
   "id": "2d7805ac",
   "metadata": {},
   "outputs": [],
   "source": [
    "#save_dataframe_as_png(result_table, png_filename)"
   ]
  },
  {
   "cell_type": "code",
   "execution_count": 56,
   "id": "217fc370",
   "metadata": {},
   "outputs": [],
   "source": [
    "res_rlb =result_table['G. Louds Back']/result_table['Original'] * 100\n",
    "res_rlo=result_table['G. Louds Opt']/result_table['Original'] * 100\n",
    "res_rdb=result_table['G. Dfuds Back']/result_table['Original'] * 100\n",
    "res_rdo=result_table['G. Dfuds Opt']/result_table['Original'] * 100"
   ]
  },
  {
   "cell_type": "code",
   "execution_count": 57,
   "id": "d550463b",
   "metadata": {
    "scrolled": true
   },
   "outputs": [
    {
     "data": {
      "text/html": [
       "<div>\n",
       "<style scoped>\n",
       "    .dataframe tbody tr th:only-of-type {\n",
       "        vertical-align: middle;\n",
       "    }\n",
       "\n",
       "    .dataframe tbody tr th {\n",
       "        vertical-align: top;\n",
       "    }\n",
       "\n",
       "    .dataframe thead th {\n",
       "        text-align: right;\n",
       "    }\n",
       "</style>\n",
       "<table border=\"1\" class=\"dataframe\">\n",
       "  <thead>\n",
       "    <tr style=\"text-align: right;\">\n",
       "      <th></th>\n",
       "      <th>k</th>\n",
       "      <th>G. Louds Back</th>\n",
       "      <th>G. Louds Opt</th>\n",
       "      <th>G. Dfuds Back</th>\n",
       "      <th>G. Dfuds Opt</th>\n",
       "    </tr>\n",
       "  </thead>\n",
       "  <tbody>\n",
       "    <tr>\n",
       "      <th>0</th>\n",
       "      <td>1</td>\n",
       "      <td>3.942583</td>\n",
       "      <td>26.300564</td>\n",
       "      <td>3.942583</td>\n",
       "      <td>26.300564</td>\n",
       "    </tr>\n",
       "    <tr>\n",
       "      <th>1</th>\n",
       "      <td>10</td>\n",
       "      <td>22.706334</td>\n",
       "      <td>36.131415</td>\n",
       "      <td>22.706334</td>\n",
       "      <td>36.131415</td>\n",
       "    </tr>\n",
       "    <tr>\n",
       "      <th>2</th>\n",
       "      <td>100</td>\n",
       "      <td>20.494211</td>\n",
       "      <td>21.540236</td>\n",
       "      <td>20.494211</td>\n",
       "      <td>21.540236</td>\n",
       "    </tr>\n",
       "    <tr>\n",
       "      <th>3</th>\n",
       "      <td>1000</td>\n",
       "      <td>7.185052</td>\n",
       "      <td>8.125025</td>\n",
       "      <td>7.185052</td>\n",
       "      <td>8.125025</td>\n",
       "    </tr>\n",
       "  </tbody>\n",
       "</table>\n",
       "</div>"
      ],
      "text/plain": [
       "      k  G. Louds Back  G. Louds Opt  G. Dfuds Back  G. Dfuds Opt\n",
       "0     1       3.942583     26.300564       3.942583     26.300564\n",
       "1    10      22.706334     36.131415      22.706334     36.131415\n",
       "2   100      20.494211     21.540236      20.494211     21.540236\n",
       "3  1000       7.185052      8.125025       7.185052      8.125025"
      ]
     },
     "execution_count": 57,
     "metadata": {},
     "output_type": "execute_result"
    }
   ],
   "source": [
    "res_percentaje = pd.DataFrame({\n",
    "        \"k\": k_values,\n",
    "        \"G. Louds Back\": res_rlb,\n",
    "        \"G. Louds Opt\": res_rlo,\n",
    "        \"G. Dfuds Back\": res_rdb,\n",
    "        \"G. Dfuds Opt\": res_rdo\n",
    "    })\n",
    "\n",
    "res_percentaje"
   ]
  },
  {
   "cell_type": "code",
   "execution_count": 58,
   "id": "6d69fffa",
   "metadata": {},
   "outputs": [
    {
     "name": "stdout",
     "output_type": "stream",
     "text": [
      "\\begin{tabular}{rrrrr}\n",
      "\\toprule\n",
      "k & G. Louds Back & G. Louds Opt & G. Dfuds Back & G. Dfuds Opt \\\\\n",
      "\\midrule\n",
      "1 & 3.94 & 26.30 & 3.94 & 26.30 \\\\\n",
      "10 & 22.71 & 36.13 & 22.71 & 36.13 \\\\\n",
      "100 & 20.49 & 21.54 & 20.49 & 21.54 \\\\\n",
      "1000 & 7.19 & 8.13 & 7.19 & 8.13 \\\\\n",
      "\\bottomrule\n",
      "\\end{tabular}\n",
      "\n"
     ]
    }
   ],
   "source": [
    "# latex table\n",
    "print(res_percentaje.to_latex(index=False,float_format=\"{:,.2f}\".format,))"
   ]
  }
 ],
 "metadata": {
  "kernelspec": {
   "display_name": "Python 3 (ipykernel)",
   "language": "python",
   "name": "python3"
  },
  "language_info": {
   "codemirror_mode": {
    "name": "ipython",
    "version": 3
   },
   "file_extension": ".py",
   "mimetype": "text/x-python",
   "name": "python",
   "nbconvert_exporter": "python",
   "pygments_lexer": "ipython3",
   "version": "3.13.2"
  }
 },
 "nbformat": 4,
 "nbformat_minor": 5
}
