{
 "cells": [
  {
   "cell_type": "code",
   "execution_count": 1,
   "id": "3c4d5ca3",
   "metadata": {},
   "outputs": [],
   "source": [
    "# Script to graph the number of TIME for ranked enumeration\n",
    "## first scenario"
   ]
  },
  {
   "cell_type": "code",
   "execution_count": 2,
   "id": "ff496ae6",
   "metadata": {},
   "outputs": [],
   "source": [
    "import pandas as pd\n",
    "import matplotlib.pyplot as plt\n",
    "import matplotlib.gridspec as gridspec\n",
    "import numpy as np\n",
    "import seaborn as sns\n",
    "import os"
   ]
  },
  {
   "cell_type": "code",
   "execution_count": 56,
   "id": "37fb3cfe",
   "metadata": {},
   "outputs": [],
   "source": [
    "alg_label = [\"R. LOUDS Backtrack.\", \n",
    "             \"R. LOUDS Op. Order\",\n",
    "             \"R. DFUDS Backtrack.\", \n",
    "             \"R. DFUDS Op. Order\"]"
   ]
  },
  {
   "cell_type": "code",
   "execution_count": 67,
   "id": "6dd1d9b0",
   "metadata": {},
   "outputs": [],
   "source": [
    "# List of query patterns\n",
    "patterns = [\"j3\",\"j4\",\"p2\",\"p3\",\"p4\",\"s3\",\"t2\",\"t3\",\"t4\",\"ti2\",\"ti3\"]\n",
    "# Initialize an empty NumPy array\n",
    "number_res = np.array([])"
   ]
  },
  {
   "cell_type": "code",
   "execution_count": 68,
   "id": "4a138afd",
   "metadata": {},
   "outputs": [],
   "source": [
    "for pattern in patterns:\n",
    "    number_results_file = np.loadtxt(f'../../query1000results/original/{pattern}-k1-v1000-number-res.txt')\n",
    "\n",
    "    # Ensure it's an array (in case it loads as a scalar)\n",
    "    number_results_file = np.atleast_1d(number_results_file)\n",
    "\n",
    "    # Concatenate instead of element-wise addition\n",
    "    number_res = np.concatenate((number_res, number_results_file))"
   ]
  },
  {
   "cell_type": "code",
   "execution_count": 69,
   "id": "01f562d8",
   "metadata": {},
   "outputs": [
    {
     "data": {
      "text/plain": [
       "51"
      ]
     },
     "execution_count": 69,
     "metadata": {},
     "output_type": "execute_result"
    }
   ],
   "source": [
    "len(number_res) # eje x"
   ]
  },
  {
   "cell_type": "code",
   "execution_count": 84,
   "id": "5df7af1b",
   "metadata": {
    "scrolled": true
   },
   "outputs": [],
   "source": [
    "# Dictionary to store data\n",
    "data = {}\n",
    "#data[\"original\"] = np.array([])\n",
    "data[\"rankedLoudsBack\"] = np.array([])\n",
    "data[\"rankedLoudsNon\"] = np.array([])\n",
    "data[\"rankedDfudsBack\"] = np.array([])\n",
    "data[\"rankedDfudsNon\"] = np.array([])\n",
    "\n",
    "\n",
    "for type_fun in [0]:#,1]:\n",
    "    for k in [1]: \n",
    "        for i,query in enumerate(patterns): \n",
    "            file = f\"{query}-f{type_fun}-k{k}-v1000-time.txt\"\n",
    "            file_original = f\"{query}-k100000000-v1000-time.txt\"\n",
    "            \n",
    "            original = np.loadtxt(f'../../query1000results/original/{file_original}', dtype=float)\n",
    "\n",
    "            original = np.atleast_1d(original)\n",
    "            \n",
    "            rankedLoudsBack = np.loadtxt(f'../../query1000results/ranked/louds/backtracking/{file}', dtype=float)\n",
    "            rankedLoudsBack = np.atleast_1d(rankedLoudsBack)\n",
    "            rankedLoudsNon = np.loadtxt(f'../../query1000results/ranked/louds/optimalOrder/{file}', dtype=float)\n",
    "            rankedLoudsNon = np.atleast_1d(rankedLoudsNon) \n",
    "            rankedDfudsBack = np.loadtxt(f'../../query1000results/ranked/dfuds/backtracking/{file}', dtype=float)\n",
    "            rankedDfudsBack = np.atleast_1d(rankedDfudsBack) \n",
    "            rankedDfudsNon = np.loadtxt(f'../../query1000results/ranked/dfuds/optimalOrder/{file}', dtype=float)\n",
    "            rankedDfudsNon = np.atleast_1d(rankedDfudsNon) \n",
    "            \n",
    "            #data[\"original\"]=np.concatenate((data[\"original\"], original))\n",
    "            data[\"rankedLoudsBack\"] = np.concatenate((data[\"rankedLoudsBack\"], rankedLoudsBack/original))\n",
    "            data[\"rankedLoudsNon\"] = np.concatenate((data[\"rankedLoudsNon\"], rankedLoudsNon/original))\n",
    "            data[\"rankedDfudsBack\"] = np.concatenate((data[\"rankedDfudsBack\"], rankedDfudsBack/original))\n",
    "            data[\"rankedDfudsNon\"] = np.concatenate((data[\"rankedDfudsNon\"], rankedDfudsNon/original))\n",
    "            \n",
    "        "
   ]
  },
  {
   "cell_type": "code",
   "execution_count": 121,
   "id": "054e4a48",
   "metadata": {},
   "outputs": [
    {
     "data": {
      "text/plain": [
       "51"
      ]
     },
     "execution_count": 121,
     "metadata": {},
     "output_type": "execute_result"
    }
   ],
   "source": [
    "len(data[\"rankedLoudsBack\"])"
   ]
  },
  {
   "cell_type": "code",
   "execution_count": 122,
   "id": "02e4c0a6",
   "metadata": {},
   "outputs": [
    {
     "data": {
      "text/plain": [
       "51"
      ]
     },
     "execution_count": 122,
     "metadata": {},
     "output_type": "execute_result"
    }
   ],
   "source": [
    "len(data[\"rankedLoudsNon\"])"
   ]
  },
  {
   "cell_type": "code",
   "execution_count": 123,
   "id": "358d8d17",
   "metadata": {},
   "outputs": [
    {
     "data": {
      "text/plain": [
       "51"
      ]
     },
     "execution_count": 123,
     "metadata": {},
     "output_type": "execute_result"
    }
   ],
   "source": [
    "len(data[\"rankedDfudsBack\"])"
   ]
  },
  {
   "cell_type": "code",
   "execution_count": 124,
   "id": "233cc9d0",
   "metadata": {},
   "outputs": [
    {
     "data": {
      "text/plain": [
       "51"
      ]
     },
     "execution_count": 124,
     "metadata": {},
     "output_type": "execute_result"
    }
   ],
   "source": [
    "len(data[\"rankedDfudsNon\"])"
   ]
  },
  {
   "cell_type": "code",
   "execution_count": 86,
   "id": "beecca02",
   "metadata": {},
   "outputs": [
    {
     "data": {
      "text/plain": [
       "array([1.73120e+00, 1.84454e+01, 2.60000e-05, 1.60000e-05])"
      ]
     },
     "execution_count": 86,
     "metadata": {},
     "output_type": "execute_result"
    }
   ],
   "source": [
    "original"
   ]
  },
  {
   "cell_type": "code",
   "execution_count": 87,
   "id": "e00c8adc",
   "metadata": {},
   "outputs": [
    {
     "data": {
      "text/plain": [
       "array([5.90965804e+00, 8.11963958e+00, 1.14825000e+06, 1.23586250e+04])"
      ]
     },
     "execution_count": 87,
     "metadata": {},
     "output_type": "execute_result"
    }
   ],
   "source": [
    "rankedLoudsBack / original"
   ]
  },
  {
   "cell_type": "code",
   "execution_count": 88,
   "id": "479265fb",
   "metadata": {},
   "outputs": [],
   "source": [
    "colors = ['dodgerblue', 'darkturquoise', 'mediumspringgreen', 'lime']"
   ]
  },
  {
   "cell_type": "code",
   "execution_count": 126,
   "id": "9f0a8af1",
   "metadata": {},
   "outputs": [
    {
     "data": {
      "image/png": "[encoded data removed]",
      "text/plain": [
       "<Figure size 1440x936 with 1 Axes>"
      ]
     },
     "metadata": {
      "needs_background": "light"
     },
     "output_type": "display_data"
    }
   ],
   "source": [
    "\n",
    "\n",
    "colors = {\n",
    "    #\"original\": 'dodgerblue',\n",
    "    \"rankedLoudsBack\": \"blue\",\n",
    "    \"rankedLoudsNon\": \"red\",\n",
    "    \"rankedDfudsBack\": \"green\",\n",
    "    \"rankedDfudsNon\": \"purple\"\n",
    "}\n",
    "\n",
    "# Create the scatter plot\n",
    "plt.figure(figsize=(20, 13))\n",
    "\n",
    "# Plot each algorithm with its corresponding color\n",
    "for algo, values in data.items():\n",
    "    plt.scatter(number_res, values, label=algo, color=colors[algo], alpha=0.7, s=20)\n",
    "\n",
    "#plt.xlim(800,600000)\n",
    "plt.xlim(800,25000)\n",
    "plt.ylim(0,30)\n",
    "# Labels and title\n",
    "plt.xlabel(\"Number of results\")\n",
    "plt.ylabel(\"Normalized Execution Time\")\n",
    "plt.title(\"Scatter Plot of Execution Time for Different Algorithms\")\n",
    "plt.legend()\n",
    "plt.grid(True)\n",
    "\n",
    "plt.savefig('/Users/asugomez/Documentos/Magister/Tesis/tesisQdags/imagenes/scatter_plot_ranked-time.pdf')\n",
    "\n",
    "# Show the plot\n",
    "plt.show()"
   ]
  },
  {
   "cell_type": "code",
   "execution_count": 58,
   "id": "e64f35d9",
   "metadata": {},
   "outputs": [],
   "source": [
    "## table"
   ]
  }
 ],
 "metadata": {
  "kernelspec": {
   "display_name": "Python 3 (ipykernel)",
   "language": "python",
   "name": "python3"
  },
  "language_info": {
   "codemirror_mode": {
    "name": "ipython",
    "version": 3
   },
   "file_extension": ".py",
   "mimetype": "text/x-python",
   "name": "python",
   "nbconvert_exporter": "python",
   "pygments_lexer": "ipython3",
   "version": "3.9.10"
  }
 },
 "nbformat": 4,
 "nbformat_minor": 5
}
