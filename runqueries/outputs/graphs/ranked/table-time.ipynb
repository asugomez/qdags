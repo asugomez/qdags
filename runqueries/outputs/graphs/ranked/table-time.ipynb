{
 "cells": [
  {
   "cell_type": "code",
   "execution_count": null,
   "id": "f1988ed0",
   "metadata": {},
   "outputs": [],
   "source": [
    "# table to visualize % times in original and ranked enum. algorithms\n"
   ]
  },
  {
   "cell_type": "code",
   "execution_count": 3,
   "id": "eb4e982d",
   "metadata": {},
   "outputs": [],
   "source": [
    "import pandas as pd\n",
    "import matplotlib.pyplot as plt\n",
    "import matplotlib.gridspec as gridspec\n",
    "import numpy as np\n",
    "import seaborn as sns"
   ]
  },
  {
   "cell_type": "code",
   "execution_count": 15,
   "id": "64135c25",
   "metadata": {},
   "outputs": [],
   "source": [
    "alg_label = [\"Original\",\n",
    "             \"R. LOUDS Backtrack.\", \n",
    "             \"R. LOUDS Op. Order\",\n",
    "             \"R. DFUDS Backtrack.\", \n",
    "             \"R. DFUDS Op. Order\"]\n",
    "        \n",
    "queries_label = [\"j3\",\"j4\",\"p2\",\"p3\",\"p4\",\"s1\",\"s2\",\"s3\",\"s4\",\"t2\",\"t3\",\"t4\",\"ti2\",\"ti3\",\"ti4\",\"tr1\",\"tr2\"]\n",
    "\n",
    "queries_title = [\"J3\",\"J4\",\"P2\",\"P3\",\"P4\",\"S1\",\"S2\",\"S3\",\"S4\",\"T2\",\"T3\",\"T4\",\"Ti2\",\"Ti3\",\"Ti4\",\"Tr1\",\"Tr2\"]"
   ]
  },
  {
   "cell_type": "code",
   "execution_count": 17,
   "id": "70f1a7a1",
   "metadata": {},
   "outputs": [
    {
     "data": {
      "text/html": [
       "<div>\n",
       "<style scoped>\n",
       "    .dataframe tbody tr th:only-of-type {\n",
       "        vertical-align: middle;\n",
       "    }\n",
       "\n",
       "    .dataframe tbody tr th {\n",
       "        vertical-align: top;\n",
       "    }\n",
       "\n",
       "    .dataframe thead th {\n",
       "        text-align: right;\n",
       "    }\n",
       "</style>\n",
       "<table border=\"1\" class=\"dataframe\">\n",
       "  <thead>\n",
       "    <tr style=\"text-align: right;\">\n",
       "      <th></th>\n",
       "      <th>k</th>\n",
       "      <th>Original</th>\n",
       "      <th>R. Louds Back</th>\n",
       "      <th>R. Louds Opt</th>\n",
       "      <th>R. Dfuds Back</th>\n",
       "      <th>R. Dfuds Opt</th>\n",
       "    </tr>\n",
       "  </thead>\n",
       "  <tbody>\n",
       "    <tr>\n",
       "      <th>0</th>\n",
       "      <td>1</td>\n",
       "      <td>6.6</td>\n",
       "      <td>104.4</td>\n",
       "      <td>38.5</td>\n",
       "      <td>92.7</td>\n",
       "      <td>36.2</td>\n",
       "    </tr>\n",
       "    <tr>\n",
       "      <th>1</th>\n",
       "      <td>10</td>\n",
       "      <td>7.1</td>\n",
       "      <td>114.7</td>\n",
       "      <td>45.2</td>\n",
       "      <td>102.6</td>\n",
       "      <td>42.7</td>\n",
       "    </tr>\n",
       "    <tr>\n",
       "      <th>2</th>\n",
       "      <td>100</td>\n",
       "      <td>12.1</td>\n",
       "      <td>123.6</td>\n",
       "      <td>52.7</td>\n",
       "      <td>111.3</td>\n",
       "      <td>50.2</td>\n",
       "    </tr>\n",
       "    <tr>\n",
       "      <th>3</th>\n",
       "      <td>1000</td>\n",
       "      <td>62.1</td>\n",
       "      <td>177.2</td>\n",
       "      <td>103.9</td>\n",
       "      <td>164.5</td>\n",
       "      <td>101.5</td>\n",
       "    </tr>\n",
       "  </tbody>\n",
       "</table>\n",
       "</div>"
      ],
      "text/plain": [
       "      k  Original  R. Louds Back  R. Louds Opt  R. Dfuds Back  R. Dfuds Opt\n",
       "0     1       6.6          104.4          38.5           92.7          36.2\n",
       "1    10       7.1          114.7          45.2          102.6          42.7\n",
       "2   100      12.1          123.6          52.7          111.3          50.2\n",
       "3  1000      62.1          177.2         103.9          164.5         101.5"
      ]
     },
     "execution_count": 17,
     "metadata": {},
     "output_type": "execute_result"
    }
   ],
   "source": [
    "for i,type_fun in enumerate([0]):#,1]):\n",
    "    file = f\"results-f{type_fun}-time.csv\"\n",
    "    #print(file)\n",
    "    \n",
    "    k_values = [1, 10, 100, 1000]\n",
    "\n",
    "    original = pd.read_csv(f'../../original/results-time-ranked.csv',delimiter=';')\n",
    "    meanOriginal = original.mean(axis=1)\n",
    "\n",
    "    \n",
    "    rankedLoudsBack = pd.read_csv(f'../../ranked/louds/backtracking/{file}', delimiter=';')\n",
    "    rankedLoudsBack = rankedLoudsBack.loc[:, (rankedLoudsBack != 0).any(axis=0)]\n",
    "    meanRankedLoudsBack = rankedLoudsBack.mean(axis=1)\n",
    "    \n",
    "    rankedLoudsNon = pd.read_csv(f'../../ranked/louds/optimalOrder/{file}', delimiter=';')\n",
    "    rankedLoudsNon = rankedLoudsNon.loc[:, (rankedLoudsNon != 0).any(axis=0)]\n",
    "    meanRankedLoudsNon = rankedLoudsNon.mean(axis=1)\n",
    "    \n",
    "    rankedDfudsBack = pd.read_csv(f'../../ranked/dfuds/backtracking/{file}', delimiter=';')\n",
    "    rankedDfudsBack = rankedDfudsBack.loc[:, (rankedDfudsBack != 0).any(axis=0)]\n",
    "    meanRankedDfudsBack = rankedDfudsBack.mean(axis=1)\n",
    "    \n",
    "    rankedDfudsNon = pd.read_csv(f'../../ranked/dfuds/optimalOrder/{file}', delimiter=';')\n",
    "    rankedDfudsNon = rankedDfudsNon.loc[:, (rankedDfudsNon != 0).any(axis=0)]\n",
    "    meanRankedDfudsNon = rankedDfudsNon.mean(axis=1)\n",
    "    \n",
    "    # Combine into a DataFrame\n",
    "    result_table = pd.DataFrame({\n",
    "        \"k\": k_values,\n",
    "        \"Original\": meanOriginal,\n",
    "        \"R. Louds Back\": meanRankedLoudsBack,\n",
    "        \"R. Louds Opt\": meanRankedLoudsNon,\n",
    "        \"R. Dfuds Back\": meanRankedDfudsBack,\n",
    "        \"R. Dfuds Opt\": meanRankedDfudsNon\n",
    "    })\n",
    "    \n",
    "    #result_table.set_index(\"k\")\n",
    "    result_table\n",
    "    \n",
    "\n",
    "result_table.iloc[:, 1:] = result_table.iloc[:, 1:].applymap(lambda x: round(x, 1))\n",
    "result_table['k'] = result_table['k'].astype(int)\n",
    "result_table\n",
    "#result_table.style.set_caption(\"ras\")\n",
    "#result_table.style.background_gradient(axis=None, vmin=1, vmax=5, cmap=\"YlGnBu\")\n",
    "\n",
    "\n",
    "        "
   ]
  },
  {
   "cell_type": "code",
   "execution_count": 18,
   "id": "b0e75b87",
   "metadata": {},
   "outputs": [
    {
     "name": "stdout",
     "output_type": "stream",
     "text": [
      "\\begin{tabular}{rrrrrr}\n",
      "\\toprule\n",
      "   k &  Original &  R. Louds Back &  R. Louds Opt &  R. Dfuds Back &  R. Dfuds Opt \\\\\n",
      "\\midrule\n",
      "   1 &      6.60 &         104.40 &         38.50 &          92.70 &         36.20 \\\\\n",
      "  10 &      7.10 &         114.70 &         45.20 &         102.60 &         42.70 \\\\\n",
      " 100 &     12.10 &         123.60 &         52.70 &         111.30 &         50.20 \\\\\n",
      "1000 &     62.10 &         177.20 &        103.90 &         164.50 &        101.50 \\\\\n",
      "\\bottomrule\n",
      "\\end{tabular}\n",
      "\n"
     ]
    },
    {
     "name": "stderr",
     "output_type": "stream",
     "text": [
      "/var/folders/qg/ggml06zs7tz58wmpl0g0hjhw0000gn/T/ipykernel_7697/1306690107.py:2: FutureWarning: In future versions `DataFrame.to_latex` is expected to utilise the base implementation of `Styler.to_latex` for formatting and rendering. The arguments signature may therefore change. It is recommended instead to use `DataFrame.style.to_latex` which also contains additional functionality.\n",
      "  print(result_table.to_latex(index=False,float_format=\"{:,.2f}\".format,))\n"
     ]
    }
   ],
   "source": [
    "# latex table\n",
    "print(result_table.to_latex(index=False,float_format=\"{:,.2f}\".format,))"
   ]
  },
  {
   "cell_type": "code",
   "execution_count": 19,
   "id": "f43537eb",
   "metadata": {},
   "outputs": [],
   "source": [
    "res_rlb =result_table['R. Louds Back']/result_table['Original'] * 100\n",
    "res_rlo=result_table['R. Louds Opt']/result_table['Original'] * 100\n",
    "res_rdb=result_table['R. Dfuds Back']/result_table['Original'] * 100\n",
    "res_rdo=result_table['R. Dfuds Opt']/result_table['Original'] * 100"
   ]
  },
  {
   "cell_type": "code",
   "execution_count": 20,
   "id": "82c7ef17",
   "metadata": {},
   "outputs": [
    {
     "data": {
      "text/html": [
       "<div>\n",
       "<style scoped>\n",
       "    .dataframe tbody tr th:only-of-type {\n",
       "        vertical-align: middle;\n",
       "    }\n",
       "\n",
       "    .dataframe tbody tr th {\n",
       "        vertical-align: top;\n",
       "    }\n",
       "\n",
       "    .dataframe thead th {\n",
       "        text-align: right;\n",
       "    }\n",
       "</style>\n",
       "<table border=\"1\" class=\"dataframe\">\n",
       "  <thead>\n",
       "    <tr style=\"text-align: right;\">\n",
       "      <th></th>\n",
       "      <th>R. Louds Back</th>\n",
       "      <th>R. Louds Opt</th>\n",
       "      <th>R. Dfuds Back</th>\n",
       "      <th>R. Dfuds Opt</th>\n",
       "    </tr>\n",
       "  </thead>\n",
       "  <tbody>\n",
       "    <tr>\n",
       "      <th>0</th>\n",
       "      <td>1581.818182</td>\n",
       "      <td>583.333333</td>\n",
       "      <td>1404.545455</td>\n",
       "      <td>548.484848</td>\n",
       "    </tr>\n",
       "    <tr>\n",
       "      <th>1</th>\n",
       "      <td>1615.492958</td>\n",
       "      <td>636.619718</td>\n",
       "      <td>1445.070423</td>\n",
       "      <td>601.408451</td>\n",
       "    </tr>\n",
       "    <tr>\n",
       "      <th>2</th>\n",
       "      <td>1021.487603</td>\n",
       "      <td>435.537190</td>\n",
       "      <td>919.834711</td>\n",
       "      <td>414.876033</td>\n",
       "    </tr>\n",
       "    <tr>\n",
       "      <th>3</th>\n",
       "      <td>285.346216</td>\n",
       "      <td>167.310789</td>\n",
       "      <td>264.895330</td>\n",
       "      <td>163.446055</td>\n",
       "    </tr>\n",
       "  </tbody>\n",
       "</table>\n",
       "</div>"
      ],
      "text/plain": [
       "   R. Louds Back  R. Louds Opt  R. Dfuds Back  R. Dfuds Opt\n",
       "0    1581.818182    583.333333    1404.545455    548.484848\n",
       "1    1615.492958    636.619718    1445.070423    601.408451\n",
       "2    1021.487603    435.537190     919.834711    414.876033\n",
       "3     285.346216    167.310789     264.895330    163.446055"
      ]
     },
     "execution_count": 20,
     "metadata": {},
     "output_type": "execute_result"
    }
   ],
   "source": [
    "res_percentaje = pd.DataFrame({\n",
    "        \"R. Louds Back\": res_rlb,\n",
    "        \"R. Louds Opt\": res_rlo,\n",
    "        \"R. Dfuds Back\": res_rdb,\n",
    "        \"R. Dfuds Opt\": res_rdo\n",
    "    })\n",
    "\n",
    "res_percentaje"
   ]
  },
  {
   "cell_type": "code",
   "execution_count": 21,
   "id": "fdecca1a",
   "metadata": {},
   "outputs": [
    {
     "name": "stdout",
     "output_type": "stream",
     "text": [
      "\\begin{tabular}{rrrr}\n",
      "\\toprule\n",
      " R. Louds Back &  R. Louds Opt &  R. Dfuds Back &  R. Dfuds Opt \\\\\n",
      "\\midrule\n",
      "      1,581.82 &        583.33 &       1,404.55 &        548.48 \\\\\n",
      "      1,615.49 &        636.62 &       1,445.07 &        601.41 \\\\\n",
      "      1,021.49 &        435.54 &         919.83 &        414.88 \\\\\n",
      "        285.35 &        167.31 &         264.90 &        163.45 \\\\\n",
      "\\bottomrule\n",
      "\\end{tabular}\n",
      "\n"
     ]
    },
    {
     "name": "stderr",
     "output_type": "stream",
     "text": [
      "/var/folders/qg/ggml06zs7tz58wmpl0g0hjhw0000gn/T/ipykernel_7697/1889796537.py:2: FutureWarning: In future versions `DataFrame.to_latex` is expected to utilise the base implementation of `Styler.to_latex` for formatting and rendering. The arguments signature may therefore change. It is recommended instead to use `DataFrame.style.to_latex` which also contains additional functionality.\n",
      "  print(res_percentaje.to_latex(index=False,float_format=\"{:,.2f}\".format,))\n"
     ]
    }
   ],
   "source": [
    "# latex table\n",
    "print(res_percentaje.to_latex(index=False,float_format=\"{:,.2f}\".format,))"
   ]
  },
  {
   "cell_type": "code",
   "execution_count": 9,
   "id": "9cb940b7",
   "metadata": {},
   "outputs": [],
   "source": [
    "\n",
    "alg_label = [\"Original\",\n",
    "             \"R. LOUDS Backtrack.\", \n",
    "             \"R. LOUDS Op. Order\",\n",
    "             \"R. DFUDS Backtrack.\", \n",
    "             \"R. DFUDS Op. Order\"]\n",
    "queries_title_v1000 = [\"J3\",\"J4\",\"P2\",\"P3\",\"P4\",\"S3\",\"T2\",\"T3\",\"T4\",\"Ti2\",\"Ti3\"] #\"S3\",\"T3\",\"Ti4 (log scale)\"\n",
    "queries_label_v1000=[\"j3\",\"j4\",\"p2\",\"p3\",\"p4\",\"s3\",\"t2\",\"t3\",\"t4\",\"ti2\",\"ti3\"] # \"s3\", \"t3\",\"ti4\""
   ]
  },
  {
   "cell_type": "code",
   "execution_count": 10,
   "id": "758dc6b0",
   "metadata": {},
   "outputs": [
    {
     "data": {
      "text/html": [
       "<div>\n",
       "<style scoped>\n",
       "    .dataframe tbody tr th:only-of-type {\n",
       "        vertical-align: middle;\n",
       "    }\n",
       "\n",
       "    .dataframe tbody tr th {\n",
       "        vertical-align: top;\n",
       "    }\n",
       "\n",
       "    .dataframe thead th {\n",
       "        text-align: right;\n",
       "    }\n",
       "</style>\n",
       "<table border=\"1\" class=\"dataframe\">\n",
       "  <thead>\n",
       "    <tr style=\"text-align: right;\">\n",
       "      <th></th>\n",
       "      <th>k</th>\n",
       "      <th>Original</th>\n",
       "      <th>R. Louds Back</th>\n",
       "      <th>R. Louds Opt</th>\n",
       "      <th>R. Dfuds Back</th>\n",
       "      <th>R. Dfuds Opt</th>\n",
       "    </tr>\n",
       "  </thead>\n",
       "  <tbody>\n",
       "    <tr>\n",
       "      <th>0</th>\n",
       "      <td>1</td>\n",
       "      <td>26.3</td>\n",
       "      <td>12.4</td>\n",
       "      <td>20.1</td>\n",
       "      <td>13.6</td>\n",
       "      <td>21.3</td>\n",
       "    </tr>\n",
       "    <tr>\n",
       "      <th>1</th>\n",
       "      <td>10</td>\n",
       "      <td>27.0</td>\n",
       "      <td>18.6</td>\n",
       "      <td>24.6</td>\n",
       "      <td>21.2</td>\n",
       "      <td>26.6</td>\n",
       "    </tr>\n",
       "    <tr>\n",
       "      <th>2</th>\n",
       "      <td>100</td>\n",
       "      <td>33.9</td>\n",
       "      <td>32.0</td>\n",
       "      <td>35.4</td>\n",
       "      <td>35.3</td>\n",
       "      <td>37.6</td>\n",
       "    </tr>\n",
       "    <tr>\n",
       "      <th>3</th>\n",
       "      <td>1000</td>\n",
       "      <td>103.1</td>\n",
       "      <td>110.8</td>\n",
       "      <td>116.7</td>\n",
       "      <td>114.4</td>\n",
       "      <td>119.2</td>\n",
       "    </tr>\n",
       "  </tbody>\n",
       "</table>\n",
       "</div>"
      ],
      "text/plain": [
       "      k  Original  R. Louds Back  R. Louds Opt  R. Dfuds Back  R. Dfuds Opt\n",
       "0     1      26.3           12.4          20.1           13.6          21.3\n",
       "1    10      27.0           18.6          24.6           21.2          26.6\n",
       "2   100      33.9           32.0          35.4           35.3          37.6\n",
       "3  1000     103.1          110.8         116.7          114.4         119.2"
      ]
     },
     "execution_count": 10,
     "metadata": {},
     "output_type": "execute_result"
    }
   ],
   "source": [
    "# FOR V1000\n",
    "for i,type_fun in enumerate([0]):#,1]):\n",
    "    file = f\"results-f{type_fun}-v1000-time.csv\"\n",
    "    #print(file)\n",
    "    \n",
    "    k_values = [1, 10, 100, 1000]\n",
    "    \n",
    "    original = pd.read_csv(f'../../query1000results/original/results-v1000-time-ranked.csv',delimiter=';')\n",
    "    meanOriginal = original.mean(axis=1)\n",
    "\n",
    "    \n",
    "    rankedLoudsBack = pd.read_csv(f'../../query1000results/ranked/louds/backtracking/{file}', delimiter=';')\n",
    "    rankedLoudsBack = rankedLoudsBack.loc[:, (rankedLoudsBack != 0).any(axis=0)]\n",
    "    meanRankedLoudsBack = rankedLoudsBack.mean(axis=1)\n",
    "    \n",
    "    rankedLoudsNon = pd.read_csv(f'../../query1000results/ranked/louds/optimalOrder/{file}', delimiter=';')\n",
    "    rankedLoudsNon = rankedLoudsNon.loc[:, (rankedLoudsNon != 0).any(axis=0)]\n",
    "    meanRankedLoudsNon = rankedLoudsNon.mean(axis=1)\n",
    "    \n",
    "    rankedDfudsBack = pd.read_csv(f'../../query1000results/ranked/dfuds/backtracking/{file}', delimiter=';')\n",
    "    rankedDfudsBack = rankedDfudsBack.loc[:, (rankedDfudsBack != 0).any(axis=0)]\n",
    "    meanRankedDfudsBack = rankedDfudsBack.mean(axis=1)\n",
    "    \n",
    "    rankedDfudsNon = pd.read_csv(f'../../query1000results/ranked/dfuds/optimalOrder/{file}', delimiter=';')\n",
    "    rankedDfudsNon = rankedDfudsNon.loc[:, (rankedDfudsNon != 0).any(axis=0)]\n",
    "    meanRankedDfudsNon = rankedDfudsNon.mean(axis=1)\n",
    "    \n",
    "    # Combine into a DataFrame\n",
    "    result_table = pd.DataFrame({\n",
    "        \"k\": k_values,\n",
    "        \"Original\": meanOriginal,\n",
    "        \"R. Louds Back\": meanRankedLoudsBack,\n",
    "        \"R. Louds Opt\": meanRankedLoudsNon,\n",
    "        \"R. Dfuds Back\": meanRankedDfudsBack,\n",
    "        \"R. Dfuds Opt\": meanRankedDfudsNon\n",
    "    })\n",
    "    \n",
    "    #result_table.set_index(\"k\")\n",
    "    result_table\n",
    "    \n",
    "\n",
    "result_table.iloc[:, 1:] = result_table.iloc[:, 1:].applymap(lambda x: round(x, 1))\n",
    "result_table['k'] = result_table['k'].astype(int)\n",
    "result_table\n",
    "#result_table.style.set_caption(\"ras\")\n",
    "#result_table.style.background_gradient(axis=None, vmin=1, vmax=5, cmap=\"YlGnBu\")\n",
    "\n",
    "\n",
    "        "
   ]
  },
  {
   "cell_type": "code",
   "execution_count": 11,
   "id": "4cb6a3f8",
   "metadata": {},
   "outputs": [
    {
     "name": "stdout",
     "output_type": "stream",
     "text": [
      "\\begin{tabular}{rrrrrr}\n",
      "\\toprule\n",
      "   k &  Original &  R. Louds Back &  R. Louds Opt &  R. Dfuds Back &  R. Dfuds Opt \\\\\n",
      "\\midrule\n",
      "   1 &     26.30 &          12.40 &         20.10 &          13.60 &         21.30 \\\\\n",
      "  10 &     27.00 &          18.60 &         24.60 &          21.20 &         26.60 \\\\\n",
      " 100 &     33.90 &          32.00 &         35.40 &          35.30 &         37.60 \\\\\n",
      "1000 &    103.10 &         110.80 &        116.70 &         114.40 &        119.20 \\\\\n",
      "\\bottomrule\n",
      "\\end{tabular}\n",
      "\n"
     ]
    },
    {
     "name": "stderr",
     "output_type": "stream",
     "text": [
      "/var/folders/qg/ggml06zs7tz58wmpl0g0hjhw0000gn/T/ipykernel_7697/1306690107.py:2: FutureWarning: In future versions `DataFrame.to_latex` is expected to utilise the base implementation of `Styler.to_latex` for formatting and rendering. The arguments signature may therefore change. It is recommended instead to use `DataFrame.style.to_latex` which also contains additional functionality.\n",
      "  print(result_table.to_latex(index=False,float_format=\"{:,.2f}\".format,))\n"
     ]
    }
   ],
   "source": [
    "# latex table\n",
    "print(result_table.to_latex(index=False,float_format=\"{:,.2f}\".format,))"
   ]
  },
  {
   "cell_type": "code",
   "execution_count": 12,
   "id": "109a82ba",
   "metadata": {},
   "outputs": [],
   "source": [
    "res_rlb =result_table['R. Louds Back']/result_table['Original'] * 100\n",
    "res_rlo=result_table['R. Louds Opt']/result_table['Original'] * 100\n",
    "res_rdb=result_table['R. Dfuds Back']/result_table['Original'] * 100\n",
    "res_rdo=result_table['R. Dfuds Opt']/result_table['Original'] * 100"
   ]
  },
  {
   "cell_type": "code",
   "execution_count": 13,
   "id": "2bbe6f05",
   "metadata": {},
   "outputs": [
    {
     "data": {
      "text/html": [
       "<div>\n",
       "<style scoped>\n",
       "    .dataframe tbody tr th:only-of-type {\n",
       "        vertical-align: middle;\n",
       "    }\n",
       "\n",
       "    .dataframe tbody tr th {\n",
       "        vertical-align: top;\n",
       "    }\n",
       "\n",
       "    .dataframe thead th {\n",
       "        text-align: right;\n",
       "    }\n",
       "</style>\n",
       "<table border=\"1\" class=\"dataframe\">\n",
       "  <thead>\n",
       "    <tr style=\"text-align: right;\">\n",
       "      <th></th>\n",
       "      <th>R. Louds Back</th>\n",
       "      <th>R. Louds Opt</th>\n",
       "      <th>R. Dfuds Back</th>\n",
       "      <th>R. Dfuds Opt</th>\n",
       "    </tr>\n",
       "  </thead>\n",
       "  <tbody>\n",
       "    <tr>\n",
       "      <th>0</th>\n",
       "      <td>47.148289</td>\n",
       "      <td>76.425856</td>\n",
       "      <td>51.711027</td>\n",
       "      <td>80.988593</td>\n",
       "    </tr>\n",
       "    <tr>\n",
       "      <th>1</th>\n",
       "      <td>68.888889</td>\n",
       "      <td>91.111111</td>\n",
       "      <td>78.518519</td>\n",
       "      <td>98.518519</td>\n",
       "    </tr>\n",
       "    <tr>\n",
       "      <th>2</th>\n",
       "      <td>94.395280</td>\n",
       "      <td>104.424779</td>\n",
       "      <td>104.129794</td>\n",
       "      <td>110.914454</td>\n",
       "    </tr>\n",
       "    <tr>\n",
       "      <th>3</th>\n",
       "      <td>107.468477</td>\n",
       "      <td>113.191077</td>\n",
       "      <td>110.960233</td>\n",
       "      <td>115.615907</td>\n",
       "    </tr>\n",
       "  </tbody>\n",
       "</table>\n",
       "</div>"
      ],
      "text/plain": [
       "   R. Louds Back  R. Louds Opt  R. Dfuds Back  R. Dfuds Opt\n",
       "0      47.148289     76.425856      51.711027     80.988593\n",
       "1      68.888889     91.111111      78.518519     98.518519\n",
       "2      94.395280    104.424779     104.129794    110.914454\n",
       "3     107.468477    113.191077     110.960233    115.615907"
      ]
     },
     "execution_count": 13,
     "metadata": {},
     "output_type": "execute_result"
    }
   ],
   "source": [
    "res_percentaje = pd.DataFrame({\n",
    "        \"R. Louds Back\": res_rlb,\n",
    "        \"R. Louds Opt\": res_rlo,\n",
    "        \"R. Dfuds Back\": res_rdb,\n",
    "        \"R. Dfuds Opt\": res_rdo\n",
    "    })\n",
    "\n",
    "res_percentaje"
   ]
  },
  {
   "cell_type": "code",
   "execution_count": 14,
   "id": "fdd3b848",
   "metadata": {},
   "outputs": [
    {
     "name": "stdout",
     "output_type": "stream",
     "text": [
      "\\begin{tabular}{rrrr}\n",
      "\\toprule\n",
      " R. Louds Back &  R. Louds Opt &  R. Dfuds Back &  R. Dfuds Opt \\\\\n",
      "\\midrule\n",
      "         47.15 &         76.43 &          51.71 &         80.99 \\\\\n",
      "         68.89 &         91.11 &          78.52 &         98.52 \\\\\n",
      "         94.40 &        104.42 &         104.13 &        110.91 \\\\\n",
      "        107.47 &        113.19 &         110.96 &        115.62 \\\\\n",
      "\\bottomrule\n",
      "\\end{tabular}\n",
      "\n"
     ]
    },
    {
     "name": "stderr",
     "output_type": "stream",
     "text": [
      "/var/folders/qg/ggml06zs7tz58wmpl0g0hjhw0000gn/T/ipykernel_7697/1889796537.py:2: FutureWarning: In future versions `DataFrame.to_latex` is expected to utilise the base implementation of `Styler.to_latex` for formatting and rendering. The arguments signature may therefore change. It is recommended instead to use `DataFrame.style.to_latex` which also contains additional functionality.\n",
      "  print(res_percentaje.to_latex(index=False,float_format=\"{:,.2f}\".format,))\n"
     ]
    }
   ],
   "source": [
    "# latex table\n",
    "print(res_percentaje.to_latex(index=False,float_format=\"{:,.2f}\".format,))"
   ]
  }
 ],
 "metadata": {
  "kernelspec": {
   "display_name": "Python 3 (ipykernel)",
   "language": "python",
   "name": "python3"
  },
  "language_info": {
   "codemirror_mode": {
    "name": "ipython",
    "version": 3
   },
   "file_extension": ".py",
   "mimetype": "text/x-python",
   "name": "python",
   "nbconvert_exporter": "python",
   "pygments_lexer": "ipython3",
   "version": "3.9.10"
  }
 },
 "nbformat": 4,
 "nbformat_minor": 5
}
