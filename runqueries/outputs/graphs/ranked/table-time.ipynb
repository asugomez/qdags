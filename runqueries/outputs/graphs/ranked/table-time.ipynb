{
 "cells": [
  {
   "cell_type": "code",
   "execution_count": null,
   "id": "f1988ed0",
   "metadata": {},
   "outputs": [],
   "source": [
    "# table to visualize % times in original and ranked enum. algorithms\n"
   ]
  },
  {
   "cell_type": "code",
   "execution_count": 18,
   "id": "eb4e982d",
   "metadata": {},
   "outputs": [],
   "source": [
    "import pandas as pd\n",
    "import matplotlib.pyplot as plt\n",
    "import matplotlib.gridspec as gridspec\n",
    "import numpy as np\n",
    "import seaborn as sns"
   ]
  },
  {
   "cell_type": "code",
   "execution_count": 19,
   "id": "64135c25",
   "metadata": {},
   "outputs": [],
   "source": [
    "alg_label = [\"Original\",\n",
    "             \"R. LOUDS Backtrack.\", \n",
    "             \"R. LOUDS Op. Order\",\n",
    "             \"R. DFUDS Backtrack.\", \n",
    "             \"R. DFUDS Op. Order\"]\n",
    "        \n",
    "queries_label = [\"j3\",\"j4\",\"p2\",\"p3\",\"p4\",\"s1\",\"s2\",\"s3\",\"s4\",\"t2\",\"t3\",\"t4\",\"ti2\",\"ti3\",\"ti4\",\"tr1\",\"tr2\"]\n",
    "\n",
    "queries_title = [\"J3\",\"J4\",\"P2\",\"P3\",\"P4\",\"S1\",\"S2\",\"S3\",\"S4\",\"T2\",\"T3\",\"T4\",\"Ti2\",\"Ti3\",\"Ti4\",\"Tr1\",\"Tr2\"]"
   ]
  },
  {
   "cell_type": "code",
   "execution_count": 20,
   "id": "70f1a7a1",
   "metadata": {},
   "outputs": [
    {
     "name": "stderr",
     "output_type": "stream",
     "text": [
      "/var/folders/qg/ggml06zs7tz58wmpl0g0hjhw0000gn/T/ipykernel_8495/3701404362.py:41: FutureWarning: DataFrame.applymap has been deprecated. Use DataFrame.map instead.\n",
      "  result_table.iloc[:, 1:] = result_table.iloc[:, 1:].applymap(lambda x: round(x, 1))\n"
     ]
    },
    {
     "data": {
      "text/html": [
       "<div>\n",
       "<style scoped>\n",
       "    .dataframe tbody tr th:only-of-type {\n",
       "        vertical-align: middle;\n",
       "    }\n",
       "\n",
       "    .dataframe tbody tr th {\n",
       "        vertical-align: top;\n",
       "    }\n",
       "\n",
       "    .dataframe thead th {\n",
       "        text-align: right;\n",
       "    }\n",
       "</style>\n",
       "<table border=\"1\" class=\"dataframe\">\n",
       "  <thead>\n",
       "    <tr style=\"text-align: right;\">\n",
       "      <th></th>\n",
       "      <th>k</th>\n",
       "      <th>Original</th>\n",
       "      <th>R. Louds Back</th>\n",
       "      <th>R. Louds Opt</th>\n",
       "      <th>R. Dfuds Back</th>\n",
       "      <th>R. Dfuds Opt</th>\n",
       "    </tr>\n",
       "  </thead>\n",
       "  <tbody>\n",
       "    <tr>\n",
       "      <th>0</th>\n",
       "      <td>1</td>\n",
       "      <td>2.4</td>\n",
       "      <td>25.5</td>\n",
       "      <td>41.9</td>\n",
       "      <td>22.9</td>\n",
       "      <td>39.1</td>\n",
       "    </tr>\n",
       "    <tr>\n",
       "      <th>1</th>\n",
       "      <td>10</td>\n",
       "      <td>2.9</td>\n",
       "      <td>32.4</td>\n",
       "      <td>51.1</td>\n",
       "      <td>29.1</td>\n",
       "      <td>47.7</td>\n",
       "    </tr>\n",
       "    <tr>\n",
       "      <th>2</th>\n",
       "      <td>100</td>\n",
       "      <td>7.9</td>\n",
       "      <td>39.6</td>\n",
       "      <td>58.0</td>\n",
       "      <td>36.2</td>\n",
       "      <td>54.3</td>\n",
       "    </tr>\n",
       "    <tr>\n",
       "      <th>3</th>\n",
       "      <td>1000</td>\n",
       "      <td>57.9</td>\n",
       "      <td>90.1</td>\n",
       "      <td>110.4</td>\n",
       "      <td>86.8</td>\n",
       "      <td>108.5</td>\n",
       "    </tr>\n",
       "  </tbody>\n",
       "</table>\n",
       "</div>"
      ],
      "text/plain": [
       "      k  Original  R. Louds Back  R. Louds Opt  R. Dfuds Back  R. Dfuds Opt\n",
       "0     1       2.4           25.5          41.9           22.9          39.1\n",
       "1    10       2.9           32.4          51.1           29.1          47.7\n",
       "2   100       7.9           39.6          58.0           36.2          54.3\n",
       "3  1000      57.9           90.1         110.4           86.8         108.5"
      ]
     },
     "execution_count": 20,
     "metadata": {},
     "output_type": "execute_result"
    }
   ],
   "source": [
    "for i,type_fun in enumerate([0]):#,1]):\n",
    "    file = f\"results-f{type_fun}-time.csv\"\n",
    "    #print(file)\n",
    "    \n",
    "    k_values = [1, 10, 100, 1000]\n",
    "\n",
    "    original = pd.read_csv(f'../../original/results-time-ranked.csv',delimiter=';')\n",
    "    meanOriginal = original.mean(axis=1)\n",
    "\n",
    "    \n",
    "    rankedLoudsBack = pd.read_csv(f'../../ranked/louds/backtracking/{file}', delimiter=';')\n",
    "    rankedLoudsBack = rankedLoudsBack.loc[:, (rankedLoudsBack != 0).any(axis=0)]\n",
    "    meanRankedLoudsBack = rankedLoudsBack.mean(axis=1)\n",
    "    \n",
    "    rankedLoudsNon = pd.read_csv(f'../../ranked/louds/optimalOrder/{file}', delimiter=';')\n",
    "    rankedLoudsNon = rankedLoudsNon.loc[:, (rankedLoudsNon != 0).any(axis=0)]\n",
    "    meanRankedLoudsNon = rankedLoudsNon.mean(axis=1)\n",
    "    \n",
    "    rankedDfudsBack = pd.read_csv(f'../../ranked/dfuds/backtracking/{file}', delimiter=';')\n",
    "    rankedDfudsBack = rankedDfudsBack.loc[:, (rankedDfudsBack != 0).any(axis=0)]\n",
    "    meanRankedDfudsBack = rankedDfudsBack.mean(axis=1)\n",
    "    \n",
    "    rankedDfudsNon = pd.read_csv(f'../../ranked/dfuds/optimalOrder/{file}', delimiter=';')\n",
    "    rankedDfudsNon = rankedDfudsNon.loc[:, (rankedDfudsNon != 0).any(axis=0)]\n",
    "    meanRankedDfudsNon = rankedDfudsNon.mean(axis=1)\n",
    "    \n",
    "    # Combine into a DataFrame\n",
    "    result_table = pd.DataFrame({\n",
    "        \"k\": k_values,\n",
    "        \"Original\": meanOriginal,\n",
    "        \"R. Louds Back\": meanRankedLoudsBack,\n",
    "        \"R. Louds Opt\": meanRankedLoudsNon,\n",
    "        \"R. Dfuds Back\": meanRankedDfudsBack,\n",
    "        \"R. Dfuds Opt\": meanRankedDfudsNon\n",
    "    })\n",
    "    \n",
    "    #result_table.set_index(\"k\")\n",
    "    result_table\n",
    "    \n",
    "\n",
    "result_table.iloc[:, 1:] = result_table.iloc[:, 1:].applymap(lambda x: round(x, 1))\n",
    "result_table['k'] = result_table['k'].astype(int)\n",
    "result_table\n",
    "#result_table.style.set_caption(\"ras\")\n",
    "#result_table.style.background_gradient(axis=None, vmin=1, vmax=5, cmap=\"YlGnBu\")\n",
    "\n",
    "\n",
    "        "
   ]
  },
  {
   "cell_type": "code",
   "execution_count": 21,
   "id": "b0e75b87",
   "metadata": {},
   "outputs": [
    {
     "name": "stdout",
     "output_type": "stream",
     "text": [
      "\\begin{tabular}{rrrrrr}\n",
      "\\toprule\n",
      "k & Original & R. Louds Back & R. Louds Opt & R. Dfuds Back & R. Dfuds Opt \\\\\n",
      "\\midrule\n",
      "1 & 2.40 & 25.50 & 41.90 & 22.90 & 39.10 \\\\\n",
      "10 & 2.90 & 32.40 & 51.10 & 29.10 & 47.70 \\\\\n",
      "100 & 7.90 & 39.60 & 58.00 & 36.20 & 54.30 \\\\\n",
      "1000 & 57.90 & 90.10 & 110.40 & 86.80 & 108.50 \\\\\n",
      "\\bottomrule\n",
      "\\end{tabular}\n",
      "\n"
     ]
    }
   ],
   "source": [
    "# latex table\n",
    "print(result_table.to_latex(index=False,float_format=\"{:,.2f}\".format,))"
   ]
  },
  {
   "cell_type": "code",
   "execution_count": 14,
   "id": "f43537eb",
   "metadata": {},
   "outputs": [],
   "source": [
    "res_rlb =result_table['R. Louds Back']/result_table['Original'] * 100\n",
    "res_rlo=result_table['R. Louds Opt']/result_table['Original'] * 100\n",
    "res_rdb=result_table['R. Dfuds Back']/result_table['Original'] * 100\n",
    "res_rdo=result_table['R. Dfuds Opt']/result_table['Original'] * 100"
   ]
  },
  {
   "cell_type": "code",
   "execution_count": 15,
   "id": "82c7ef17",
   "metadata": {},
   "outputs": [
    {
     "data": {
      "text/html": [
       "<div>\n",
       "<style scoped>\n",
       "    .dataframe tbody tr th:only-of-type {\n",
       "        vertical-align: middle;\n",
       "    }\n",
       "\n",
       "    .dataframe tbody tr th {\n",
       "        vertical-align: top;\n",
       "    }\n",
       "\n",
       "    .dataframe thead th {\n",
       "        text-align: right;\n",
       "    }\n",
       "</style>\n",
       "<table border=\"1\" class=\"dataframe\">\n",
       "  <thead>\n",
       "    <tr style=\"text-align: right;\">\n",
       "      <th></th>\n",
       "      <th>R. Louds Back</th>\n",
       "      <th>R. Louds Opt</th>\n",
       "      <th>R. Dfuds Back</th>\n",
       "      <th>R. Dfuds Opt</th>\n",
       "    </tr>\n",
       "  </thead>\n",
       "  <tbody>\n",
       "    <tr>\n",
       "      <th>0</th>\n",
       "      <td>1062.500000</td>\n",
       "      <td>1745.833333</td>\n",
       "      <td>954.166667</td>\n",
       "      <td>1629.166667</td>\n",
       "    </tr>\n",
       "    <tr>\n",
       "      <th>1</th>\n",
       "      <td>1117.241379</td>\n",
       "      <td>1762.068966</td>\n",
       "      <td>1003.448276</td>\n",
       "      <td>1644.827586</td>\n",
       "    </tr>\n",
       "    <tr>\n",
       "      <th>2</th>\n",
       "      <td>501.265823</td>\n",
       "      <td>734.177215</td>\n",
       "      <td>458.227848</td>\n",
       "      <td>687.341772</td>\n",
       "    </tr>\n",
       "    <tr>\n",
       "      <th>3</th>\n",
       "      <td>155.613126</td>\n",
       "      <td>190.673575</td>\n",
       "      <td>149.913644</td>\n",
       "      <td>187.392055</td>\n",
       "    </tr>\n",
       "  </tbody>\n",
       "</table>\n",
       "</div>"
      ],
      "text/plain": [
       "   R. Louds Back  R. Louds Opt  R. Dfuds Back  R. Dfuds Opt\n",
       "0    1062.500000   1745.833333     954.166667   1629.166667\n",
       "1    1117.241379   1762.068966    1003.448276   1644.827586\n",
       "2     501.265823    734.177215     458.227848    687.341772\n",
       "3     155.613126    190.673575     149.913644    187.392055"
      ]
     },
     "execution_count": 15,
     "metadata": {},
     "output_type": "execute_result"
    }
   ],
   "source": [
    "res_percentaje = pd.DataFrame({\n",
    "        \"R. Louds Back\": res_rlb,\n",
    "        \"R. Louds Opt\": res_rlo,\n",
    "        \"R. Dfuds Back\": res_rdb,\n",
    "        \"R. Dfuds Opt\": res_rdo\n",
    "    })\n",
    "\n",
    "res_percentaje"
   ]
  },
  {
   "cell_type": "code",
   "execution_count": 16,
   "id": "fdecca1a",
   "metadata": {},
   "outputs": [
    {
     "name": "stdout",
     "output_type": "stream",
     "text": [
      "\\begin{tabular}{rrrr}\n",
      "\\toprule\n",
      "R. Louds Back & R. Louds Opt & R. Dfuds Back & R. Dfuds Opt \\\\\n",
      "\\midrule\n",
      "1,062.50 & 1,745.83 & 954.17 & 1,629.17 \\\\\n",
      "1,117.24 & 1,762.07 & 1,003.45 & 1,644.83 \\\\\n",
      "501.27 & 734.18 & 458.23 & 687.34 \\\\\n",
      "155.61 & 190.67 & 149.91 & 187.39 \\\\\n",
      "\\bottomrule\n",
      "\\end{tabular}\n",
      "\n"
     ]
    }
   ],
   "source": [
    "# latex table\n",
    "print(res_percentaje.to_latex(index=False,float_format=\"{:,.2f}\".format,))"
   ]
  },
  {
   "cell_type": "code",
   "execution_count": 17,
   "id": "9cb940b7",
   "metadata": {},
   "outputs": [],
   "source": [
    "\n",
    "alg_label = [\"Original\",\n",
    "             \"R. LOUDS Backtrack.\", \n",
    "             \"R. LOUDS Op. Order\",\n",
    "             \"R. DFUDS Backtrack.\", \n",
    "             \"R. DFUDS Op. Order\"]\n",
    "queries_title_v1000 = [\"J3\",\"J4\",\"P2\",\"P3\",\"P4\",\"S3\",\"T2\",\"T3\",\"T4\",\"Ti2\",\"Ti3\"] #\"S3\",\"T3\",\"Ti4 (log scale)\"\n",
    "queries_label_v1000=[\"j3\",\"j4\",\"p2\",\"p3\",\"p4\",\"s3\",\"t2\",\"t3\",\"t4\",\"ti2\",\"ti3\"] # \"s3\", \"t3\",\"ti4\""
   ]
  },
  {
   "cell_type": "code",
   "execution_count": 9,
   "id": "758dc6b0",
   "metadata": {},
   "outputs": [
    {
     "ename": "FileNotFoundError",
     "evalue": "[Errno 2] No such file or directory: '../../query1000results/original/results-v1000-time-ranked.csv'",
     "output_type": "error",
     "traceback": [
      "\u001b[31m---------------------------------------------------------------------------\u001b[39m",
      "\u001b[31mFileNotFoundError\u001b[39m                         Traceback (most recent call last)",
      "\u001b[36mCell\u001b[39m\u001b[36m \u001b[39m\u001b[32mIn[9]\u001b[39m\u001b[32m, line 8\u001b[39m\n\u001b[32m      4\u001b[39m \u001b[38;5;66;03m#print(file)\u001b[39;00m\n\u001b[32m      6\u001b[39m k_values = [\u001b[32m1\u001b[39m, \u001b[32m10\u001b[39m, \u001b[32m100\u001b[39m, \u001b[32m1000\u001b[39m]\n\u001b[32m----> \u001b[39m\u001b[32m8\u001b[39m original = \u001b[43mpd\u001b[49m\u001b[43m.\u001b[49m\u001b[43mread_csv\u001b[49m\u001b[43m(\u001b[49m\u001b[33;43mf\u001b[39;49m\u001b[33;43m'\u001b[39;49m\u001b[33;43m../../query1000results/original/results-v1000-time-ranked.csv\u001b[39;49m\u001b[33;43m'\u001b[39;49m\u001b[43m,\u001b[49m\u001b[43mdelimiter\u001b[49m\u001b[43m=\u001b[49m\u001b[33;43m'\u001b[39;49m\u001b[33;43m;\u001b[39;49m\u001b[33;43m'\u001b[39;49m\u001b[43m)\u001b[49m\n\u001b[32m      9\u001b[39m meanOriginal = original.mean(axis=\u001b[32m1\u001b[39m)\n\u001b[32m     12\u001b[39m rankedLoudsBack = pd.read_csv(\u001b[33mf\u001b[39m\u001b[33m'\u001b[39m\u001b[33m../../query1000results/ranked/louds/backtracking/\u001b[39m\u001b[38;5;132;01m{\u001b[39;00mfile\u001b[38;5;132;01m}\u001b[39;00m\u001b[33m'\u001b[39m, delimiter=\u001b[33m'\u001b[39m\u001b[33m;\u001b[39m\u001b[33m'\u001b[39m)\n",
      "\u001b[36mFile \u001b[39m\u001b[32m/opt/homebrew/Caskroom/miniforge/base/envs/qdags/lib/python3.13/site-packages/pandas/io/parsers/readers.py:1026\u001b[39m, in \u001b[36mread_csv\u001b[39m\u001b[34m(filepath_or_buffer, sep, delimiter, header, names, index_col, usecols, dtype, engine, converters, true_values, false_values, skipinitialspace, skiprows, skipfooter, nrows, na_values, keep_default_na, na_filter, verbose, skip_blank_lines, parse_dates, infer_datetime_format, keep_date_col, date_parser, date_format, dayfirst, cache_dates, iterator, chunksize, compression, thousands, decimal, lineterminator, quotechar, quoting, doublequote, escapechar, comment, encoding, encoding_errors, dialect, on_bad_lines, delim_whitespace, low_memory, memory_map, float_precision, storage_options, dtype_backend)\u001b[39m\n\u001b[32m   1013\u001b[39m kwds_defaults = _refine_defaults_read(\n\u001b[32m   1014\u001b[39m     dialect,\n\u001b[32m   1015\u001b[39m     delimiter,\n\u001b[32m   (...)\u001b[39m\u001b[32m   1022\u001b[39m     dtype_backend=dtype_backend,\n\u001b[32m   1023\u001b[39m )\n\u001b[32m   1024\u001b[39m kwds.update(kwds_defaults)\n\u001b[32m-> \u001b[39m\u001b[32m1026\u001b[39m \u001b[38;5;28;01mreturn\u001b[39;00m \u001b[43m_read\u001b[49m\u001b[43m(\u001b[49m\u001b[43mfilepath_or_buffer\u001b[49m\u001b[43m,\u001b[49m\u001b[43m \u001b[49m\u001b[43mkwds\u001b[49m\u001b[43m)\u001b[49m\n",
      "\u001b[36mFile \u001b[39m\u001b[32m/opt/homebrew/Caskroom/miniforge/base/envs/qdags/lib/python3.13/site-packages/pandas/io/parsers/readers.py:620\u001b[39m, in \u001b[36m_read\u001b[39m\u001b[34m(filepath_or_buffer, kwds)\u001b[39m\n\u001b[32m    617\u001b[39m _validate_names(kwds.get(\u001b[33m\"\u001b[39m\u001b[33mnames\u001b[39m\u001b[33m\"\u001b[39m, \u001b[38;5;28;01mNone\u001b[39;00m))\n\u001b[32m    619\u001b[39m \u001b[38;5;66;03m# Create the parser.\u001b[39;00m\n\u001b[32m--> \u001b[39m\u001b[32m620\u001b[39m parser = \u001b[43mTextFileReader\u001b[49m\u001b[43m(\u001b[49m\u001b[43mfilepath_or_buffer\u001b[49m\u001b[43m,\u001b[49m\u001b[43m \u001b[49m\u001b[43m*\u001b[49m\u001b[43m*\u001b[49m\u001b[43mkwds\u001b[49m\u001b[43m)\u001b[49m\n\u001b[32m    622\u001b[39m \u001b[38;5;28;01mif\u001b[39;00m chunksize \u001b[38;5;129;01mor\u001b[39;00m iterator:\n\u001b[32m    623\u001b[39m     \u001b[38;5;28;01mreturn\u001b[39;00m parser\n",
      "\u001b[36mFile \u001b[39m\u001b[32m/opt/homebrew/Caskroom/miniforge/base/envs/qdags/lib/python3.13/site-packages/pandas/io/parsers/readers.py:1620\u001b[39m, in \u001b[36mTextFileReader.__init__\u001b[39m\u001b[34m(self, f, engine, **kwds)\u001b[39m\n\u001b[32m   1617\u001b[39m     \u001b[38;5;28mself\u001b[39m.options[\u001b[33m\"\u001b[39m\u001b[33mhas_index_names\u001b[39m\u001b[33m\"\u001b[39m] = kwds[\u001b[33m\"\u001b[39m\u001b[33mhas_index_names\u001b[39m\u001b[33m\"\u001b[39m]\n\u001b[32m   1619\u001b[39m \u001b[38;5;28mself\u001b[39m.handles: IOHandles | \u001b[38;5;28;01mNone\u001b[39;00m = \u001b[38;5;28;01mNone\u001b[39;00m\n\u001b[32m-> \u001b[39m\u001b[32m1620\u001b[39m \u001b[38;5;28mself\u001b[39m._engine = \u001b[38;5;28;43mself\u001b[39;49m\u001b[43m.\u001b[49m\u001b[43m_make_engine\u001b[49m\u001b[43m(\u001b[49m\u001b[43mf\u001b[49m\u001b[43m,\u001b[49m\u001b[43m \u001b[49m\u001b[38;5;28;43mself\u001b[39;49m\u001b[43m.\u001b[49m\u001b[43mengine\u001b[49m\u001b[43m)\u001b[49m\n",
      "\u001b[36mFile \u001b[39m\u001b[32m/opt/homebrew/Caskroom/miniforge/base/envs/qdags/lib/python3.13/site-packages/pandas/io/parsers/readers.py:1880\u001b[39m, in \u001b[36mTextFileReader._make_engine\u001b[39m\u001b[34m(self, f, engine)\u001b[39m\n\u001b[32m   1878\u001b[39m     \u001b[38;5;28;01mif\u001b[39;00m \u001b[33m\"\u001b[39m\u001b[33mb\u001b[39m\u001b[33m\"\u001b[39m \u001b[38;5;129;01mnot\u001b[39;00m \u001b[38;5;129;01min\u001b[39;00m mode:\n\u001b[32m   1879\u001b[39m         mode += \u001b[33m\"\u001b[39m\u001b[33mb\u001b[39m\u001b[33m\"\u001b[39m\n\u001b[32m-> \u001b[39m\u001b[32m1880\u001b[39m \u001b[38;5;28mself\u001b[39m.handles = \u001b[43mget_handle\u001b[49m\u001b[43m(\u001b[49m\n\u001b[32m   1881\u001b[39m \u001b[43m    \u001b[49m\u001b[43mf\u001b[49m\u001b[43m,\u001b[49m\n\u001b[32m   1882\u001b[39m \u001b[43m    \u001b[49m\u001b[43mmode\u001b[49m\u001b[43m,\u001b[49m\n\u001b[32m   1883\u001b[39m \u001b[43m    \u001b[49m\u001b[43mencoding\u001b[49m\u001b[43m=\u001b[49m\u001b[38;5;28;43mself\u001b[39;49m\u001b[43m.\u001b[49m\u001b[43moptions\u001b[49m\u001b[43m.\u001b[49m\u001b[43mget\u001b[49m\u001b[43m(\u001b[49m\u001b[33;43m\"\u001b[39;49m\u001b[33;43mencoding\u001b[39;49m\u001b[33;43m\"\u001b[39;49m\u001b[43m,\u001b[49m\u001b[43m \u001b[49m\u001b[38;5;28;43;01mNone\u001b[39;49;00m\u001b[43m)\u001b[49m\u001b[43m,\u001b[49m\n\u001b[32m   1884\u001b[39m \u001b[43m    \u001b[49m\u001b[43mcompression\u001b[49m\u001b[43m=\u001b[49m\u001b[38;5;28;43mself\u001b[39;49m\u001b[43m.\u001b[49m\u001b[43moptions\u001b[49m\u001b[43m.\u001b[49m\u001b[43mget\u001b[49m\u001b[43m(\u001b[49m\u001b[33;43m\"\u001b[39;49m\u001b[33;43mcompression\u001b[39;49m\u001b[33;43m\"\u001b[39;49m\u001b[43m,\u001b[49m\u001b[43m \u001b[49m\u001b[38;5;28;43;01mNone\u001b[39;49;00m\u001b[43m)\u001b[49m\u001b[43m,\u001b[49m\n\u001b[32m   1885\u001b[39m \u001b[43m    \u001b[49m\u001b[43mmemory_map\u001b[49m\u001b[43m=\u001b[49m\u001b[38;5;28;43mself\u001b[39;49m\u001b[43m.\u001b[49m\u001b[43moptions\u001b[49m\u001b[43m.\u001b[49m\u001b[43mget\u001b[49m\u001b[43m(\u001b[49m\u001b[33;43m\"\u001b[39;49m\u001b[33;43mmemory_map\u001b[39;49m\u001b[33;43m\"\u001b[39;49m\u001b[43m,\u001b[49m\u001b[43m \u001b[49m\u001b[38;5;28;43;01mFalse\u001b[39;49;00m\u001b[43m)\u001b[49m\u001b[43m,\u001b[49m\n\u001b[32m   1886\u001b[39m \u001b[43m    \u001b[49m\u001b[43mis_text\u001b[49m\u001b[43m=\u001b[49m\u001b[43mis_text\u001b[49m\u001b[43m,\u001b[49m\n\u001b[32m   1887\u001b[39m \u001b[43m    \u001b[49m\u001b[43merrors\u001b[49m\u001b[43m=\u001b[49m\u001b[38;5;28;43mself\u001b[39;49m\u001b[43m.\u001b[49m\u001b[43moptions\u001b[49m\u001b[43m.\u001b[49m\u001b[43mget\u001b[49m\u001b[43m(\u001b[49m\u001b[33;43m\"\u001b[39;49m\u001b[33;43mencoding_errors\u001b[39;49m\u001b[33;43m\"\u001b[39;49m\u001b[43m,\u001b[49m\u001b[43m \u001b[49m\u001b[33;43m\"\u001b[39;49m\u001b[33;43mstrict\u001b[39;49m\u001b[33;43m\"\u001b[39;49m\u001b[43m)\u001b[49m\u001b[43m,\u001b[49m\n\u001b[32m   1888\u001b[39m \u001b[43m    \u001b[49m\u001b[43mstorage_options\u001b[49m\u001b[43m=\u001b[49m\u001b[38;5;28;43mself\u001b[39;49m\u001b[43m.\u001b[49m\u001b[43moptions\u001b[49m\u001b[43m.\u001b[49m\u001b[43mget\u001b[49m\u001b[43m(\u001b[49m\u001b[33;43m\"\u001b[39;49m\u001b[33;43mstorage_options\u001b[39;49m\u001b[33;43m\"\u001b[39;49m\u001b[43m,\u001b[49m\u001b[43m \u001b[49m\u001b[38;5;28;43;01mNone\u001b[39;49;00m\u001b[43m)\u001b[49m\u001b[43m,\u001b[49m\n\u001b[32m   1889\u001b[39m \u001b[43m\u001b[49m\u001b[43m)\u001b[49m\n\u001b[32m   1890\u001b[39m \u001b[38;5;28;01massert\u001b[39;00m \u001b[38;5;28mself\u001b[39m.handles \u001b[38;5;129;01mis\u001b[39;00m \u001b[38;5;129;01mnot\u001b[39;00m \u001b[38;5;28;01mNone\u001b[39;00m\n\u001b[32m   1891\u001b[39m f = \u001b[38;5;28mself\u001b[39m.handles.handle\n",
      "\u001b[36mFile \u001b[39m\u001b[32m/opt/homebrew/Caskroom/miniforge/base/envs/qdags/lib/python3.13/site-packages/pandas/io/common.py:873\u001b[39m, in \u001b[36mget_handle\u001b[39m\u001b[34m(path_or_buf, mode, encoding, compression, memory_map, is_text, errors, storage_options)\u001b[39m\n\u001b[32m    868\u001b[39m \u001b[38;5;28;01melif\u001b[39;00m \u001b[38;5;28misinstance\u001b[39m(handle, \u001b[38;5;28mstr\u001b[39m):\n\u001b[32m    869\u001b[39m     \u001b[38;5;66;03m# Check whether the filename is to be opened in binary mode.\u001b[39;00m\n\u001b[32m    870\u001b[39m     \u001b[38;5;66;03m# Binary mode does not support 'encoding' and 'newline'.\u001b[39;00m\n\u001b[32m    871\u001b[39m     \u001b[38;5;28;01mif\u001b[39;00m ioargs.encoding \u001b[38;5;129;01mand\u001b[39;00m \u001b[33m\"\u001b[39m\u001b[33mb\u001b[39m\u001b[33m\"\u001b[39m \u001b[38;5;129;01mnot\u001b[39;00m \u001b[38;5;129;01min\u001b[39;00m ioargs.mode:\n\u001b[32m    872\u001b[39m         \u001b[38;5;66;03m# Encoding\u001b[39;00m\n\u001b[32m--> \u001b[39m\u001b[32m873\u001b[39m         handle = \u001b[38;5;28;43mopen\u001b[39;49m\u001b[43m(\u001b[49m\n\u001b[32m    874\u001b[39m \u001b[43m            \u001b[49m\u001b[43mhandle\u001b[49m\u001b[43m,\u001b[49m\n\u001b[32m    875\u001b[39m \u001b[43m            \u001b[49m\u001b[43mioargs\u001b[49m\u001b[43m.\u001b[49m\u001b[43mmode\u001b[49m\u001b[43m,\u001b[49m\n\u001b[32m    876\u001b[39m \u001b[43m            \u001b[49m\u001b[43mencoding\u001b[49m\u001b[43m=\u001b[49m\u001b[43mioargs\u001b[49m\u001b[43m.\u001b[49m\u001b[43mencoding\u001b[49m\u001b[43m,\u001b[49m\n\u001b[32m    877\u001b[39m \u001b[43m            \u001b[49m\u001b[43merrors\u001b[49m\u001b[43m=\u001b[49m\u001b[43merrors\u001b[49m\u001b[43m,\u001b[49m\n\u001b[32m    878\u001b[39m \u001b[43m            \u001b[49m\u001b[43mnewline\u001b[49m\u001b[43m=\u001b[49m\u001b[33;43m\"\u001b[39;49m\u001b[33;43m\"\u001b[39;49m\u001b[43m,\u001b[49m\n\u001b[32m    879\u001b[39m \u001b[43m        \u001b[49m\u001b[43m)\u001b[49m\n\u001b[32m    880\u001b[39m     \u001b[38;5;28;01melse\u001b[39;00m:\n\u001b[32m    881\u001b[39m         \u001b[38;5;66;03m# Binary mode\u001b[39;00m\n\u001b[32m    882\u001b[39m         handle = \u001b[38;5;28mopen\u001b[39m(handle, ioargs.mode)\n",
      "\u001b[31mFileNotFoundError\u001b[39m: [Errno 2] No such file or directory: '../../query1000results/original/results-v1000-time-ranked.csv'"
     ]
    }
   ],
   "source": [
    "# FOR V1000\n",
    "for i,type_fun in enumerate([0]):#,1]):\n",
    "    file = f\"results-f{type_fun}-v1000-time.csv\"\n",
    "    #print(file)\n",
    "    \n",
    "    k_values = [1, 10, 100, 1000]\n",
    "    \n",
    "    original = pd.read_csv(f'../../query1000results/original/results-v1000-time-ranked.csv',delimiter=';')\n",
    "    meanOriginal = original.mean(axis=1)\n",
    "\n",
    "    \n",
    "    rankedLoudsBack = pd.read_csv(f'../../query1000results/ranked/louds/backtracking/{file}', delimiter=';')\n",
    "    rankedLoudsBack = rankedLoudsBack.loc[:, (rankedLoudsBack != 0).any(axis=0)]\n",
    "    meanRankedLoudsBack = rankedLoudsBack.mean(axis=1)\n",
    "    \n",
    "    rankedLoudsNon = pd.read_csv(f'../../query1000results/ranked/louds/optimalOrder/{file}', delimiter=';')\n",
    "    rankedLoudsNon = rankedLoudsNon.loc[:, (rankedLoudsNon != 0).any(axis=0)]\n",
    "    meanRankedLoudsNon = rankedLoudsNon.mean(axis=1)\n",
    "    \n",
    "    rankedDfudsBack = pd.read_csv(f'../../query1000results/ranked/dfuds/backtracking/{file}', delimiter=';')\n",
    "    rankedDfudsBack = rankedDfudsBack.loc[:, (rankedDfudsBack != 0).any(axis=0)]\n",
    "    meanRankedDfudsBack = rankedDfudsBack.mean(axis=1)\n",
    "    \n",
    "    rankedDfudsNon = pd.read_csv(f'../../query1000results/ranked/dfuds/optimalOrder/{file}', delimiter=';')\n",
    "    rankedDfudsNon = rankedDfudsNon.loc[:, (rankedDfudsNon != 0).any(axis=0)]\n",
    "    meanRankedDfudsNon = rankedDfudsNon.mean(axis=1)\n",
    "    \n",
    "    # Combine into a DataFrame\n",
    "    result_table = pd.DataFrame({\n",
    "        \"k\": k_values,\n",
    "        \"Original\": meanOriginal,\n",
    "        \"R. Louds Back\": meanRankedLoudsBack,\n",
    "        \"R. Louds Opt\": meanRankedLoudsNon,\n",
    "        \"R. Dfuds Back\": meanRankedDfudsBack,\n",
    "        \"R. Dfuds Opt\": meanRankedDfudsNon\n",
    "    })\n",
    "    \n",
    "    #result_table.set_index(\"k\")\n",
    "    result_table\n",
    "    \n",
    "\n",
    "result_table.iloc[:, 1:] = result_table.iloc[:, 1:].applymap(lambda x: round(x, 1))\n",
    "result_table['k'] = result_table['k'].astype(int)\n",
    "result_table\n",
    "#result_table.style.set_caption(\"ras\")\n",
    "#result_table.style.background_gradient(axis=None, vmin=1, vmax=5, cmap=\"YlGnBu\")\n",
    "\n",
    "\n",
    "        "
   ]
  },
  {
   "cell_type": "code",
   "execution_count": 11,
   "id": "4cb6a3f8",
   "metadata": {},
   "outputs": [
    {
     "name": "stdout",
     "output_type": "stream",
     "text": [
      "\\begin{tabular}{rrrrrr}\n",
      "\\toprule\n",
      "   k &  Original &  R. Louds Back &  R. Louds Opt &  R. Dfuds Back &  R. Dfuds Opt \\\\\n",
      "\\midrule\n",
      "   1 &     26.30 &          12.40 &         20.10 &          13.60 &         21.30 \\\\\n",
      "  10 &     27.00 &          18.60 &         24.60 &          21.20 &         26.60 \\\\\n",
      " 100 &     33.90 &          32.00 &         35.40 &          35.30 &         37.60 \\\\\n",
      "1000 &    103.10 &         110.80 &        116.70 &         114.40 &        119.20 \\\\\n",
      "\\bottomrule\n",
      "\\end{tabular}\n",
      "\n"
     ]
    },
    {
     "name": "stderr",
     "output_type": "stream",
     "text": [
      "/var/folders/qg/ggml06zs7tz58wmpl0g0hjhw0000gn/T/ipykernel_7697/1306690107.py:2: FutureWarning: In future versions `DataFrame.to_latex` is expected to utilise the base implementation of `Styler.to_latex` for formatting and rendering. The arguments signature may therefore change. It is recommended instead to use `DataFrame.style.to_latex` which also contains additional functionality.\n",
      "  print(result_table.to_latex(index=False,float_format=\"{:,.2f}\".format,))\n"
     ]
    }
   ],
   "source": [
    "# latex table\n",
    "print(result_table.to_latex(index=False,float_format=\"{:,.2f}\".format,))"
   ]
  },
  {
   "cell_type": "code",
   "execution_count": 12,
   "id": "109a82ba",
   "metadata": {},
   "outputs": [],
   "source": [
    "res_rlb =result_table['R. Louds Back']/result_table['Original'] * 100\n",
    "res_rlo=result_table['R. Louds Opt']/result_table['Original'] * 100\n",
    "res_rdb=result_table['R. Dfuds Back']/result_table['Original'] * 100\n",
    "res_rdo=result_table['R. Dfuds Opt']/result_table['Original'] * 100"
   ]
  },
  {
   "cell_type": "code",
   "execution_count": 13,
   "id": "2bbe6f05",
   "metadata": {},
   "outputs": [
    {
     "data": {
      "text/html": [
       "<div>\n",
       "<style scoped>\n",
       "    .dataframe tbody tr th:only-of-type {\n",
       "        vertical-align: middle;\n",
       "    }\n",
       "\n",
       "    .dataframe tbody tr th {\n",
       "        vertical-align: top;\n",
       "    }\n",
       "\n",
       "    .dataframe thead th {\n",
       "        text-align: right;\n",
       "    }\n",
       "</style>\n",
       "<table border=\"1\" class=\"dataframe\">\n",
       "  <thead>\n",
       "    <tr style=\"text-align: right;\">\n",
       "      <th></th>\n",
       "      <th>R. Louds Back</th>\n",
       "      <th>R. Louds Opt</th>\n",
       "      <th>R. Dfuds Back</th>\n",
       "      <th>R. Dfuds Opt</th>\n",
       "    </tr>\n",
       "  </thead>\n",
       "  <tbody>\n",
       "    <tr>\n",
       "      <th>0</th>\n",
       "      <td>47.148289</td>\n",
       "      <td>76.425856</td>\n",
       "      <td>51.711027</td>\n",
       "      <td>80.988593</td>\n",
       "    </tr>\n",
       "    <tr>\n",
       "      <th>1</th>\n",
       "      <td>68.888889</td>\n",
       "      <td>91.111111</td>\n",
       "      <td>78.518519</td>\n",
       "      <td>98.518519</td>\n",
       "    </tr>\n",
       "    <tr>\n",
       "      <th>2</th>\n",
       "      <td>94.395280</td>\n",
       "      <td>104.424779</td>\n",
       "      <td>104.129794</td>\n",
       "      <td>110.914454</td>\n",
       "    </tr>\n",
       "    <tr>\n",
       "      <th>3</th>\n",
       "      <td>107.468477</td>\n",
       "      <td>113.191077</td>\n",
       "      <td>110.960233</td>\n",
       "      <td>115.615907</td>\n",
       "    </tr>\n",
       "  </tbody>\n",
       "</table>\n",
       "</div>"
      ],
      "text/plain": [
       "   R. Louds Back  R. Louds Opt  R. Dfuds Back  R. Dfuds Opt\n",
       "0      47.148289     76.425856      51.711027     80.988593\n",
       "1      68.888889     91.111111      78.518519     98.518519\n",
       "2      94.395280    104.424779     104.129794    110.914454\n",
       "3     107.468477    113.191077     110.960233    115.615907"
      ]
     },
     "execution_count": 13,
     "metadata": {},
     "output_type": "execute_result"
    }
   ],
   "source": [
    "res_percentaje = pd.DataFrame({\n",
    "        \"R. Louds Back\": res_rlb,\n",
    "        \"R. Louds Opt\": res_rlo,\n",
    "        \"R. Dfuds Back\": res_rdb,\n",
    "        \"R. Dfuds Opt\": res_rdo\n",
    "    })\n",
    "\n",
    "res_percentaje"
   ]
  },
  {
   "cell_type": "code",
   "execution_count": 14,
   "id": "fdd3b848",
   "metadata": {},
   "outputs": [
    {
     "name": "stdout",
     "output_type": "stream",
     "text": [
      "\\begin{tabular}{rrrr}\n",
      "\\toprule\n",
      " R. Louds Back &  R. Louds Opt &  R. Dfuds Back &  R. Dfuds Opt \\\\\n",
      "\\midrule\n",
      "         47.15 &         76.43 &          51.71 &         80.99 \\\\\n",
      "         68.89 &         91.11 &          78.52 &         98.52 \\\\\n",
      "         94.40 &        104.42 &         104.13 &        110.91 \\\\\n",
      "        107.47 &        113.19 &         110.96 &        115.62 \\\\\n",
      "\\bottomrule\n",
      "\\end{tabular}\n",
      "\n"
     ]
    },
    {
     "name": "stderr",
     "output_type": "stream",
     "text": [
      "/var/folders/qg/ggml06zs7tz58wmpl0g0hjhw0000gn/T/ipykernel_7697/1889796537.py:2: FutureWarning: In future versions `DataFrame.to_latex` is expected to utilise the base implementation of `Styler.to_latex` for formatting and rendering. The arguments signature may therefore change. It is recommended instead to use `DataFrame.style.to_latex` which also contains additional functionality.\n",
      "  print(res_percentaje.to_latex(index=False,float_format=\"{:,.2f}\".format,))\n"
     ]
    }
   ],
   "source": [
    "# latex table\n",
    "print(res_percentaje.to_latex(index=False,float_format=\"{:,.2f}\".format,))"
   ]
  }
 ],
 "metadata": {
  "kernelspec": {
   "display_name": "Python 3 (ipykernel)",
   "language": "python",
   "name": "python3"
  },
  "language_info": {
   "codemirror_mode": {
    "name": "ipython",
    "version": 3
   },
   "file_extension": ".py",
   "mimetype": "text/x-python",
   "name": "python",
   "nbconvert_exporter": "python",
   "pygments_lexer": "ipython3",
   "version": "3.13.2"
  }
 },
 "nbformat": 4,
 "nbformat_minor": 5
}
