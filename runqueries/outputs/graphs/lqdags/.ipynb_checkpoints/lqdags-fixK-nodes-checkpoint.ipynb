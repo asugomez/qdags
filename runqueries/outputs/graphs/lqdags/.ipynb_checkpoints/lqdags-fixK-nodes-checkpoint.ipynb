{
 "cells": [
  {
   "cell_type": "code",
   "execution_count": 5,
   "id": "7e6f4ca3",
   "metadata": {},
   "outputs": [],
   "source": [
    "import pandas as pd\n",
    "import matplotlib.pyplot as plt\n",
    "import matplotlib.gridspec as gridspec\n",
    "import numpy as np\n",
    "import seaborn as sns"
   ]
  },
  {
   "cell_type": "code",
   "execution_count": 7,
   "id": "979efeaa",
   "metadata": {},
   "outputs": [],
   "source": [
    "def load_hex_file(file_path):\n",
    "    with open(file_path, 'r') as file:\n",
    "        # Read lines, strip whitespace, and convert from hex to float\n",
    "        return np.array([float.fromhex(line.strip()) for line in file])\n"
   ]
  },
  {
   "cell_type": "code",
   "execution_count": 2,
   "id": "4666ac1e",
   "metadata": {},
   "outputs": [],
   "source": [
    "alg_label = [\"Original\",\n",
    "            \"Lqdags\"]\n",
    "        \n",
    "queries_label = [\"j3\",\"j4\",\"p2\",\"p3\",\"p4\",\"s1\",\"s2\",\"s3\",\"s4\",\"t2\",\"t3\",\"t4\",\"ti2\",\"ti3\",\"ti4\",\"tr1\",\"tr2\"]\n",
    "queries_title = [\"J3\",\"J4\",\"P2\",\"P3\",\"P4\",\"S1\",\"S2\",\"S3\",\"S4\",\"T2\",\"T3\",\"T4\",\"Ti2\",\"Ti3\",\"Ti4\",\"Tr1\",\"Tr2\"]"
   ]
  },
  {
   "cell_type": "code",
   "execution_count": 8,
   "id": "37c190e2",
   "metadata": {},
   "outputs": [
    {
     "ename": "FileNotFoundError",
     "evalue": "[Errno 2] No such file or directory: '../../lqdags/j3-k1000-nodes.txt'",
     "output_type": "error",
     "traceback": [
      "\u001b[0;31m---------------------------------------------------------------------------\u001b[0m",
      "\u001b[0;31mFileNotFoundError\u001b[0m                         Traceback (most recent call last)",
      "Input \u001b[0;32mIn [8]\u001b[0m, in \u001b[0;36m<cell line: 8>\u001b[0;34m()\u001b[0m\n\u001b[1;32m     11\u001b[0m file \u001b[38;5;241m=\u001b[39m \u001b[38;5;124mf\u001b[39m\u001b[38;5;124m\"\u001b[39m\u001b[38;5;132;01m{\u001b[39;00mquery\u001b[38;5;132;01m}\u001b[39;00m\u001b[38;5;124m-k\u001b[39m\u001b[38;5;132;01m{\u001b[39;00mk\u001b[38;5;132;01m}\u001b[39;00m\u001b[38;5;124m-nodes.txt\u001b[39m\u001b[38;5;124m\"\u001b[39m\n\u001b[1;32m     13\u001b[0m original \u001b[38;5;241m=\u001b[39m load_hex_file(\u001b[38;5;124mf\u001b[39m\u001b[38;5;124m'\u001b[39m\u001b[38;5;124m../../original/\u001b[39m\u001b[38;5;132;01m{\u001b[39;00mfile\u001b[38;5;132;01m}\u001b[39;00m\u001b[38;5;124m'\u001b[39m)\n\u001b[0;32m---> 14\u001b[0m lqdags \u001b[38;5;241m=\u001b[39m \u001b[43mload_hex_file\u001b[49m\u001b[43m(\u001b[49m\u001b[38;5;124;43mf\u001b[39;49m\u001b[38;5;124;43m'\u001b[39;49m\u001b[38;5;124;43m../../lqdags/\u001b[39;49m\u001b[38;5;132;43;01m{\u001b[39;49;00m\u001b[43mfile\u001b[49m\u001b[38;5;132;43;01m}\u001b[39;49;00m\u001b[38;5;124;43m'\u001b[39;49m\u001b[43m)\u001b[49m\n\u001b[1;32m     16\u001b[0m data[i] \u001b[38;5;241m=\u001b[39m [original, \n\u001b[1;32m     17\u001b[0m            lqdags]\n",
      "Input \u001b[0;32mIn [7]\u001b[0m, in \u001b[0;36mload_hex_file\u001b[0;34m(file_path)\u001b[0m\n\u001b[1;32m      1\u001b[0m \u001b[38;5;28;01mdef\u001b[39;00m \u001b[38;5;21mload_hex_file\u001b[39m(file_path):\n\u001b[0;32m----> 2\u001b[0m     \u001b[38;5;28;01mwith\u001b[39;00m \u001b[38;5;28;43mopen\u001b[39;49m\u001b[43m(\u001b[49m\u001b[43mfile_path\u001b[49m\u001b[43m,\u001b[49m\u001b[43m \u001b[49m\u001b[38;5;124;43m'\u001b[39;49m\u001b[38;5;124;43mr\u001b[39;49m\u001b[38;5;124;43m'\u001b[39;49m\u001b[43m)\u001b[49m \u001b[38;5;28;01mas\u001b[39;00m file:\n\u001b[1;32m      3\u001b[0m         \u001b[38;5;66;03m# Read lines, strip whitespace, and convert from hex to float\u001b[39;00m\n\u001b[1;32m      4\u001b[0m         \u001b[38;5;28;01mreturn\u001b[39;00m np\u001b[38;5;241m.\u001b[39marray([\u001b[38;5;28mfloat\u001b[39m\u001b[38;5;241m.\u001b[39mfromhex(line\u001b[38;5;241m.\u001b[39mstrip()) \u001b[38;5;28;01mfor\u001b[39;00m line \u001b[38;5;129;01min\u001b[39;00m file])\n",
      "\u001b[0;31mFileNotFoundError\u001b[0m: [Errno 2] No such file or directory: '../../lqdags/j3-k1000-nodes.txt'"
     ]
    }
   ],
   "source": [
    "data = []\n",
    "rows, cols = 17, 2\n",
    "row_template = [0] * cols\n",
    "data = [row_template[:] for _ in range(rows)]\n",
    "\n",
    "#ti4.set_yscale('log')  # Use logarithmic scale if the difference is large\n",
    "\n",
    "for type_fun in [0]:#,1]:\n",
    "    for k in [1000]: \n",
    "        for i,query in enumerate(queries_label): \n",
    "            file = f\"{query}-k{k}-nodes.txt\"\n",
    "\n",
    "            original = load_hex_file(f'../../original/{file}')\n",
    "            lqdags = load_hex_file(f'../../lqdags/{file}')\n",
    "  \n",
    "            data[i] = [original, \n",
    "                       lqdags]\n"
   ]
  },
  {
   "cell_type": "code",
   "execution_count": 8,
   "id": "5dc8cf96",
   "metadata": {},
   "outputs": [],
   "source": [
    "# colors:\n",
    "# https://matplotlib.org/stable/gallery/color/named_colors.html\n",
    "#colors = ['hotpink','red','peru']#, 'lightsalmon', 'gold', 'dodgerblue', 'darkturquoise', 'mediumspringgreen', 'lime']\n",
    "colors = ['red', 'dodgerblue']#, 'darkturquoise', 'mediumspringgreen', 'lime']\n"
   ]
  },
  {
   "cell_type": "code",
   "execution_count": 9,
   "id": "8792848b",
   "metadata": {
    "scrolled": true
   },
   "outputs": [
    {
     "ename": "NameError",
     "evalue": "name 'colors' is not defined",
     "output_type": "error",
     "traceback": [
      "\u001b[0;31m---------------------------------------------------------------------------\u001b[0m",
      "\u001b[0;31mNameError\u001b[0m                                 Traceback (most recent call last)",
      "Input \u001b[0;32mIn [9]\u001b[0m, in \u001b[0;36m<cell line: 36>\u001b[0;34m()\u001b[0m\n\u001b[1;32m     36\u001b[0m \u001b[38;5;28;01mfor\u001b[39;00m i, query \u001b[38;5;129;01min\u001b[39;00m \u001b[38;5;28menumerate\u001b[39m([j3, j4, p2, p3, p4, s1, s2, s3, s4, t2, t3, t4, ti2, ti3, ti4, tr1, tr2]):\n\u001b[1;32m     37\u001b[0m     \u001b[38;5;28;01mfor\u001b[39;00m j, alg \u001b[38;5;129;01min\u001b[39;00m \u001b[38;5;28menumerate\u001b[39m(alg_label):\n\u001b[1;32m     38\u001b[0m         bp \u001b[38;5;241m=\u001b[39m query\u001b[38;5;241m.\u001b[39mboxplot(data[i][j], positions\u001b[38;5;241m=\u001b[39m[j], whis\u001b[38;5;241m=\u001b[39m\u001b[38;5;241m1\u001b[39m, widths\u001b[38;5;241m=\u001b[39m\u001b[38;5;241m0.4\u001b[39m, patch_artist\u001b[38;5;241m=\u001b[39m\u001b[38;5;28;01mTrue\u001b[39;00m, \n\u001b[0;32m---> 39\u001b[0m                            boxprops\u001b[38;5;241m=\u001b[39m\u001b[38;5;28mdict\u001b[39m(facecolor\u001b[38;5;241m=\u001b[39m\u001b[43mcolors\u001b[49m[j], color\u001b[38;5;241m=\u001b[39mcolors[j], label\u001b[38;5;241m=\u001b[39malg_label[j]),\n\u001b[1;32m     40\u001b[0m                            medianprops\u001b[38;5;241m=\u001b[39m\u001b[38;5;28mdict\u001b[39m(color\u001b[38;5;241m=\u001b[39m\u001b[38;5;124m'\u001b[39m\u001b[38;5;124mblueviolet\u001b[39m\u001b[38;5;124m'\u001b[39m))\n\u001b[1;32m     41\u001b[0m     query\u001b[38;5;241m.\u001b[39mset_yscale(\u001b[38;5;124m'\u001b[39m\u001b[38;5;124mlog\u001b[39m\u001b[38;5;124m'\u001b[39m)\n\u001b[1;32m     42\u001b[0m     query\u001b[38;5;241m.\u001b[39mset_title(queries_title[i])\n",
      "\u001b[0;31mNameError\u001b[0m: name 'colors' is not defined"
     ]
    },
    {
     "data": {
      "image/png": "[encoded data removed]",
      "text/plain": [
       "<Figure size 1008x720 with 18 Axes>"
      ]
     },
     "metadata": {
      "needs_background": "light"
     },
     "output_type": "display_data"
    }
   ],
   "source": [
    "# Crear la figura\n",
    "fig = plt.figure(figsize=(14,10))\n",
    "\n",
    "# Crear un GridSpec con la distribución deseada\n",
    "gs = gridspec.GridSpec(3, 6, figure=fig, hspace=0.1, wspace=0.2)\n",
    "\n",
    "# Añadir los subplots a la figura\n",
    "j3 = fig.add_subplot(gs[0, 0])\n",
    "j4 = fig.add_subplot(gs[0, 1],sharey=j3)\n",
    "p2 = fig.add_subplot(gs[0, 2],sharey=j3)\n",
    "p3 = fig.add_subplot(gs[0, 3],sharey=j3)\n",
    "p4 = fig.add_subplot(gs[0, 4], sharey=j3)\n",
    "color_legend = fig.add_subplot(gs[0, 5]) # Space for the legend\n",
    "color_legend.axis('off')  # Hide the axis\n",
    "\n",
    "s1 = fig.add_subplot(gs[1, 0])\n",
    "s2 = fig.add_subplot(gs[1, 1],sharey=s1)\n",
    "s3 = fig.add_subplot(gs[1, 2],sharey=s1)\n",
    "s4 = fig.add_subplot(gs[1, 3],sharey=s1)\n",
    "t2 = fig.add_subplot(gs[1, 4],sharey=s1)\n",
    "t3 = fig.add_subplot(gs[1, 5], sharey=s1)\n",
    "\n",
    "t4 = fig.add_subplot(gs[2, 0])\n",
    "ti2 = fig.add_subplot(gs[2, 1],sharey=t4)\n",
    "ti3 = fig.add_subplot(gs[2, 2],sharey=t4)\n",
    "ti4 = fig.add_subplot(gs[2, 3], sharey=t4)\n",
    "tr1 = fig.add_subplot(gs[2, 4],sharey=t4)\n",
    "tr2 = fig.add_subplot(gs[2, 5],sharey=t4)\n",
    "\n",
    "j3.set_ylabel('Nodes visited')\n",
    "s1.set_ylabel('Nodes visited')\n",
    "t4.set_ylabel('Nodes visited')\n",
    "\n",
    "\n",
    "# Plot as usual\n",
    "for i, query in enumerate([j3, j4, p2, p3, p4, s1, s2, s3, s4, t2, t3, t4, ti2, ti3, ti4, tr1, tr2]):\n",
    "    for j, alg in enumerate(alg_label):\n",
    "        bp = query.boxplot(data[i][j], positions=[j], whis=1, widths=0.4, patch_artist=True, \n",
    "                           boxprops=dict(facecolor=colors[j], color=colors[j], label=alg_label[j]),\n",
    "                           medianprops=dict(color='blueviolet'))\n",
    "#    query.set_yscale('log')\n",
    "    query.set_title(queries_title[i])\n",
    "    query.axes.get_xaxis().set_visible(False)\n",
    "    if query != j3 and query != s1 and query != t4:\n",
    "        query.axes.get_yaxis().set_visible(False)\n",
    "        \n",
    "        \n",
    "        \n",
    "handles, labels = j3.get_legend_handles_labels()\n",
    "color_legend.legend(\n",
    "    handles,\n",
    "    labels,\n",
    "    loc='center',\n",
    "    fontsize=12,  # Increase font size for the legend\n",
    "    title='Algorithms',  # Add title\n",
    "    title_fontsize=13  # Set font size for the title\n",
    ")\n",
    "\n",
    "    \n",
    "fig.suptitle('Number of nodes visited to retrieve k=1000 results\\n (Lazy qdags)', fontsize=18, fontweight='bold')\n",
    "\n",
    "    \n",
    "plt.savefig('/Users/asugomez/Desktop/Magister/Tesis/tesisQdags/imagenes/lqdags_fix_k-nodes.pdf')\n",
    "\n",
    "plt.show()\n"
   ]
  },
  {
   "cell_type": "code",
   "execution_count": 11,
   "id": "d2c13146",
   "metadata": {},
   "outputs": [],
   "source": [
    "queries_label_v1000=[\"j3\",\"j4\",\"p2\",\"p3\",\"p4\",\"s3\",\"t2\",\"t3\",\"t4\",\"ti2\",\"ti3\",\"ti4\"]\n",
    "queries_title_v1000 = [\"J3\",\"J4\",\"P2\",\"P3\",\"P4\",\"S3\",\"T2\",\"T3\",\"T4\",\"Ti2\",\"Ti3\",\"Ti4\"]"
   ]
  },
  {
   "cell_type": "code",
   "execution_count": 12,
   "id": "d3c71767",
   "metadata": {},
   "outputs": [
    {
     "ename": "FileNotFoundError",
     "evalue": "[Errno 2] No such file or directory: '../../query1000results/lqdags/j3-k1000-v1000-nodes.txt'",
     "output_type": "error",
     "traceback": [
      "\u001b[0;31m---------------------------------------------------------------------------\u001b[0m",
      "\u001b[0;31mFileNotFoundError\u001b[0m                         Traceback (most recent call last)",
      "Input \u001b[0;32mIn [12]\u001b[0m, in \u001b[0;36m<cell line: 7>\u001b[0;34m()\u001b[0m\n\u001b[1;32m     10\u001b[0m             file \u001b[38;5;241m=\u001b[39m \u001b[38;5;124mf\u001b[39m\u001b[38;5;124m\"\u001b[39m\u001b[38;5;132;01m{\u001b[39;00mquery\u001b[38;5;132;01m}\u001b[39;00m\u001b[38;5;124m-k\u001b[39m\u001b[38;5;132;01m{\u001b[39;00mk\u001b[38;5;132;01m}\u001b[39;00m\u001b[38;5;124m-v1000-nodes.txt\u001b[39m\u001b[38;5;124m\"\u001b[39m\n\u001b[1;32m     12\u001b[0m             original \u001b[38;5;241m=\u001b[39m load_hex_file(\u001b[38;5;124mf\u001b[39m\u001b[38;5;124m'\u001b[39m\u001b[38;5;124m../../query1000results/original/\u001b[39m\u001b[38;5;132;01m{\u001b[39;00mfile\u001b[38;5;132;01m}\u001b[39;00m\u001b[38;5;124m'\u001b[39m)\n\u001b[0;32m---> 13\u001b[0m             lqdags \u001b[38;5;241m=\u001b[39m \u001b[43mload_hex_file\u001b[49m\u001b[43m(\u001b[49m\u001b[38;5;124;43mf\u001b[39;49m\u001b[38;5;124;43m'\u001b[39;49m\u001b[38;5;124;43m../../query1000results/lqdags/\u001b[39;49m\u001b[38;5;132;43;01m{\u001b[39;49;00m\u001b[43mfile\u001b[49m\u001b[38;5;132;43;01m}\u001b[39;49;00m\u001b[38;5;124;43m'\u001b[39;49m\u001b[43m)\u001b[49m\n\u001b[1;32m     16\u001b[0m             data_v1000[i] \u001b[38;5;241m=\u001b[39m [original, \n\u001b[1;32m     17\u001b[0m                        lqdags]\n\u001b[1;32m     18\u001b[0m data_v1000[\u001b[38;5;241m1\u001b[39m][\u001b[38;5;241m0\u001b[39m]\n",
      "Input \u001b[0;32mIn [7]\u001b[0m, in \u001b[0;36mload_hex_file\u001b[0;34m(file_path)\u001b[0m\n\u001b[1;32m      1\u001b[0m \u001b[38;5;28;01mdef\u001b[39;00m \u001b[38;5;21mload_hex_file\u001b[39m(file_path):\n\u001b[0;32m----> 2\u001b[0m     \u001b[38;5;28;01mwith\u001b[39;00m \u001b[38;5;28;43mopen\u001b[39;49m\u001b[43m(\u001b[49m\u001b[43mfile_path\u001b[49m\u001b[43m,\u001b[49m\u001b[43m \u001b[49m\u001b[38;5;124;43m'\u001b[39;49m\u001b[38;5;124;43mr\u001b[39;49m\u001b[38;5;124;43m'\u001b[39;49m\u001b[43m)\u001b[49m \u001b[38;5;28;01mas\u001b[39;00m file:\n\u001b[1;32m      3\u001b[0m         \u001b[38;5;66;03m# Read lines, strip whitespace, and convert from hex to float\u001b[39;00m\n\u001b[1;32m      4\u001b[0m         \u001b[38;5;28;01mreturn\u001b[39;00m np\u001b[38;5;241m.\u001b[39marray([\u001b[38;5;28mfloat\u001b[39m\u001b[38;5;241m.\u001b[39mfromhex(line\u001b[38;5;241m.\u001b[39mstrip()) \u001b[38;5;28;01mfor\u001b[39;00m line \u001b[38;5;129;01min\u001b[39;00m file])\n",
      "\u001b[0;31mFileNotFoundError\u001b[0m: [Errno 2] No such file or directory: '../../query1000results/lqdags/j3-k1000-v1000-nodes.txt'"
     ]
    }
   ],
   "source": [
    "rows, cols = 17, 2\n",
    "row_template = [0] * cols\n",
    "data_v1000 = [row_template[:] for _ in range(rows)]\n",
    "\n",
    "#ti4.set_yscale('log')  # Use logarithmic scale if the difference is large\n",
    "\n",
    "for type_fun in [0]:#,1]:\n",
    "    for k in [1000]: \n",
    "        for i,query in enumerate(queries_label_v1000): \n",
    "            file = f\"{query}-k{k}-v1000-nodes.txt\"\n",
    "            \n",
    "            original = load_hex_file(f'../../query1000results/original/{file}')\n",
    "            lqdags = load_hex_file(f'../../query1000results/lqdags/{file}')\n",
    "            \n",
    "  \n",
    "            data_v1000[i] = [original, \n",
    "                       lqdags]\n",
    "data_v1000[1][0]"
   ]
  },
  {
   "cell_type": "code",
   "execution_count": 13,
   "id": "6b000cc4",
   "metadata": {},
   "outputs": [
    {
     "ename": "NameError",
     "evalue": "name 'colors' is not defined",
     "output_type": "error",
     "traceback": [
      "\u001b[0;31m---------------------------------------------------------------------------\u001b[0m",
      "\u001b[0;31mNameError\u001b[0m                                 Traceback (most recent call last)",
      "Input \u001b[0;32mIn [13]\u001b[0m, in \u001b[0;36m<cell line: 40>\u001b[0;34m()\u001b[0m\n\u001b[1;32m     40\u001b[0m \u001b[38;5;28;01mfor\u001b[39;00m i, query \u001b[38;5;129;01min\u001b[39;00m \u001b[38;5;28menumerate\u001b[39m([j3,j4,p2,p3,p4,s3,t2,t3,t4,ti2,ti3]): \n\u001b[1;32m     41\u001b[0m     \u001b[38;5;28;01mfor\u001b[39;00m j, alg \u001b[38;5;129;01min\u001b[39;00m \u001b[38;5;28menumerate\u001b[39m(alg_label):\n\u001b[1;32m     42\u001b[0m         bp \u001b[38;5;241m=\u001b[39m query\u001b[38;5;241m.\u001b[39mboxplot(data_v1000[i][j], positions\u001b[38;5;241m=\u001b[39m[j], whis\u001b[38;5;241m=\u001b[39m\u001b[38;5;241m1\u001b[39m, widths\u001b[38;5;241m=\u001b[39m\u001b[38;5;241m0.4\u001b[39m, patch_artist\u001b[38;5;241m=\u001b[39m\u001b[38;5;28;01mTrue\u001b[39;00m, \n\u001b[0;32m---> 43\u001b[0m                            boxprops\u001b[38;5;241m=\u001b[39m\u001b[38;5;28mdict\u001b[39m(facecolor\u001b[38;5;241m=\u001b[39m\u001b[43mcolors\u001b[49m[j], color\u001b[38;5;241m=\u001b[39mcolors[j], label\u001b[38;5;241m=\u001b[39malg_label[j]),\n\u001b[1;32m     44\u001b[0m                            medianprops\u001b[38;5;241m=\u001b[39m\u001b[38;5;28mdict\u001b[39m(color\u001b[38;5;241m=\u001b[39m\u001b[38;5;124m'\u001b[39m\u001b[38;5;124mblueviolet\u001b[39m\u001b[38;5;124m'\u001b[39m))\n\u001b[1;32m     45\u001b[0m     query\u001b[38;5;241m.\u001b[39mset_yscale(\u001b[38;5;124m'\u001b[39m\u001b[38;5;124mlog\u001b[39m\u001b[38;5;124m'\u001b[39m)\n\u001b[1;32m     46\u001b[0m     query\u001b[38;5;241m.\u001b[39mset_title(queries_title_v1000[i])\n",
      "\u001b[0;31mNameError\u001b[0m: name 'colors' is not defined"
     ]
    },
    {
     "data": {
      "image/png": "[encoded data removed]",
      "text/plain": [
       "<Figure size 1008x576 with 12 Axes>"
      ]
     },
     "metadata": {
      "needs_background": "light"
     },
     "output_type": "display_data"
    }
   ],
   "source": [
    "# Crear la figura\n",
    "fig = plt.figure(figsize=(14, 8))\n",
    "\n",
    "# Crear un GridSpec con la distribución deseada\n",
    "gs = gridspec.GridSpec(4, 3, figure=fig, hspace=0.2, wspace=0.1)\n",
    "\n",
    "# Añadir los subplots a la figura\n",
    "j3 = fig.add_subplot(gs[0, 0])\n",
    "p4 = fig.add_subplot(gs[0, 1],sharey=j3)\n",
    "t3 = fig.add_subplot(gs[0, 2],sharey=j3)\n",
    "\n",
    "p2 = fig.add_subplot(gs[1, 0])\n",
    "j4 = fig.add_subplot(gs[1, 1],sharey=p2)\n",
    "ti2 = fig.add_subplot(gs[1, 2],sharey=p2)\n",
    "\n",
    "s3 = fig.add_subplot(gs[2, 0])\n",
    "t2 = fig.add_subplot(gs[2, 1],sharey=s3)\n",
    "p3 = fig.add_subplot(gs[2, 2],sharey=s3)\n",
    "\n",
    "t4 = fig.add_subplot(gs[3, 0])\n",
    "ti3 = fig.add_subplot(gs[3, 1])\n",
    "color_legend = fig.add_subplot(gs[3, 2]) # Space for the legend\n",
    "color_legend.axis('off')  # Hide the axis\n",
    "#ti4 = fig.add_subplot(gs[2, 3], sharex=j3, sharey=j3)\n",
    "#tr2 = fig.add_subplot(gs[2, 3])\n",
    "#tr1 = fig.add_subplot(gs[2, 4])\n",
    "#tr2 = fig.add_subplot(gs[2, 5], sharex=j3, sharey=j3)\n",
    "#ti4 = fig.add_subplot(gs[2, 5])\n",
    "\n",
    "j3.set_ylabel('Nodes visited')\n",
    "p2.set_ylabel('Nodes visited')\n",
    "s3.set_ylabel('Nodes visited')\n",
    "t4.set_ylabel('Nodes visited')\n",
    "\n",
    "t4.set_xlabel('k results')\n",
    "ti3.set_xlabel('k results')\n",
    "\n",
    "\n",
    "# Plot as usual\n",
    "for i, query in enumerate([j3,j4,p2,p3,p4,s3,t2,t3,t4,ti2,ti3]): \n",
    "    for j, alg in enumerate(alg_label):\n",
    "        bp = query.boxplot(data_v1000[i][j], positions=[j], whis=1, widths=0.4, patch_artist=True, \n",
    "                           boxprops=dict(facecolor=colors[j], color=colors[j], label=alg_label[j]),\n",
    "                           medianprops=dict(color='blueviolet'))\n",
    "    #query.set_yscale('log')\n",
    "    query.set_title(queries_title_v1000[i])\n",
    "    query.axes.get_xaxis().set_visible(False)\n",
    "    if query != j3 and query != p2 and query != s3 and query != t4:\n",
    "        query.axes.get_yaxis().set_visible(False)\n",
    "        \n",
    "        \n",
    "        \n",
    "handles, labels = j3.get_legend_handles_labels()\n",
    "color_legend.legend(\n",
    "    handles,\n",
    "    labels,\n",
    "    loc='center',\n",
    "    fontsize=12,  # Increase font size for the legend\n",
    "    title='Algorithms',  # Add title\n",
    "    title_fontsize=13  # Set font size for the title\n",
    ")\n",
    "\n",
    "    \n",
    "fig.suptitle('Number of nodes visited to retrieve the first k results \\n (Lazy qdags)', fontsize=18, fontweight='bold')\n",
    "\n",
    "    \n",
    "plt.savefig('/Users/asugomez/Desktop/Magister/Tesis/tesisQdags/imagenes/lqdags_fix_k_v1000-nodes.pdf')\n",
    "\n",
    "plt.show()\n"
   ]
  }
 ],
 "metadata": {
  "kernelspec": {
   "display_name": "Python 3 (ipykernel)",
   "language": "python",
   "name": "python3"
  },
  "language_info": {
   "codemirror_mode": {
    "name": "ipython",
    "version": 3
   },
   "file_extension": ".py",
   "mimetype": "text/x-python",
   "name": "python",
   "nbconvert_exporter": "python",
   "pygments_lexer": "ipython3",
   "version": "3.9.10"
  }
 },
 "nbformat": 4,
 "nbformat_minor": 5
}
